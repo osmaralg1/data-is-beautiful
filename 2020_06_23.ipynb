{
  "nbformat": 4,
  "nbformat_minor": 0,
  "metadata": {
    "colab": {
      "name": "2020_06_23",
      "provenance": [],
      "collapsed_sections": [],
      "include_colab_link": true
    },
    "kernelspec": {
      "name": "python3",
      "display_name": "Python 3"
    }
  },
  "cells": [
    {
      "cell_type": "markdown",
      "metadata": {
        "id": "view-in-github",
        "colab_type": "text"
      },
      "source": [
        "<a href=\"https://colab.research.google.com/github/osmaralg1/data-is-beautiful/blob/master/2020_06_23.ipynb\" target=\"_parent\"><img src=\"https://colab.research.google.com/assets/colab-badge.svg\" alt=\"Open In Colab\"/></a>"
      ]
    },
    {
      "cell_type": "code",
      "metadata": {
        "id": "PaABBYhiLYYt",
        "colab_type": "code",
        "colab": {}
      },
      "source": [
        "import sklearn\n",
        "import pandas as pd\n",
        "import matplotlib.pyplot as plt\n",
        "import seaborn as sns\n",
        "import warnings\n",
        "warnings.filterwarnings('ignore')"
      ],
      "execution_count": null,
      "outputs": []
    },
    {
      "cell_type": "code",
      "metadata": {
        "id": "Y-nDD_6WNiSC",
        "colab_type": "code",
        "colab": {}
      },
      "source": [
        "from pydrive.auth import GoogleAuth\n",
        "from pydrive.drive import GoogleDrive\n",
        "from google.colab import auth\n",
        "from oauth2client.client import GoogleCredentials"
      ],
      "execution_count": null,
      "outputs": []
    },
    {
      "cell_type": "code",
      "metadata": {
        "id": "25QnYXkiO0We",
        "colab_type": "code",
        "colab": {}
      },
      "source": [
        "auth.authenticate_user()\n",
        "gauth = GoogleAuth()\n",
        "gauth.credentials = GoogleCredentials.get_application_default()\n",
        "drive = GoogleDrive(gauth)"
      ],
      "execution_count": null,
      "outputs": []
    },
    {
      "cell_type": "code",
      "metadata": {
        "id": "b_7VgYPGPSUK",
        "colab_type": "code",
        "colab": {
          "base_uri": "https://localhost:8080/",
          "height": 34
        },
        "outputId": "6814b4e0-7146-4dc2-cef7-2ffaaca7c001"
      },
      "source": [
        "from google.colab import drive\n",
        "drive.mount('/content/drive')"
      ],
      "execution_count": null,
      "outputs": [
        {
          "output_type": "stream",
          "text": [
            "Drive already mounted at /content/drive; to attempt to forcibly remount, call drive.mount(\"/content/drive\", force_remount=True).\n"
          ],
          "name": "stdout"
        }
      ]
    },
    {
      "cell_type": "code",
      "metadata": {
        "id": "dX6n2CBuPfbU",
        "colab_type": "code",
        "colab": {}
      },
      "source": [
        "file_path = 'drive/My Drive/Colab Notebooks/MK22085.csv'\n",
        "file_path = 'drive/My Drive/Colab Notebooks/MK20318.csv'\n"
      ],
      "execution_count": null,
      "outputs": []
    },
    {
      "cell_type": "code",
      "metadata": {
        "id": "_5BOWJEXQcdZ",
        "colab_type": "code",
        "colab": {}
      },
      "source": [
        "\n",
        "data = pd.read_csv(file_path, sep= ';',delimiter = ';',encoding = \"utf-8\", engine='python',error_bad_lines=True, )"
      ],
      "execution_count": null,
      "outputs": []
    },
    {
      "cell_type": "code",
      "metadata": {
        "id": "hPl3k0JLTdZ3",
        "colab_type": "code",
        "colab": {
          "base_uri": "https://localhost:8080/",
          "height": 164
        },
        "outputId": "a0c393e0-89ec-40e3-9712-dd93270e1499"
      },
      "source": [
        "data.shape"
      ],
      "execution_count": null,
      "outputs": [
        {
          "output_type": "error",
          "ename": "NameError",
          "evalue": "ignored",
          "traceback": [
            "\u001b[0;31m---------------------------------------------------------------------------\u001b[0m",
            "\u001b[0;31mNameError\u001b[0m                                 Traceback (most recent call last)",
            "\u001b[0;32m<ipython-input-1-047ed65ff157>\u001b[0m in \u001b[0;36m<module>\u001b[0;34m()\u001b[0m\n\u001b[0;32m----> 1\u001b[0;31m \u001b[0mdata\u001b[0m\u001b[0;34m.\u001b[0m\u001b[0mshape\u001b[0m\u001b[0;34m\u001b[0m\u001b[0;34m\u001b[0m\u001b[0m\n\u001b[0m",
            "\u001b[0;31mNameError\u001b[0m: name 'data' is not defined"
          ]
        }
      ]
    },
    {
      "cell_type": "code",
      "metadata": {
        "id": "2gst-11QTNj9",
        "colab_type": "code",
        "colab": {
          "base_uri": "https://localhost:8080/",
          "height": 411
        },
        "outputId": "4a2cf04e-978c-4b9f-d481-42a334dd2bf0"
      },
      "source": [
        "data.head()"
      ],
      "execution_count": null,
      "outputs": [
        {
          "output_type": "execute_result",
          "data": {
            "text/html": [
              "<div>\n",
              "<style scoped>\n",
              "    .dataframe tbody tr th:only-of-type {\n",
              "        vertical-align: middle;\n",
              "    }\n",
              "\n",
              "    .dataframe tbody tr th {\n",
              "        vertical-align: top;\n",
              "    }\n",
              "\n",
              "    .dataframe thead th {\n",
              "        text-align: right;\n",
              "    }\n",
              "</style>\n",
              "<table border=\"1\" class=\"dataframe\">\n",
              "  <thead>\n",
              "    <tr style=\"text-align: right;\">\n",
              "      <th></th>\n",
              "      <th>OBJ_ID</th>\n",
              "      <th>AUF_ID</th>\n",
              "      <th>Stoerungsnummer</th>\n",
              "      <th>Bezeichnung</th>\n",
              "      <th>STOERSTATUS</th>\n",
              "      <th>Gemeldet_am</th>\n",
              "      <th>Unnamed: 6</th>\n",
              "      <th>Time_Differenz_Betwwen_Two_Same_Event</th>\n",
              "      <th>Time_Differnz</th>\n",
              "      <th>Behebdatum</th>\n",
              "      <th>Stoerungsende</th>\n",
              "      <th>Meldung_DURCH_BENUTZER</th>\n",
              "      <th>Stoerungsart</th>\n",
              "      <th>STILLSTAND</th>\n",
              "      <th>Stillstandszeit</th>\n",
              "      <th>Berechnete Dauer</th>\n",
              "      <th>Stoerungsdauer</th>\n",
              "      <th>Anlagenkennzeichen</th>\n",
              "      <th>Maschine</th>\n",
              "      <th>Maschinentyp</th>\n",
              "      <th>Prio_Maschine</th>\n",
              "      <th>Kritische_Maschine</th>\n",
              "      <th>Zustaendiges_IH_Team</th>\n",
              "      <th>Kst_Nummer</th>\n",
              "      <th>POSITION_MELDER</th>\n",
              "      <th>POSITION_BEHEB</th>\n",
              "      <th>Auftragsnummer</th>\n",
              "      <th>AUFTRAGSSTATUS</th>\n",
              "      <th>Instandsetzungsauftrag</th>\n",
              "      <th>Schadensmeldung</th>\n",
              "      <th>BEARBEITET_DURCH</th>\n",
              "      <th>Arbeitszeit</th>\n",
              "      <th>Kosten</th>\n",
              "      <th>Zustaendig</th>\n",
              "      <th>ABC-Indikator</th>\n",
              "      <th>Equipmenttyp</th>\n",
              "      <th>GFT Kostenstelle</th>\n",
              "      <th>Action</th>\n",
              "      <th>Action1</th>\n",
              "      <th>Action2</th>\n",
              "      <th>Personal_Kosten</th>\n",
              "      <th>Material_Kosten</th>\n",
              "      <th>Sonstige_Kosten</th>\n",
              "      <th>Personal_Kost_Hour</th>\n",
              "    </tr>\n",
              "  </thead>\n",
              "  <tbody>\n",
              "    <tr>\n",
              "      <th>0</th>\n",
              "      <td>100053471</td>\n",
              "      <td>100157407</td>\n",
              "      <td>E07002961</td>\n",
              "      <td>Alterung/Abnutzung/Verschleiß [MK20318] Durchs...</td>\n",
              "      <td>Behoben</td>\n",
              "      <td>3.5.2007 15:28:00</td>\n",
              "      <td>NaN</td>\n",
              "      <td>NaN</td>\n",
              "      <td>423.0</td>\n",
              "      <td>NaN</td>\n",
              "      <td>3.5.2007 22:28:00</td>\n",
              "      <td>FPICK</td>\n",
              "      <td>Instandhaltungsmeldung</td>\n",
              "      <td>Nein</td>\n",
              "      <td>NaN</td>\n",
              "      <td>7</td>\n",
              "      <td>6,99999999994179</td>\n",
              "      <td>MK20318</td>\n",
              "      <td>Durchstossofen - C</td>\n",
              "      <td>Durchstossofen</td>\n",
              "      <td>Prio 2</td>\n",
              "      <td>Nein</td>\n",
              "      <td>IH-Team Härtereielektrik</td>\n",
              "      <td>2204163000</td>\n",
              "      <td>Kolonnenführer</td>\n",
              "      <td>Unbekannt</td>\n",
              "      <td>7012527</td>\n",
              "      <td>Erledigt</td>\n",
              "      <td>RPIH Aichelin</td>\n",
              "      <td>Alterung/Abnutzung/Verschleiß</td>\n",
              "      <td>IH-Team Prädiktive</td>\n",
              "      <td>7</td>\n",
              "      <td>1044,83</td>\n",
              "      <td>IH-Team Prädiktive</td>\n",
              "      <td>A - Production uncritical</td>\n",
              "      <td>O - (heat treatment)</td>\n",
              "      <td>[KoSt 2204163000] Heat Treat</td>\n",
              "      <td>Alterung</td>\n",
              "      <td>Abnutzung</td>\n",
              "      <td>Verschleiß</td>\n",
              "      <td>354,76</td>\n",
              "      <td>NaN</td>\n",
              "      <td>690,07</td>\n",
              "      <td>50,68</td>\n",
              "    </tr>\n",
              "    <tr>\n",
              "      <th>1</th>\n",
              "      <td>100053471</td>\n",
              "      <td>100157451</td>\n",
              "      <td>E07002974</td>\n",
              "      <td>Alterung/Abnutzung/Verschleiß [MK20318] Durchs...</td>\n",
              "      <td>Behoben</td>\n",
              "      <td>3.5.2007 15:41:00</td>\n",
              "      <td>1.0</td>\n",
              "      <td>13.0</td>\n",
              "      <td>13.0</td>\n",
              "      <td>NaN</td>\n",
              "      <td>3.5.2007 23:41:00</td>\n",
              "      <td>FPICK</td>\n",
              "      <td>Instandhaltungsmeldung</td>\n",
              "      <td>Nein</td>\n",
              "      <td>NaN</td>\n",
              "      <td>8</td>\n",
              "      <td>8,00000000005821</td>\n",
              "      <td>MK20318</td>\n",
              "      <td>Durchstossofen - C</td>\n",
              "      <td>Durchstossofen</td>\n",
              "      <td>Prio 2</td>\n",
              "      <td>Nein</td>\n",
              "      <td>IH-Team Härtereielektrik</td>\n",
              "      <td>2204163000</td>\n",
              "      <td>Kolonnenführer</td>\n",
              "      <td>Unbekannt</td>\n",
              "      <td>7012540</td>\n",
              "      <td>Erledigt</td>\n",
              "      <td>RPIH Aichelin</td>\n",
              "      <td>Alterung/Abnutzung/Verschleiß</td>\n",
              "      <td>IH-Team Prädiktive</td>\n",
              "      <td>8</td>\n",
              "      <td>416,44</td>\n",
              "      <td>IH-Team Prädiktive</td>\n",
              "      <td>A - Production uncritical</td>\n",
              "      <td>O - (heat treatment)</td>\n",
              "      <td>[KoSt 2204163000] Heat Treat</td>\n",
              "      <td>Alterung</td>\n",
              "      <td>Abnutzung</td>\n",
              "      <td>Verschleiß</td>\n",
              "      <td>405,44</td>\n",
              "      <td>NaN</td>\n",
              "      <td>11</td>\n",
              "      <td>50,68</td>\n",
              "    </tr>\n",
              "    <tr>\n",
              "      <th>2</th>\n",
              "      <td>100053471</td>\n",
              "      <td>100162681</td>\n",
              "      <td>E07003415</td>\n",
              "      <td>Alterung/Abnutzung/Verschleiß [MK20318] Durchs...</td>\n",
              "      <td>Behoben</td>\n",
              "      <td>7.5.2007 11:55:00</td>\n",
              "      <td>1.0</td>\n",
              "      <td>5534.0</td>\n",
              "      <td>2.0</td>\n",
              "      <td>NaN</td>\n",
              "      <td>7.5.2007 13:15:00</td>\n",
              "      <td>MENGLISC</td>\n",
              "      <td>Instandhaltungsmeldung</td>\n",
              "      <td>Ja</td>\n",
              "      <td>NaN</td>\n",
              "      <td>1,333333</td>\n",
              "      <td>1,33333333331393</td>\n",
              "      <td>MK20318</td>\n",
              "      <td>Durchstossofen - C</td>\n",
              "      <td>Durchstossofen</td>\n",
              "      <td>Prio 2</td>\n",
              "      <td>Nein</td>\n",
              "      <td>IH-Team Härtereielektrik</td>\n",
              "      <td>2204163000</td>\n",
              "      <td>Kolonnenführer</td>\n",
              "      <td>Unbekannt</td>\n",
              "      <td>7012998</td>\n",
              "      <td>Erledigt</td>\n",
              "      <td>RPIH Aichelin</td>\n",
              "      <td>Undicht</td>\n",
              "      <td>Breitenfellner,Peter</td>\n",
              "      <td>2</td>\n",
              "      <td>88,94</td>\n",
              "      <td>PBREITEN</td>\n",
              "      <td>A - Production uncritical</td>\n",
              "      <td>O - (heat treatment)</td>\n",
              "      <td>[KoSt 2204163000] Heat Treat</td>\n",
              "      <td>Alterung</td>\n",
              "      <td>Abnutzung</td>\n",
              "      <td>Verschleiß</td>\n",
              "      <td>88,94</td>\n",
              "      <td>NaN</td>\n",
              "      <td>NaN</td>\n",
              "      <td>44,47</td>\n",
              "    </tr>\n",
              "    <tr>\n",
              "      <th>3</th>\n",
              "      <td>100053471</td>\n",
              "      <td>100170740</td>\n",
              "      <td>E07004050</td>\n",
              "      <td>Alterung/Abnutzung/Verschleiß [MK20318] Durchs...</td>\n",
              "      <td>Behoben</td>\n",
              "      <td>8.5.2007 00:23:00</td>\n",
              "      <td>1.0</td>\n",
              "      <td>748.0</td>\n",
              "      <td>444.0</td>\n",
              "      <td>NaN</td>\n",
              "      <td>8.5.2007 02:23:00</td>\n",
              "      <td>BRISTIC</td>\n",
              "      <td>Instandhaltungsmeldung</td>\n",
              "      <td>Nein</td>\n",
              "      <td>NaN</td>\n",
              "      <td>2</td>\n",
              "      <td>2,00000000005821</td>\n",
              "      <td>MK20318</td>\n",
              "      <td>Durchstossofen - C</td>\n",
              "      <td>Durchstossofen</td>\n",
              "      <td>Prio 2</td>\n",
              "      <td>Nein</td>\n",
              "      <td>IH-Team Härtereielektrik</td>\n",
              "      <td>2204163000</td>\n",
              "      <td>Instandhalter</td>\n",
              "      <td>Unbekannt</td>\n",
              "      <td>7013654</td>\n",
              "      <td>Erledigt</td>\n",
              "      <td>RPIH Aichelin</td>\n",
              "      <td>Überlastung/Bruch/Blockierung/Deformierung</td>\n",
              "      <td>Yildirim,Sahin</td>\n",
              "      <td>2</td>\n",
              "      <td>88,94</td>\n",
              "      <td>NaN</td>\n",
              "      <td>A - Production uncritical</td>\n",
              "      <td>O - (heat treatment)</td>\n",
              "      <td>[KoSt 2204163000] Heat Treat</td>\n",
              "      <td>Alterung</td>\n",
              "      <td>Abnutzung</td>\n",
              "      <td>Verschleiß</td>\n",
              "      <td>88,94</td>\n",
              "      <td>NaN</td>\n",
              "      <td>NaN</td>\n",
              "      <td>44,47</td>\n",
              "    </tr>\n",
              "    <tr>\n",
              "      <th>4</th>\n",
              "      <td>100053471</td>\n",
              "      <td>100179306</td>\n",
              "      <td>E07004541</td>\n",
              "      <td>Alterung/Abnutzung/Verschleiß [MK20318] Durchs...</td>\n",
              "      <td>Behoben</td>\n",
              "      <td>11.5.2007 03:20:00</td>\n",
              "      <td>1.0</td>\n",
              "      <td>4497.0</td>\n",
              "      <td>1430.0</td>\n",
              "      <td>NaN</td>\n",
              "      <td>11.5.2007 04:20:00</td>\n",
              "      <td>NaN</td>\n",
              "      <td>Instandhaltungsmeldung</td>\n",
              "      <td>Nein</td>\n",
              "      <td>NaN</td>\n",
              "      <td>1</td>\n",
              "      <td>0,999999999941792</td>\n",
              "      <td>MK20318</td>\n",
              "      <td>Durchstossofen - C</td>\n",
              "      <td>Durchstossofen</td>\n",
              "      <td>Prio 2</td>\n",
              "      <td>Nein</td>\n",
              "      <td>IH-Team Härtereielektrik</td>\n",
              "      <td>2204163000</td>\n",
              "      <td>Unbekannt</td>\n",
              "      <td>Unbekannt</td>\n",
              "      <td>7014208</td>\n",
              "      <td>Erledigt</td>\n",
              "      <td>RPIH Aichelin</td>\n",
              "      <td>Alterung/Abnutzung/Verschleiß</td>\n",
              "      <td>Yildirim,Sahin</td>\n",
              "      <td>3,23</td>\n",
              "      <td>143,98</td>\n",
              "      <td>NaN</td>\n",
              "      <td>A - Production uncritical</td>\n",
              "      <td>O - (heat treatment)</td>\n",
              "      <td>[KoSt 2204163000] Heat Treat</td>\n",
              "      <td>Alterung</td>\n",
              "      <td>Abnutzung</td>\n",
              "      <td>Verschleiß</td>\n",
              "      <td>143,98</td>\n",
              "      <td>NaN</td>\n",
              "      <td>NaN</td>\n",
              "      <td>44,58</td>\n",
              "    </tr>\n",
              "  </tbody>\n",
              "</table>\n",
              "</div>"
            ],
            "text/plain": [
              "      OBJ_ID     AUF_ID  ... Sonstige_Kosten Personal_Kost_Hour\n",
              "0  100053471  100157407  ...          690,07              50,68\n",
              "1  100053471  100157451  ...              11              50,68\n",
              "2  100053471  100162681  ...             NaN              44,47\n",
              "3  100053471  100170740  ...             NaN              44,47\n",
              "4  100053471  100179306  ...             NaN              44,58\n",
              "\n",
              "[5 rows x 44 columns]"
            ]
          },
          "metadata": {
            "tags": []
          },
          "execution_count": 227
        }
      ]
    },
    {
      "cell_type": "code",
      "metadata": {
        "id": "dDiq37t0Qfqs",
        "colab_type": "code",
        "colab": {
          "base_uri": "https://localhost:8080/",
          "height": 255
        },
        "outputId": "4cbb8f70-dd6e-4655-845c-0405a294b9d0"
      },
      "source": [
        "data.columns.values"
      ],
      "execution_count": null,
      "outputs": [
        {
          "output_type": "execute_result",
          "data": {
            "text/plain": [
              "array(['OBJ_ID', 'AUF_ID', 'Stoerungsnummer', 'Bezeichnung',\n",
              "       'STOERSTATUS', 'Gemeldet_am', 'Unnamed: 6',\n",
              "       'Time_Differenz_Betwwen_Two_Same_Event', 'Time_Differnz',\n",
              "       'Behebdatum', 'Stoerungsende', 'Meldung_DURCH_BENUTZER',\n",
              "       'Stoerungsart', 'STILLSTAND', 'Stillstandszeit',\n",
              "       'Berechnete Dauer', 'Stoerungsdauer', 'Anlagenkennzeichen',\n",
              "       'Maschine', 'Maschinentyp', 'Prio_Maschine', 'Kritische_Maschine',\n",
              "       'Zustaendiges_IH_Team', 'Kst_Nummer', 'POSITION_MELDER',\n",
              "       'POSITION_BEHEB', 'Auftragsnummer', 'AUFTRAGSSTATUS',\n",
              "       'Instandsetzungsauftrag', 'Schadensmeldung', 'BEARBEITET_DURCH',\n",
              "       'Arbeitszeit', 'Kosten', 'Zustaendig', 'ABC-Indikator',\n",
              "       'Equipmenttyp', 'GFT Kostenstelle', 'Action', 'Action1', 'Action2',\n",
              "       'Personal_Kosten', 'Material_Kosten', 'Sonstige_Kosten',\n",
              "       'Personal_Kost_Hour'], dtype=object)"
            ]
          },
          "metadata": {
            "tags": []
          },
          "execution_count": 228
        }
      ]
    },
    {
      "cell_type": "code",
      "metadata": {
        "id": "QIJZzEOkRfaW",
        "colab_type": "code",
        "colab": {}
      },
      "source": [
        "feature_cols = ['Gemeldet_am', 'Meldung_DURCH_BENUTZER', 'Schadensmeldung', 'Zustaendig', 'Personal_Kosten']\n",
        "target = ['Arbeitszeit']  "
      ],
      "execution_count": null,
      "outputs": []
    },
    {
      "cell_type": "code",
      "metadata": {
        "id": "AqmHnyH1X_9O",
        "colab_type": "code",
        "colab": {}
      },
      "source": [
        "df = data[[*feature_cols, *target, 'OBJ_ID']]"
      ],
      "execution_count": null,
      "outputs": []
    },
    {
      "cell_type": "code",
      "metadata": {
        "id": "kfLEeaPbWyB5",
        "colab_type": "code",
        "colab": {
          "base_uri": "https://localhost:8080/",
          "height": 68
        },
        "outputId": "aae05945-325a-42e6-a830-53159c2c974c"
      },
      "source": [
        "df.dtypes\n",
        "print(df.columns)"
      ],
      "execution_count": null,
      "outputs": [
        {
          "output_type": "stream",
          "text": [
            "Index(['Gemeldet_am', 'Meldung_DURCH_BENUTZER', 'Schadensmeldung',\n",
            "       'Zustaendig', 'Personal_Kosten', 'Arbeitszeit', 'OBJ_ID'],\n",
            "      dtype='object')\n"
          ],
          "name": "stdout"
        }
      ]
    },
    {
      "cell_type": "code",
      "metadata": {
        "id": "pvuDhNdBGMuk",
        "colab_type": "code",
        "colab": {
          "base_uri": "https://localhost:8080/",
          "height": 153
        },
        "outputId": "e5a15821-c55c-4df5-8ebb-38c0375d9f3b"
      },
      "source": [
        "\n",
        "df.isnull().sum()"
      ],
      "execution_count": null,
      "outputs": [
        {
          "output_type": "execute_result",
          "data": {
            "text/plain": [
              "Gemeldet_am                 0\n",
              "Meldung_DURCH_BENUTZER      6\n",
              "Schadensmeldung            80\n",
              "Zustaendig                 17\n",
              "Personal_Kosten           133\n",
              "Arbeitszeit                56\n",
              "OBJ_ID                      0\n",
              "dtype: int64"
            ]
          },
          "metadata": {
            "tags": []
          },
          "execution_count": 232
        }
      ]
    },
    {
      "cell_type": "code",
      "metadata": {
        "id": "DyQK_RgfLhjd",
        "colab_type": "code",
        "colab": {
          "base_uri": "https://localhost:8080/",
          "height": 419
        },
        "outputId": "6d7703f1-5b0c-4b52-b6c5-693880eb62fb"
      },
      "source": [
        "df[df.isna().any(axis=1)]"
      ],
      "execution_count": null,
      "outputs": [
        {
          "output_type": "execute_result",
          "data": {
            "text/html": [
              "<div>\n",
              "<style scoped>\n",
              "    .dataframe tbody tr th:only-of-type {\n",
              "        vertical-align: middle;\n",
              "    }\n",
              "\n",
              "    .dataframe tbody tr th {\n",
              "        vertical-align: top;\n",
              "    }\n",
              "\n",
              "    .dataframe thead th {\n",
              "        text-align: right;\n",
              "    }\n",
              "</style>\n",
              "<table border=\"1\" class=\"dataframe\">\n",
              "  <thead>\n",
              "    <tr style=\"text-align: right;\">\n",
              "      <th></th>\n",
              "      <th>Gemeldet_am</th>\n",
              "      <th>Meldung_DURCH_BENUTZER</th>\n",
              "      <th>Schadensmeldung</th>\n",
              "      <th>Zustaendig</th>\n",
              "      <th>Personal_Kosten</th>\n",
              "      <th>Arbeitszeit</th>\n",
              "      <th>OBJ_ID</th>\n",
              "    </tr>\n",
              "  </thead>\n",
              "  <tbody>\n",
              "    <tr>\n",
              "      <th>3</th>\n",
              "      <td>8.5.2007 00:23:00</td>\n",
              "      <td>BRISTIC</td>\n",
              "      <td>Überlastung/Bruch/Blockierung/Deformierung</td>\n",
              "      <td>NaN</td>\n",
              "      <td>88,94</td>\n",
              "      <td>2</td>\n",
              "      <td>100053471</td>\n",
              "    </tr>\n",
              "    <tr>\n",
              "      <th>4</th>\n",
              "      <td>11.5.2007 03:20:00</td>\n",
              "      <td>NaN</td>\n",
              "      <td>Alterung/Abnutzung/Verschleiß</td>\n",
              "      <td>NaN</td>\n",
              "      <td>143,98</td>\n",
              "      <td>3,23</td>\n",
              "      <td>100053471</td>\n",
              "    </tr>\n",
              "    <tr>\n",
              "      <th>6</th>\n",
              "      <td>15.5.2007 09:12:00</td>\n",
              "      <td>HSCHMI66</td>\n",
              "      <td>Alterung/Abnutzung/Verschleiß</td>\n",
              "      <td>NaN</td>\n",
              "      <td>215,39</td>\n",
              "      <td>4,25</td>\n",
              "      <td>100053471</td>\n",
              "    </tr>\n",
              "    <tr>\n",
              "      <th>8</th>\n",
              "      <td>17.5.2007 21:42:00</td>\n",
              "      <td>MLEMANCZ</td>\n",
              "      <td>NaN</td>\n",
              "      <td>BRISTIC</td>\n",
              "      <td>44,47</td>\n",
              "      <td>1</td>\n",
              "      <td>100053471</td>\n",
              "    </tr>\n",
              "    <tr>\n",
              "      <th>41</th>\n",
              "      <td>26.7.2007 07:05:00</td>\n",
              "      <td>DHARTMA5</td>\n",
              "      <td>Alterung/Abnutzung/Verschleiß</td>\n",
              "      <td>NaN</td>\n",
              "      <td>63,35</td>\n",
              "      <td>1,25</td>\n",
              "      <td>100053471</td>\n",
              "    </tr>\n",
              "    <tr>\n",
              "      <th>...</th>\n",
              "      <td>...</td>\n",
              "      <td>...</td>\n",
              "      <td>...</td>\n",
              "      <td>...</td>\n",
              "      <td>...</td>\n",
              "      <td>...</td>\n",
              "      <td>...</td>\n",
              "    </tr>\n",
              "    <tr>\n",
              "      <th>3750</th>\n",
              "      <td>22.7.2014 14:35:00</td>\n",
              "      <td>TACAR1</td>\n",
              "      <td>NaN</td>\n",
              "      <td>IH-Team Härtereielektrik</td>\n",
              "      <td>NaN</td>\n",
              "      <td>NaN</td>\n",
              "      <td>100053471</td>\n",
              "    </tr>\n",
              "    <tr>\n",
              "      <th>3756</th>\n",
              "      <td>20.1.2015 10:52:00</td>\n",
              "      <td>HFISCH11</td>\n",
              "      <td>NaN</td>\n",
              "      <td>IH-Team Medien und Systeme</td>\n",
              "      <td>NaN</td>\n",
              "      <td>NaN</td>\n",
              "      <td>100053471</td>\n",
              "    </tr>\n",
              "    <tr>\n",
              "      <th>3764</th>\n",
              "      <td>25.4.2016 23:55:00</td>\n",
              "      <td>BJAEKELM</td>\n",
              "      <td>NaN</td>\n",
              "      <td>WKELTERB</td>\n",
              "      <td>150</td>\n",
              "      <td>3</td>\n",
              "      <td>100053471</td>\n",
              "    </tr>\n",
              "    <tr>\n",
              "      <th>3765</th>\n",
              "      <td>30.4.2016 00:00:00</td>\n",
              "      <td>BJAEKELM</td>\n",
              "      <td>NaN</td>\n",
              "      <td>ESIMSEK7</td>\n",
              "      <td>NaN</td>\n",
              "      <td>NaN</td>\n",
              "      <td>100053471</td>\n",
              "    </tr>\n",
              "    <tr>\n",
              "      <th>3772</th>\n",
              "      <td>5.3.2017 12:22:00</td>\n",
              "      <td>WRIEMER1</td>\n",
              "      <td>NaN</td>\n",
              "      <td>WRIEMER1</td>\n",
              "      <td>NaN</td>\n",
              "      <td>NaN</td>\n",
              "      <td>100053471</td>\n",
              "    </tr>\n",
              "  </tbody>\n",
              "</table>\n",
              "<p>179 rows × 7 columns</p>\n",
              "</div>"
            ],
            "text/plain": [
              "             Gemeldet_am Meldung_DURCH_BENUTZER  ... Arbeitszeit     OBJ_ID\n",
              "3      8.5.2007 00:23:00                BRISTIC  ...           2  100053471\n",
              "4     11.5.2007 03:20:00                    NaN  ...        3,23  100053471\n",
              "6     15.5.2007 09:12:00               HSCHMI66  ...        4,25  100053471\n",
              "8     17.5.2007 21:42:00               MLEMANCZ  ...           1  100053471\n",
              "41    26.7.2007 07:05:00               DHARTMA5  ...        1,25  100053471\n",
              "...                  ...                    ...  ...         ...        ...\n",
              "3750  22.7.2014 14:35:00                 TACAR1  ...         NaN  100053471\n",
              "3756  20.1.2015 10:52:00               HFISCH11  ...         NaN  100053471\n",
              "3764  25.4.2016 23:55:00               BJAEKELM  ...           3  100053471\n",
              "3765  30.4.2016 00:00:00               BJAEKELM  ...         NaN  100053471\n",
              "3772   5.3.2017 12:22:00               WRIEMER1  ...         NaN  100053471\n",
              "\n",
              "[179 rows x 7 columns]"
            ]
          },
          "metadata": {
            "tags": []
          },
          "execution_count": 233
        }
      ]
    },
    {
      "cell_type": "code",
      "metadata": {
        "id": "IBNyeMRmcujh",
        "colab_type": "code",
        "colab": {}
      },
      "source": [
        "# Delete NaN value\n",
        "df.dropna(inplace=True)"
      ],
      "execution_count": null,
      "outputs": []
    },
    {
      "cell_type": "code",
      "metadata": {
        "id": "hlA_3dfxXscI",
        "colab_type": "code",
        "colab": {}
      },
      "source": [
        "df['Gemeldet_am'] = pd.to_datetime(df['Gemeldet_am'])\n",
        "df['Meldung_DURCH_BENUTZER'] = df['Meldung_DURCH_BENUTZER'].astype('category')\n",
        "df['Schadensmeldung'] = df['Schadensmeldung'].astype('category')\n",
        "df['Zustaendig'] = df['Zustaendig'].astype('category')\n",
        "df['Personal_Kosten'] = df['Personal_Kosten'].apply(lambda x:x.replace(',','.'))\n",
        "df['Personal_Kosten'] = pd.to_numeric(df['Personal_Kosten'])"
      ],
      "execution_count": null,
      "outputs": []
    },
    {
      "cell_type": "code",
      "metadata": {
        "id": "wsKyPGwadoRw",
        "colab_type": "code",
        "colab": {}
      },
      "source": [
        "df['Arbeitszeit'] = df['Arbeitszeit'].apply(lambda x:x.replace(',','.'))\n",
        "df['Arbeitszeit'] = pd.to_numeric(df['Arbeitszeit'])"
      ],
      "execution_count": null,
      "outputs": []
    },
    {
      "cell_type": "code",
      "metadata": {
        "id": "a_KHh38FgpLV",
        "colab_type": "code",
        "colab": {}
      },
      "source": [
        "df['Jahr'] =  df['Gemeldet_am'].dt.year\n",
        "df['Monat'] =  df['Gemeldet_am'].dt.month\n",
        "df['Tag'] = df['Gemeldet_am'].dt.day\n",
        "df['Stunde'] = df['Gemeldet_am'].dt.hour\n",
        "df['Minute'] = df['Gemeldet_am'].dt.minute"
      ],
      "execution_count": null,
      "outputs": []
    },
    {
      "cell_type": "code",
      "metadata": {
        "id": "4kBjFQvPjsPk",
        "colab_type": "code",
        "colab": {
          "base_uri": "https://localhost:8080/",
          "height": 51
        },
        "outputId": "5aff0b1b-8f55-48e9-c10d-4725e133e5d2"
      },
      "source": [
        "start_date = 2008\n",
        "end_date = 2019\n",
        "df.index = df['Gemeldet_am'].copy()\n",
        "mask = (df['Jahr'] > start_date) & (df['Jahr'] <= end_date)\n",
        "print(mask.shape)\n",
        "print(df.shape)\n",
        "df = df.loc[mask]\n"
      ],
      "execution_count": null,
      "outputs": [
        {
          "output_type": "stream",
          "text": [
            "(3611,)\n",
            "(3611, 12)\n"
          ],
          "name": "stdout"
        }
      ]
    },
    {
      "cell_type": "code",
      "metadata": {
        "id": "0CP4dLelcE0b",
        "colab_type": "code",
        "colab": {}
      },
      "source": [
        "import lightgbm as lgb\n",
        "from sklearn.model_selection import train_test_split, cross_val_score"
      ],
      "execution_count": null,
      "outputs": []
    },
    {
      "cell_type": "code",
      "metadata": {
        "id": "1rUBfWGAgNU8",
        "colab_type": "code",
        "colab": {}
      },
      "source": [
        "features = feature_cols \n",
        "# + ['Jahr','Monat','Tag','Stunde','Minute']\n",
        "X = df[features].iloc[:,1:]\n",
        "y = df[target]"
      ],
      "execution_count": null,
      "outputs": []
    },
    {
      "cell_type": "code",
      "metadata": {
        "id": "PWaR8B0XgCKO",
        "colab_type": "code",
        "colab": {}
      },
      "source": [
        "#X_train, X_test, y_train, y_test = train_test_split(X, y, test_size=0.25)\n",
        "\n",
        "df_train, df_test, y_train, y_test = train_test_split(df, y, test_size=0.25)\n",
        "X_train = df_train[features].iloc[:,1:]\n",
        "X_test = df_test[features].iloc[:,1:]\n"
      ],
      "execution_count": null,
      "outputs": []
    },
    {
      "cell_type": "code",
      "metadata": {
        "id": "jljkLBTwck0J",
        "colab_type": "code",
        "colab": {
          "base_uri": "https://localhost:8080/",
          "height": 119
        },
        "outputId": "8b4ebcba-97d0-44b3-df1f-da54c6a76904"
      },
      "source": [
        "model = lgb.LGBMRegressor()\n",
        "model.fit(X_train, y_train)"
      ],
      "execution_count": null,
      "outputs": [
        {
          "output_type": "execute_result",
          "data": {
            "text/plain": [
              "LGBMRegressor(boosting_type='gbdt', class_weight=None, colsample_bytree=1.0,\n",
              "              importance_type='split', learning_rate=0.1, max_depth=-1,\n",
              "              min_child_samples=20, min_child_weight=0.001, min_split_gain=0.0,\n",
              "              n_estimators=100, n_jobs=-1, num_leaves=31, objective=None,\n",
              "              random_state=None, reg_alpha=0.0, reg_lambda=0.0, silent=True,\n",
              "              subsample=1.0, subsample_for_bin=200000, subsample_freq=0)"
            ]
          },
          "metadata": {
            "tags": []
          },
          "execution_count": 242
        }
      ]
    },
    {
      "cell_type": "code",
      "metadata": {
        "id": "BA8s6ByInii_",
        "colab_type": "code",
        "colab": {}
      },
      "source": [
        "from sklearn.metrics import r2_score, make_scorer\n",
        "from sklearn.metrics import mean_squared_error\n",
        "import numpy as np"
      ],
      "execution_count": null,
      "outputs": []
    },
    {
      "cell_type": "code",
      "metadata": {
        "id": "jH1r2TS4nU0o",
        "colab_type": "code",
        "colab": {
          "base_uri": "https://localhost:8080/",
          "height": 34
        },
        "outputId": "68012dff-6dd4-4afa-84dc-9cbf2ef57106"
      },
      "source": [
        "df_test['Pred'] = model.predict(X_test)\n",
        "r2_score(y_test, df_test['Pred']) "
      ],
      "execution_count": null,
      "outputs": [
        {
          "output_type": "execute_result",
          "data": {
            "text/plain": [
              "0.910862520242749"
            ]
          },
          "metadata": {
            "tags": []
          },
          "execution_count": 244
        }
      ]
    },
    {
      "cell_type": "code",
      "metadata": {
        "id": "twp4mHH4fkit",
        "colab_type": "code",
        "colab": {
          "base_uri": "https://localhost:8080/",
          "height": 34
        },
        "outputId": "33e76ae9-05d7-4b0b-81ad-f30c8704c3cb"
      },
      "source": [
        "mean_squared_error(y_test,  df_test['Pred'], squared=False)"
      ],
      "execution_count": null,
      "outputs": [
        {
          "output_type": "execute_result",
          "data": {
            "text/plain": [
              "1.193277542720103"
            ]
          },
          "metadata": {
            "tags": []
          },
          "execution_count": 245
        }
      ]
    },
    {
      "cell_type": "code",
      "metadata": {
        "id": "mUzgzVoyoUm3",
        "colab_type": "code",
        "colab": {
          "base_uri": "https://localhost:8080/",
          "height": 51
        },
        "outputId": "9de1d700-155e-42a4-bb5a-f419eec06ead"
      },
      "source": [
        "print(\"Cross val scores\", cross_val_score(model, X,y,cv=5, scoring='r2'))\n",
        "print(\"Cross val scores mean\", np.mean(cross_val_score(model, X,y,cv=5, scoring='r2')))"
      ],
      "execution_count": null,
      "outputs": [
        {
          "output_type": "stream",
          "text": [
            "Cross val scores [0.61851893 0.92547325 0.94788422 0.90721738 0.97149603]\n",
            "Cross val scores mean 0.874117959669713\n"
          ],
          "name": "stdout"
        }
      ]
    },
    {
      "cell_type": "code",
      "metadata": {
        "id": "lQ1ziSVjQAgi",
        "colab_type": "code",
        "colab": {
          "base_uri": "https://localhost:8080/",
          "height": 272
        },
        "outputId": "35601a0c-e03c-4de0-9674-76ca73f0d398"
      },
      "source": [
        "actions = list(df['Schadensmeldung'].unique())\n",
        "actions"
      ],
      "execution_count": null,
      "outputs": [
        {
          "output_type": "execute_result",
          "data": {
            "text/plain": [
              "['Alterung/Abnutzung/Verschleiß',\n",
              " 'Änderung an der Maschine',\n",
              " 'Überlastung/Bruch/Blockierung/Deformierung',\n",
              " 'Verschmutzung',\n",
              " 'Undicht',\n",
              " 'Einstellfehler/Bedienfehler/Maschinencrasch',\n",
              " 'kein Fehler festellbar',\n",
              " 'Ölmangel',\n",
              " 'Spiel/Unwucht',\n",
              " 'Leckage (Luft, Wasser ,Öl, Gas, KSS)',\n",
              " 'Herstellfehler/Konstruktionsfehler',\n",
              " 'kein Fehler feststellbar',\n",
              " 'überhitzt/verbrannt',\n",
              " 'Fehlende Wartung',\n",
              " 'Stromausfall']"
            ]
          },
          "metadata": {
            "tags": []
          },
          "execution_count": 247
        }
      ]
    },
    {
      "cell_type": "code",
      "metadata": {
        "id": "Kh42W2AhQh7b",
        "colab_type": "code",
        "colab": {
          "base_uri": "https://localhost:8080/",
          "height": 51
        },
        "outputId": "fd4040f8-92f0-48fa-e8a8-d24fd052d925"
      },
      "source": [
        "df.head()\n",
        "series_length = 5\n",
        "categories = len(actions)\n",
        "print(categories)\n",
        "time_steps = series_length -1\n",
        "print(1)\n"
      ],
      "execution_count": null,
      "outputs": [
        {
          "output_type": "stream",
          "text": [
            "15\n",
            "1\n"
          ],
          "name": "stdout"
        }
      ]
    },
    {
      "cell_type": "code",
      "metadata": {
        "id": "CXCCJaXagRJh",
        "colab_type": "code",
        "colab": {}
      },
      "source": [
        "test_df = pd.concat([df_test, y_test], axis=1)\n",
        "#test_df"
      ],
      "execution_count": null,
      "outputs": []
    },
    {
      "cell_type": "code",
      "metadata": {
        "id": "dj5wxmZup_Uq",
        "colab_type": "code",
        "colab": {
          "base_uri": "https://localhost:8080/",
          "height": 196
        },
        "outputId": "f810dd38-4b04-4256-9930-069e58b47eb9"
      },
      "source": [
        "\n",
        "resampling = 'M'\n",
        "fig = plt.figure(figsize=(18,16))\n",
        "fig.subplots_adjust(hspace=.4)\n",
        "ax2 = fig.add_subplot(5,1,1)\n",
        "ax2.plot(df_test['Arbeitszeit'].resample(resampling).mean(),linewidth=1)\n",
        "ax2.plot(df_test['Pred'].resample(resampling).mean(),linewidth=1)\n",
        "ax2.set_title('Arbeitszeit resampled over ' + resampling)\n",
        "ax2.tick_params(axis='both', which='major')"
      ],
      "execution_count": null,
      "outputs": [
        {
          "output_type": "display_data",
          "data": {
            "image/png": "[encoded data removed]",
            "text/plain": [
              "<Figure size 1296x1152 with 1 Axes>"
            ]
          },
          "metadata": {
            "tags": [],
            "needs_background": "light"
          }
        }
      ]
    },
    {
      "cell_type": "code",
      "metadata": {
        "id": "B9-FFw6NqQFy",
        "colab_type": "code",
        "colab": {
          "base_uri": "https://localhost:8080/",
          "height": 119
        },
        "outputId": "edd538d3-12c7-4070-9819-aeb2bd68c49d"
      },
      "source": [
        "model = lgb.LGBMRegressor()\n",
        "model.fit(X_train,y_train)"
      ],
      "execution_count": null,
      "outputs": [
        {
          "output_type": "execute_result",
          "data": {
            "text/plain": [
              "LGBMRegressor(boosting_type='gbdt', class_weight=None, colsample_bytree=1.0,\n",
              "              importance_type='split', learning_rate=0.1, max_depth=-1,\n",
              "              min_child_samples=20, min_child_weight=0.001, min_split_gain=0.0,\n",
              "              n_estimators=100, n_jobs=-1, num_leaves=31, objective=None,\n",
              "              random_state=None, reg_alpha=0.0, reg_lambda=0.0, silent=True,\n",
              "              subsample=1.0, subsample_for_bin=200000, subsample_freq=0)"
            ]
          },
          "metadata": {
            "tags": []
          },
          "execution_count": 251
        }
      ]
    },
    {
      "cell_type": "code",
      "metadata": {
        "id": "TAzdxvubrt6L",
        "colab_type": "code",
        "colab": {
          "base_uri": "https://localhost:8080/",
          "height": 34
        },
        "outputId": "ef15e679-d9a3-4407-d80f-1143e8dec759"
      },
      "source": [
        "model.feature_importances_"
      ],
      "execution_count": null,
      "outputs": [
        {
          "output_type": "execute_result",
          "data": {
            "text/plain": [
              "array([ 137,   18,  211, 2634])"
            ]
          },
          "metadata": {
            "tags": []
          },
          "execution_count": 252
        }
      ]
    },
    {
      "cell_type": "code",
      "metadata": {
        "id": "_6JA_W12rvTE",
        "colab_type": "code",
        "colab": {
          "base_uri": "https://localhost:8080/",
          "height": 295
        },
        "outputId": "281f64fc-0d98-4b79-aea3-e5354285aa7f"
      },
      "source": [
        "lgb.plot_importance(model)\n",
        "plt.show()"
      ],
      "execution_count": null,
      "outputs": [
        {
          "output_type": "display_data",
          "data": {
            "image/png": "[encoded data removed]",
            "text/plain": [
              "<Figure size 432x288 with 1 Axes>"
            ]
          },
          "metadata": {
            "tags": [],
            "needs_background": "light"
          }
        }
      ]
    },
    {
      "cell_type": "code",
      "metadata": {
        "id": "0jRgBXJwsBck",
        "colab_type": "code",
        "colab": {
          "base_uri": "https://localhost:8080/",
          "height": 34
        },
        "outputId": "c1e18766-3163-44e8-de03-5e8198657395"
      },
      "source": [
        "'''\n",
        "lgb.plot_tree(model,figsize=(20,30))\n",
        "lgb.create_tree_digraph(model)\n",
        "plt.show()\n",
        "'''"
      ],
      "execution_count": null,
      "outputs": [
        {
          "output_type": "execute_result",
          "data": {
            "text/plain": [
              "'\\nlgb.plot_tree(model,figsize=(20,30))\\nlgb.create_tree_digraph(model)\\nplt.show()\\n'"
            ]
          },
          "metadata": {
            "tags": []
          },
          "execution_count": 254
        }
      ]
    },
    {
      "cell_type": "markdown",
      "metadata": {
        "id": "2h6pKKP2s43q",
        "colab_type": "text"
      },
      "source": [
        "## Predict t of the next action, predict duration, predict action"
      ]
    },
    {
      "cell_type": "code",
      "metadata": {
        "id": "iBDKYgQwv0Hb",
        "colab_type": "code",
        "colab": {
          "base_uri": "https://localhost:8080/",
          "height": 54
        },
        "outputId": "158e6bd5-3f32-4697-c673-8e40621f663d"
      },
      "source": [
        "\n",
        "'''\n",
        "Input Features\n",
        "Gemeldet_am x - t-1\n",
        "Schadensmeldung or Action x t-1\n",
        "Arbeitszeit x x-t-1\n",
        "create feature time difference between to events (grouped by action)\n",
        "create feature time difference between to events (grouped by same machine)\n",
        "\n",
        "Output expected\n",
        "Gemeldet_am y - t \n",
        "Schadensmeldung or Action y t\n",
        "Arbeitszeit y t\n",
        "'''"
      ],
      "execution_count": null,
      "outputs": [
        {
          "output_type": "execute_result",
          "data": {
            "text/plain": [
              "'\\nInput Features\\nGemeldet_am x - t-1\\nSchadensmeldung or Action x t-1\\nArbeitszeit x x-t-1\\ncreate feature time difference between to events (grouped by action)\\ncreate feature time difference between to events (grouped by same machine)\\n\\nOutput expected\\nGemeldet_am y - t \\nSchadensmeldung or Action y t\\nArbeitszeit y t\\n'"
            ]
          },
          "metadata": {
            "tags": []
          },
          "execution_count": 255
        }
      ]
    },
    {
      "cell_type": "code",
      "metadata": {
        "id": "Lnt8OQBTtVgv",
        "colab_type": "code",
        "colab": {}
      },
      "source": [
        "\n",
        "# create new feature, time diff until next event\n",
        "df.index.name = None\n",
        "df = df.sort_values(by='Gemeldet_am')\n",
        "df['Shifted'] = df['Gemeldet_am'].shift(periods=1)\n",
        "df['Dif_next_event'] = df['Gemeldet_am'] - df['Gemeldet_am'].shift(periods=1)"
      ],
      "execution_count": null,
      "outputs": []
    },
    {
      "cell_type": "code",
      "metadata": {
        "id": "2BtiZQNCxfSV",
        "colab_type": "code",
        "colab": {
          "base_uri": "https://localhost:8080/",
          "height": 462
        },
        "outputId": "40dfb1ac-53d4-4587-e464-48d25dcacfc8"
      },
      "source": [
        "# create feature time diff until name event of same action\n",
        "actions = df['Schadensmeldung'].unique()\n",
        "\n",
        "labels = []\n",
        "features_dif = []\n",
        "df['label_num'] = 0\n",
        "\n",
        "i = 1\n",
        "\n",
        "for action in actions:\n",
        "  # create labels \n",
        "  labels.append('y_' + action)\n",
        "  df['y_' + action] = np.where(df['Schadensmeldung'] == action, 1, 0)\n",
        "  i += 1\n",
        "  df.loc[df['Schadensmeldung'] == action, ['label_num']] = i\n",
        "  # craete time since last every combination\n",
        "  \n",
        "  for a in actions:  \n",
        "    df_action = df[df['Schadensmeldung'] == a]\n",
        "    \n",
        "    if df_action.shape[0]:\n",
        "      #print(a)\n",
        "      features_dif.append('dif_last_' + action)\n",
        "      diff = df_action['Gemeldet_am'] #- df_action['Gemeldet_am'].shift()\n",
        "      df['last_' + a] = pd.np.datetime64('NaT')\n",
        "      df.loc[df['Schadensmeldung'] == a, ['last_' + a]] = pd.to_datetime(diff)\n",
        "      df['last_' + a] = pd.to_datetime(df['last_' + a])\n",
        "      df['last_' + a] = df['last_' + a].fillna(method='ffill')\n",
        "      df['dif_last_' + a] = pd.to_timedelta(df['Gemeldet_am'] - df['last_' + a])\n",
        "      df['dif_last_' + a][df['dif_last_' + a] == pd.to_timedelta(0)] = pd.to_timedelta(df['Gemeldet_am'] - df['last_' + a].shift())\n",
        "      df['dif_last_' + a] = pd.to_timedelta(df['dif_last_' + a])\n",
        "      #features_dif.append('dif_last_' + a)\n",
        "\n",
        "features_dif = list(set(features_dif))\n",
        "\n",
        "df.head()"
      ],
      "execution_count": null,
      "outputs": [
        {
          "output_type": "execute_result",
          "data": {
            "text/html": [
              "<div>\n",
              "<style scoped>\n",
              "    .dataframe tbody tr th:only-of-type {\n",
              "        vertical-align: middle;\n",
              "    }\n",
              "\n",
              "    .dataframe tbody tr th {\n",
              "        vertical-align: top;\n",
              "    }\n",
              "\n",
              "    .dataframe thead th {\n",
              "        text-align: right;\n",
              "    }\n",
              "</style>\n",
              "<table border=\"1\" class=\"dataframe\">\n",
              "  <thead>\n",
              "    <tr style=\"text-align: right;\">\n",
              "      <th></th>\n",
              "      <th>Gemeldet_am</th>\n",
              "      <th>Meldung_DURCH_BENUTZER</th>\n",
              "      <th>Schadensmeldung</th>\n",
              "      <th>Zustaendig</th>\n",
              "      <th>Personal_Kosten</th>\n",
              "      <th>Arbeitszeit</th>\n",
              "      <th>OBJ_ID</th>\n",
              "      <th>Jahr</th>\n",
              "      <th>Monat</th>\n",
              "      <th>Tag</th>\n",
              "      <th>Stunde</th>\n",
              "      <th>Minute</th>\n",
              "      <th>Shifted</th>\n",
              "      <th>Dif_next_event</th>\n",
              "      <th>label_num</th>\n",
              "      <th>y_Alterung/Abnutzung/Verschleiß</th>\n",
              "      <th>last_Alterung/Abnutzung/Verschleiß</th>\n",
              "      <th>dif_last_Alterung/Abnutzung/Verschleiß</th>\n",
              "      <th>last_Änderung an der Maschine</th>\n",
              "      <th>dif_last_Änderung an der Maschine</th>\n",
              "      <th>last_Überlastung/Bruch/Blockierung/Deformierung</th>\n",
              "      <th>dif_last_Überlastung/Bruch/Blockierung/Deformierung</th>\n",
              "      <th>last_Undicht</th>\n",
              "      <th>dif_last_Undicht</th>\n",
              "      <th>last_Verschmutzung</th>\n",
              "      <th>dif_last_Verschmutzung</th>\n",
              "      <th>last_Ölmangel</th>\n",
              "      <th>dif_last_Ölmangel</th>\n",
              "      <th>last_Einstellfehler/Bedienfehler/Maschinencrasch</th>\n",
              "      <th>dif_last_Einstellfehler/Bedienfehler/Maschinencrasch</th>\n",
              "      <th>last_kein Fehler festellbar</th>\n",
              "      <th>dif_last_kein Fehler festellbar</th>\n",
              "      <th>last_Stromausfall</th>\n",
              "      <th>dif_last_Stromausfall</th>\n",
              "      <th>last_Spiel/Unwucht</th>\n",
              "      <th>dif_last_Spiel/Unwucht</th>\n",
              "      <th>last_Leckage (Luft, Wasser ,Öl, Gas, KSS)</th>\n",
              "      <th>dif_last_Leckage (Luft, Wasser ,Öl, Gas, KSS)</th>\n",
              "      <th>last_Fehlende Wartung</th>\n",
              "      <th>dif_last_Fehlende Wartung</th>\n",
              "      <th>last_Herstellfehler/Konstruktionsfehler</th>\n",
              "      <th>dif_last_Herstellfehler/Konstruktionsfehler</th>\n",
              "      <th>last_kein Fehler feststellbar</th>\n",
              "      <th>dif_last_kein Fehler feststellbar</th>\n",
              "      <th>last_überhitzt/verbrannt</th>\n",
              "      <th>dif_last_überhitzt/verbrannt</th>\n",
              "      <th>y_Änderung an der Maschine</th>\n",
              "      <th>y_Überlastung/Bruch/Blockierung/Deformierung</th>\n",
              "      <th>y_Undicht</th>\n",
              "      <th>y_Verschmutzung</th>\n",
              "      <th>y_Ölmangel</th>\n",
              "      <th>y_Einstellfehler/Bedienfehler/Maschinencrasch</th>\n",
              "      <th>y_kein Fehler festellbar</th>\n",
              "      <th>y_Stromausfall</th>\n",
              "      <th>y_Spiel/Unwucht</th>\n",
              "      <th>y_Leckage (Luft, Wasser ,Öl, Gas, KSS)</th>\n",
              "      <th>y_Fehlende Wartung</th>\n",
              "      <th>y_Herstellfehler/Konstruktionsfehler</th>\n",
              "      <th>y_kein Fehler feststellbar</th>\n",
              "      <th>y_überhitzt/verbrannt</th>\n",
              "    </tr>\n",
              "  </thead>\n",
              "  <tbody>\n",
              "    <tr>\n",
              "      <th>2009-01-13 21:46:00</th>\n",
              "      <td>2009-01-13 21:46:00</td>\n",
              "      <td>SRABENSC</td>\n",
              "      <td>Alterung/Abnutzung/Verschleiß</td>\n",
              "      <td>SRABENSC</td>\n",
              "      <td>59.01</td>\n",
              "      <td>1.0</td>\n",
              "      <td>100053471</td>\n",
              "      <td>2009</td>\n",
              "      <td>1</td>\n",
              "      <td>13</td>\n",
              "      <td>21</td>\n",
              "      <td>46</td>\n",
              "      <td>NaT</td>\n",
              "      <td>NaT</td>\n",
              "      <td>2</td>\n",
              "      <td>1</td>\n",
              "      <td>2009-01-13 21:46:00</td>\n",
              "      <td>NaT</td>\n",
              "      <td>NaT</td>\n",
              "      <td>NaT</td>\n",
              "      <td>NaT</td>\n",
              "      <td>NaT</td>\n",
              "      <td>NaT</td>\n",
              "      <td>NaT</td>\n",
              "      <td>NaT</td>\n",
              "      <td>NaT</td>\n",
              "      <td>NaT</td>\n",
              "      <td>NaT</td>\n",
              "      <td>NaT</td>\n",
              "      <td>NaT</td>\n",
              "      <td>NaT</td>\n",
              "      <td>NaT</td>\n",
              "      <td>NaT</td>\n",
              "      <td>NaT</td>\n",
              "      <td>NaT</td>\n",
              "      <td>NaT</td>\n",
              "      <td>NaT</td>\n",
              "      <td>NaT</td>\n",
              "      <td>NaT</td>\n",
              "      <td>NaT</td>\n",
              "      <td>NaT</td>\n",
              "      <td>NaT</td>\n",
              "      <td>NaT</td>\n",
              "      <td>NaT</td>\n",
              "      <td>NaT</td>\n",
              "      <td>NaT</td>\n",
              "      <td>0</td>\n",
              "      <td>0</td>\n",
              "      <td>0</td>\n",
              "      <td>0</td>\n",
              "      <td>0</td>\n",
              "      <td>0</td>\n",
              "      <td>0</td>\n",
              "      <td>0</td>\n",
              "      <td>0</td>\n",
              "      <td>0</td>\n",
              "      <td>0</td>\n",
              "      <td>0</td>\n",
              "      <td>0</td>\n",
              "      <td>0</td>\n",
              "    </tr>\n",
              "    <tr>\n",
              "      <th>2009-01-14 04:16:00</th>\n",
              "      <td>2009-01-14 04:16:00</td>\n",
              "      <td>BSAMOL1</td>\n",
              "      <td>Änderung an der Maschine</td>\n",
              "      <td>MSEVIM</td>\n",
              "      <td>118.03</td>\n",
              "      <td>2.0</td>\n",
              "      <td>100053471</td>\n",
              "      <td>2009</td>\n",
              "      <td>1</td>\n",
              "      <td>14</td>\n",
              "      <td>4</td>\n",
              "      <td>16</td>\n",
              "      <td>2009-01-13 21:46:00</td>\n",
              "      <td>06:30:00</td>\n",
              "      <td>3</td>\n",
              "      <td>0</td>\n",
              "      <td>2009-01-13 21:46:00</td>\n",
              "      <td>06:30:00</td>\n",
              "      <td>2009-01-14 04:16:00</td>\n",
              "      <td>NaT</td>\n",
              "      <td>NaT</td>\n",
              "      <td>NaT</td>\n",
              "      <td>NaT</td>\n",
              "      <td>NaT</td>\n",
              "      <td>NaT</td>\n",
              "      <td>NaT</td>\n",
              "      <td>NaT</td>\n",
              "      <td>NaT</td>\n",
              "      <td>NaT</td>\n",
              "      <td>NaT</td>\n",
              "      <td>NaT</td>\n",
              "      <td>NaT</td>\n",
              "      <td>NaT</td>\n",
              "      <td>NaT</td>\n",
              "      <td>NaT</td>\n",
              "      <td>NaT</td>\n",
              "      <td>NaT</td>\n",
              "      <td>NaT</td>\n",
              "      <td>NaT</td>\n",
              "      <td>NaT</td>\n",
              "      <td>NaT</td>\n",
              "      <td>NaT</td>\n",
              "      <td>NaT</td>\n",
              "      <td>NaT</td>\n",
              "      <td>NaT</td>\n",
              "      <td>NaT</td>\n",
              "      <td>1</td>\n",
              "      <td>0</td>\n",
              "      <td>0</td>\n",
              "      <td>0</td>\n",
              "      <td>0</td>\n",
              "      <td>0</td>\n",
              "      <td>0</td>\n",
              "      <td>0</td>\n",
              "      <td>0</td>\n",
              "      <td>0</td>\n",
              "      <td>0</td>\n",
              "      <td>0</td>\n",
              "      <td>0</td>\n",
              "      <td>0</td>\n",
              "    </tr>\n",
              "    <tr>\n",
              "      <th>2009-01-14 04:17:00</th>\n",
              "      <td>2009-01-14 04:17:00</td>\n",
              "      <td>BSAMOL1</td>\n",
              "      <td>Überlastung/Bruch/Blockierung/Deformierung</td>\n",
              "      <td>TREIMBOL</td>\n",
              "      <td>118.02</td>\n",
              "      <td>2.0</td>\n",
              "      <td>100053471</td>\n",
              "      <td>2009</td>\n",
              "      <td>1</td>\n",
              "      <td>14</td>\n",
              "      <td>4</td>\n",
              "      <td>17</td>\n",
              "      <td>2009-01-14 04:16:00</td>\n",
              "      <td>00:01:00</td>\n",
              "      <td>4</td>\n",
              "      <td>0</td>\n",
              "      <td>2009-01-13 21:46:00</td>\n",
              "      <td>06:31:00</td>\n",
              "      <td>2009-01-14 04:16:00</td>\n",
              "      <td>00:01:00</td>\n",
              "      <td>2009-01-14 04:17:00</td>\n",
              "      <td>NaT</td>\n",
              "      <td>NaT</td>\n",
              "      <td>NaT</td>\n",
              "      <td>NaT</td>\n",
              "      <td>NaT</td>\n",
              "      <td>NaT</td>\n",
              "      <td>NaT</td>\n",
              "      <td>NaT</td>\n",
              "      <td>NaT</td>\n",
              "      <td>NaT</td>\n",
              "      <td>NaT</td>\n",
              "      <td>NaT</td>\n",
              "      <td>NaT</td>\n",
              "      <td>NaT</td>\n",
              "      <td>NaT</td>\n",
              "      <td>NaT</td>\n",
              "      <td>NaT</td>\n",
              "      <td>NaT</td>\n",
              "      <td>NaT</td>\n",
              "      <td>NaT</td>\n",
              "      <td>NaT</td>\n",
              "      <td>NaT</td>\n",
              "      <td>NaT</td>\n",
              "      <td>NaT</td>\n",
              "      <td>NaT</td>\n",
              "      <td>0</td>\n",
              "      <td>1</td>\n",
              "      <td>0</td>\n",
              "      <td>0</td>\n",
              "      <td>0</td>\n",
              "      <td>0</td>\n",
              "      <td>0</td>\n",
              "      <td>0</td>\n",
              "      <td>0</td>\n",
              "      <td>0</td>\n",
              "      <td>0</td>\n",
              "      <td>0</td>\n",
              "      <td>0</td>\n",
              "      <td>0</td>\n",
              "    </tr>\n",
              "    <tr>\n",
              "      <th>2009-01-14 05:40:00</th>\n",
              "      <td>2009-01-14 05:40:00</td>\n",
              "      <td>MKUCZERA</td>\n",
              "      <td>Alterung/Abnutzung/Verschleiß</td>\n",
              "      <td>PBREITEN</td>\n",
              "      <td>88.52</td>\n",
              "      <td>1.5</td>\n",
              "      <td>100053471</td>\n",
              "      <td>2009</td>\n",
              "      <td>1</td>\n",
              "      <td>14</td>\n",
              "      <td>5</td>\n",
              "      <td>40</td>\n",
              "      <td>2009-01-14 04:17:00</td>\n",
              "      <td>01:23:00</td>\n",
              "      <td>2</td>\n",
              "      <td>1</td>\n",
              "      <td>2009-01-14 05:40:00</td>\n",
              "      <td>07:54:00</td>\n",
              "      <td>2009-01-14 04:16:00</td>\n",
              "      <td>01:24:00</td>\n",
              "      <td>2009-01-14 04:17:00</td>\n",
              "      <td>01:23:00</td>\n",
              "      <td>NaT</td>\n",
              "      <td>NaT</td>\n",
              "      <td>NaT</td>\n",
              "      <td>NaT</td>\n",
              "      <td>NaT</td>\n",
              "      <td>NaT</td>\n",
              "      <td>NaT</td>\n",
              "      <td>NaT</td>\n",
              "      <td>NaT</td>\n",
              "      <td>NaT</td>\n",
              "      <td>NaT</td>\n",
              "      <td>NaT</td>\n",
              "      <td>NaT</td>\n",
              "      <td>NaT</td>\n",
              "      <td>NaT</td>\n",
              "      <td>NaT</td>\n",
              "      <td>NaT</td>\n",
              "      <td>NaT</td>\n",
              "      <td>NaT</td>\n",
              "      <td>NaT</td>\n",
              "      <td>NaT</td>\n",
              "      <td>NaT</td>\n",
              "      <td>NaT</td>\n",
              "      <td>NaT</td>\n",
              "      <td>0</td>\n",
              "      <td>0</td>\n",
              "      <td>0</td>\n",
              "      <td>0</td>\n",
              "      <td>0</td>\n",
              "      <td>0</td>\n",
              "      <td>0</td>\n",
              "      <td>0</td>\n",
              "      <td>0</td>\n",
              "      <td>0</td>\n",
              "      <td>0</td>\n",
              "      <td>0</td>\n",
              "      <td>0</td>\n",
              "      <td>0</td>\n",
              "    </tr>\n",
              "    <tr>\n",
              "      <th>2009-01-14 13:25:00</th>\n",
              "      <td>2009-01-14 13:25:00</td>\n",
              "      <td>GADLER1</td>\n",
              "      <td>Alterung/Abnutzung/Verschleiß</td>\n",
              "      <td>HMERCANO</td>\n",
              "      <td>29.51</td>\n",
              "      <td>0.5</td>\n",
              "      <td>100053471</td>\n",
              "      <td>2009</td>\n",
              "      <td>1</td>\n",
              "      <td>14</td>\n",
              "      <td>13</td>\n",
              "      <td>25</td>\n",
              "      <td>2009-01-14 05:40:00</td>\n",
              "      <td>07:45:00</td>\n",
              "      <td>2</td>\n",
              "      <td>1</td>\n",
              "      <td>2009-01-14 13:25:00</td>\n",
              "      <td>07:45:00</td>\n",
              "      <td>2009-01-14 04:16:00</td>\n",
              "      <td>09:09:00</td>\n",
              "      <td>2009-01-14 04:17:00</td>\n",
              "      <td>09:08:00</td>\n",
              "      <td>NaT</td>\n",
              "      <td>NaT</td>\n",
              "      <td>NaT</td>\n",
              "      <td>NaT</td>\n",
              "      <td>NaT</td>\n",
              "      <td>NaT</td>\n",
              "      <td>NaT</td>\n",
              "      <td>NaT</td>\n",
              "      <td>NaT</td>\n",
              "      <td>NaT</td>\n",
              "      <td>NaT</td>\n",
              "      <td>NaT</td>\n",
              "      <td>NaT</td>\n",
              "      <td>NaT</td>\n",
              "      <td>NaT</td>\n",
              "      <td>NaT</td>\n",
              "      <td>NaT</td>\n",
              "      <td>NaT</td>\n",
              "      <td>NaT</td>\n",
              "      <td>NaT</td>\n",
              "      <td>NaT</td>\n",
              "      <td>NaT</td>\n",
              "      <td>NaT</td>\n",
              "      <td>NaT</td>\n",
              "      <td>0</td>\n",
              "      <td>0</td>\n",
              "      <td>0</td>\n",
              "      <td>0</td>\n",
              "      <td>0</td>\n",
              "      <td>0</td>\n",
              "      <td>0</td>\n",
              "      <td>0</td>\n",
              "      <td>0</td>\n",
              "      <td>0</td>\n",
              "      <td>0</td>\n",
              "      <td>0</td>\n",
              "      <td>0</td>\n",
              "      <td>0</td>\n",
              "    </tr>\n",
              "  </tbody>\n",
              "</table>\n",
              "</div>"
            ],
            "text/plain": [
              "                            Gemeldet_am  ... y_überhitzt/verbrannt\n",
              "2009-01-13 21:46:00 2009-01-13 21:46:00  ...                     0\n",
              "2009-01-14 04:16:00 2009-01-14 04:16:00  ...                     0\n",
              "2009-01-14 04:17:00 2009-01-14 04:17:00  ...                     0\n",
              "2009-01-14 05:40:00 2009-01-14 05:40:00  ...                     0\n",
              "2009-01-14 13:25:00 2009-01-14 13:25:00  ...                     0\n",
              "\n",
              "[5 rows x 60 columns]"
            ]
          },
          "metadata": {
            "tags": []
          },
          "execution_count": 257
        }
      ]
    },
    {
      "cell_type": "code",
      "metadata": {
        "id": "VNKYUfjsSy8k",
        "colab_type": "code",
        "colab": {}
      },
      "source": [
        "# https://stackabuse.com/using-machine-learning-to-predict-the-weather-part-1/\n",
        "# https://towardsdatascience.com/survival-analysis-intuition-implementation-in-python-504fde4fcf8e\n",
        "# https://medium.com/@jouneidraza522/predictive-maintenance-using-machine-learning-lstm-python-373396c6bb82 \n",
        "# https://stackoverflow.com/questions/18066781/create-gantt-plot-with-python-matplotlib"
      ],
      "execution_count": null,
      "outputs": []
    },
    {
      "cell_type": "code",
      "metadata": {
        "id": "n9wnRB82nrH-",
        "colab_type": "code",
        "colab": {
          "base_uri": "https://localhost:8080/",
          "height": 272
        },
        "outputId": "3aaf229f-cdd7-40b9-93dc-2a11e0f9d51e"
      },
      "source": [
        "features_dif"
      ],
      "execution_count": null,
      "outputs": [
        {
          "output_type": "execute_result",
          "data": {
            "text/plain": [
              "['dif_last_kein Fehler feststellbar',\n",
              " 'dif_last_Spiel/Unwucht',\n",
              " 'dif_last_Einstellfehler/Bedienfehler/Maschinencrasch',\n",
              " 'dif_last_Undicht',\n",
              " 'dif_last_überhitzt/verbrannt',\n",
              " 'dif_last_Fehlende Wartung',\n",
              " 'dif_last_Herstellfehler/Konstruktionsfehler',\n",
              " 'dif_last_Leckage (Luft, Wasser ,Öl, Gas, KSS)',\n",
              " 'dif_last_Verschmutzung',\n",
              " 'dif_last_Überlastung/Bruch/Blockierung/Deformierung',\n",
              " 'dif_last_Änderung an der Maschine',\n",
              " 'dif_last_Ölmangel',\n",
              " 'dif_last_kein Fehler festellbar',\n",
              " 'dif_last_Stromausfall',\n",
              " 'dif_last_Alterung/Abnutzung/Verschleiß']"
            ]
          },
          "metadata": {
            "tags": []
          },
          "execution_count": 259
        }
      ]
    },
    {
      "cell_type": "code",
      "metadata": {
        "id": "mIB5YHlYVkwp",
        "colab_type": "code",
        "colab": {
          "base_uri": "https://localhost:8080/",
          "height": 609
        },
        "outputId": "7bfae3d3-f68c-46c4-b140-cc813b2cd758"
      },
      "source": [
        "from datetime import datetime\n",
        "import pandas as pd\n",
        "import matplotlib.pyplot as plt\n",
        "import matplotlib.dates as dt\n",
        "\n",
        "#df = df[df['Jahr'] == '2020']\n",
        "\n",
        "df_plot = df[df['Jahr'] == 2010]\n",
        "df_plot = df_plot[df_plot['Monat'] == 1]\n",
        "fig = plt.figure()\n",
        "ax = fig.add_subplot(111)\n",
        "\n",
        "ax = ax.xaxis_date()\n",
        "ax = plt.hlines(df_plot['label_num'], dt.date2num(df_plot.index), dt.date2num(df_plot.index) + 1)\n",
        "\n",
        "\n",
        "plt.setp(plt.gca().get_xticklabels(), rotation=45, horizontalalignment='right')\n",
        "# Plot a line for every line of data in your file\n"
      ],
      "execution_count": null,
      "outputs": [
        {
          "output_type": "execute_result",
          "data": {
            "text/plain": [
              "[None,\n",
              " None,\n",
              " None,\n",
              " None,\n",
              " None,\n",
              " None,\n",
              " None,\n",
              " None,\n",
              " None,\n",
              " None,\n",
              " None,\n",
              " None,\n",
              " None,\n",
              " None,\n",
              " None,\n",
              " None,\n",
              " None,\n",
              " None]"
            ]
          },
          "metadata": {
            "tags": []
          },
          "execution_count": 260
        },
        {
          "output_type": "display_data",
          "data": {
            "image/png": "[encoded data removed]",
            "text/plain": [
              "<Figure size 432x288 with 1 Axes>"
            ]
          },
          "metadata": {
            "tags": [],
            "needs_background": "light"
          }
        }
      ]
    },
    {
      "cell_type": "code",
      "metadata": {
        "id": "w5s3qW0BU83C",
        "colab_type": "code",
        "colab": {}
      },
      "source": [
        "#X_train, X_test, y_train, y_test = train_test_split(X, y, test_size=0.25)\n",
        "\n",
        "df_train, df_test, y_train, y_test = train_test_split(df, df[labels], test_size=0.25)\n",
        "X_train = df_train[features].iloc[:,1:]\n",
        "X_test = df_test[features].iloc[:,1:]"
      ],
      "execution_count": null,
      "outputs": []
    },
    {
      "cell_type": "code",
      "metadata": {
        "id": "NEhMUlj0X17r",
        "colab_type": "code",
        "colab": {}
      },
      "source": [
        "\n",
        "from sklearn.preprocessing import MinMaxScaler\n",
        "from sklearn.metrics import confusion_matrix,accuracy_score\n",
        "from keras.models import Sequential\n",
        "from keras.layers import Dense, Dropout, LSTM, Activation\n",
        "from keras.callbacks import EarlyStopping"
      ],
      "execution_count": null,
      "outputs": []
    },
    {
      "cell_type": "code",
      "metadata": {
        "id": "ucsM8qJ6YDKG",
        "colab_type": "code",
        "colab": {
          "base_uri": "https://localhost:8080/",
          "height": 34
        },
        "outputId": "7562fdad-3a7c-47e0-ab35-3f11d94523a5"
      },
      "source": [
        "features_col_name = [*features]\n",
        "target_col_name = labels\n",
        "print(features_col_name)\n"
      ],
      "execution_count": null,
      "outputs": [
        {
          "output_type": "stream",
          "text": [
            "['Gemeldet_am', 'Meldung_DURCH_BENUTZER', 'Schadensmeldung', 'Zustaendig', 'Personal_Kosten']\n"
          ],
          "name": "stdout"
        }
      ]
    },
    {
      "cell_type": "code",
      "metadata": {
        "id": "UO83Yl1gZZWP",
        "colab_type": "code",
        "colab": {
          "base_uri": "https://localhost:8080/",
          "height": 54
        },
        "outputId": "5428f210-64b0-40e4-e080-56156c197979"
      },
      "source": [
        "'''\n",
        "sc = MinMaxScaler()\n",
        "df_train[features_col_name]=sc.fit_transform(df_train[features_col_name])\n",
        "df_test[features_col_name]=sc.transform(df_test[features_col_name])\n",
        "\n",
        "def gen_sequence(id_df, seq_length, seq_cols):\n",
        "  df_zeros=pd.DataFrame(np.zeros((seq_length-1,id_df.shape[1])),columns=id_df.columns)\n",
        "  id_df=df_zeros.append(id_df,ignore_index=True)\n",
        "  data_array = id_df[seq_cols].values\n",
        "  num_elements = data_array.shape[0]\n",
        "  lstm_array=[]\n",
        "  for start, stop in zip(range(0, num_elements-seq_length), range(seq_length, num_elements)):\n",
        "    lstm_array.append(data_array[start:stop, :])\n",
        "  return np.array(lstm_array)\n",
        "# function to generate labels\n",
        "\n",
        "def gen_label(id_df, seq_length, seq_cols,label):\n",
        "  df_zeros=pd.DataFrame(np.zeros((seq_length-1,id_df.shape[1])),columns=id_df.columns)\n",
        "  id_df=df_zeros.append(id_df,ignore_index=True)\n",
        "  data_array = id_df[seq_cols].values\n",
        "  num_elements = data_array.shape[0]\n",
        "  y_label=[]\n",
        "  for start, stop in zip(range(0, num_elements-seq_length), range(seq_length, num_elements)):\n",
        "    y_label.append(id_df[label][stop])\n",
        "  return np.array(y_label)\n",
        "\n",
        "# timestamp or window size\n",
        "seq_length=50\n",
        "seq_cols=features_col_name\n",
        "X_train=np.concatenate(list(list(gen_sequence(df_train[df_train[‘month’]==id], seq_length, seq_cols)) for id in df_train[‘month’].unique()))\n",
        "print(X_train.shape)\n",
        "# generate y_train\n",
        "y_train=np.concatenate(list(list(gen_label(df_train[df_train[‘month’]==id], 50, seq_cols,’Faulty’)) for id in df_train[‘month’].unique()))\n",
        "print(y_train.shape)\n",
        "# generate X_test\n",
        "X_test=np.concatenate(list(list(gen_sequence(df_test[df_test[‘month’]==id], seq_length, seq_cols)) for id in df_test[‘month’].unique()))\n",
        "print(X_test.shape)\n",
        "# generate y_test\n",
        "y_test=np.concatenate(list(list(gen_label(df_test[df_test[‘month’]==id], 50, seq_cols,’Faulty’)) for id in df_test[‘month’].unique()))\n",
        "print(y_test.shape)\n",
        "nb_features =X_train.shape[2]\n",
        "timestamp=seq_length\n",
        "model = Sequential()\n",
        "model.add(LSTM(\n",
        "input_shape=(timestamp, nb_features),\n",
        "units=100,\n",
        "return_sequences=True))\n",
        "model.add(Dropout(0.2))\n",
        "model.add(LSTM(\n",
        "units=50,\n",
        "return_sequences=False))\n",
        "model.add(Dropout(0.2))\n",
        "model.add(Dense(units=1, activation=’sigmoid’))\n",
        "model.compile(loss=’binary_crossentropy’, optimizer=’adam’, metrics=[‘accuracy’])\n",
        "model.summary()\n",
        "model.fit(X_train, y_train, epochs=100, batch_size=200, validation_split=0.05, verbose=1,\n",
        "callbacks = [EarlyStopping(monitor=’val_loss’, min_delta=0, patience=0, verbose=0, mode=’auto’)])\n",
        "\n",
        "\n",
        "# training metrics\n",
        "scores = model.evaluate(X_train, y_train, verbose=1, batch_size=200)\n",
        "print(‘Accurracy: {}’.format(scores[1]))\n",
        "y_pred=model.predict_classes(X_test)\n",
        "print(‘Accuracy of model on test data: ‘,accuracy_score(y_test,y_pred))\n",
        "print(‘Confusion Matrix: \\n’,confusion_matrix(y_test,y_pred))\n",
        "'''"
      ],
      "execution_count": null,
      "outputs": [
        {
          "output_type": "execute_result",
          "data": {
            "text/plain": [
              "'\\nsc = MinMaxScaler()\\ndf_train[features_col_name]=sc.fit_transform(df_train[features_col_name])\\ndf_test[features_col_name]=sc.transform(df_test[features_col_name])\\n\\ndef gen_sequence(id_df, seq_length, seq_cols):\\n  df_zeros=pd.DataFrame(np.zeros((seq_length-1,id_df.shape[1])),columns=id_df.columns)\\n  id_df=df_zeros.append(id_df,ignore_index=True)\\n  data_array = id_df[seq_cols].values\\n  num_elements = data_array.shape[0]\\n  lstm_array=[]\\n  for start, stop in zip(range(0, num_elements-seq_length), range(seq_length, num_elements)):\\n    lstm_array.append(data_array[start:stop, :])\\n  return np.array(lstm_array)\\n# function to generate labels\\n\\ndef gen_label(id_df, seq_length, seq_cols,label):\\n  df_zeros=pd.DataFrame(np.zeros((seq_length-1,id_df.shape[1])),columns=id_df.columns)\\n  id_df=df_zeros.append(id_df,ignore_index=True)\\n  data_array = id_df[seq_cols].values\\n  num_elements = data_array.shape[0]\\n  y_label=[]\\n  for start, stop in zip(range(0, num_elements-seq_length), range(seq_length, num_elements)):\\n    y_label.append(id_df[label][stop])\\n  return np.array(y_label)\\n\\n# timestamp or window size\\nseq_length=50\\nseq_cols=features_col_name\\nX_train=np.concatenate(list(list(gen_sequence(df_train[df_train[‘month’]==id], seq_length, seq_cols)) for id in df_train[‘month’].unique()))\\nprint(X_train.shape)\\n# generate y_train\\ny_train=np.concatenate(list(list(gen_label(df_train[df_train[‘month’]==id], 50, seq_cols,’Faulty’)) for id in df_train[‘month’].unique()))\\nprint(y_train.shape)\\n# generate X_test\\nX_test=np.concatenate(list(list(gen_sequence(df_test[df_test[‘month’]==id], seq_length, seq_cols)) for id in df_test[‘month’].unique()))\\nprint(X_test.shape)\\n# generate y_test\\ny_test=np.concatenate(list(list(gen_label(df_test[df_test[‘month’]==id], 50, seq_cols,’Faulty’)) for id in df_test[‘month’].unique()))\\nprint(y_test.shape)\\nnb_features =X_train.shape[2]\\ntimestamp=seq_length\\nmodel = Sequential()\\nmodel.add(LSTM(\\ninput_shape=(timestamp, nb_features),\\nunits=100,\\nreturn_sequences=True))\\nmodel.add(Dropout(0.2))\\nmodel.add(LSTM(\\nunits=50,\\nreturn_sequences=False))\\nmodel.add(Dropout(0.2))\\nmodel.add(Dense(units=1, activation=’sigmoid’))\\nmodel.compile(loss=’binary_crossentropy’, optimizer=’adam’, metrics=[‘accuracy’])\\nmodel.summary()\\nmodel.fit(X_train, y_train, epochs=100, batch_size=200, validation_split=0.05, verbose=1,\\ncallbacks = [EarlyStopping(monitor=’val_loss’, min_delta=0, patience=0, verbose=0, mode=’auto’)])\\n\\n\\n# training metrics\\nscores = model.evaluate(X_train, y_train, verbose=1, batch_size=200)\\nprint(‘Accurracy: {}’.format(scores[1]))\\ny_pred=model.predict_classes(X_test)\\nprint(‘Accuracy of model on test data: ‘,accuracy_score(y_test,y_pred))\\nprint(‘Confusion Matrix: \\n’,confusion_matrix(y_test,y_pred))\\n'"
            ]
          },
          "metadata": {
            "tags": []
          },
          "execution_count": 264
        }
      ]
    },
    {
      "cell_type": "code",
      "metadata": {
        "id": "FcFETWU2clxR",
        "colab_type": "code",
        "colab": {
          "base_uri": "https://localhost:8080/",
          "height": 104
        },
        "outputId": "95576029-f4c2-4df6-d7de-21c75875c070"
      },
      "source": [
        "print(labels)\n",
        "print(features_dif)\n",
        "print(df_train[labels[0]].shape)\n",
        "print(df_train[features_dif[0]].shape)"
      ],
      "execution_count": null,
      "outputs": [
        {
          "output_type": "stream",
          "text": [
            "['y_Alterung/Abnutzung/Verschleiß', 'y_Änderung an der Maschine', 'y_Überlastung/Bruch/Blockierung/Deformierung', 'y_Undicht', 'y_Verschmutzung', 'y_Ölmangel', 'y_Einstellfehler/Bedienfehler/Maschinencrasch', 'y_kein Fehler festellbar', 'y_Stromausfall', 'y_Spiel/Unwucht', 'y_Leckage (Luft, Wasser ,Öl, Gas, KSS)', 'y_Fehlende Wartung', 'y_Herstellfehler/Konstruktionsfehler', 'y_kein Fehler feststellbar', 'y_überhitzt/verbrannt']\n",
            "['dif_last_kein Fehler feststellbar', 'dif_last_Spiel/Unwucht', 'dif_last_Einstellfehler/Bedienfehler/Maschinencrasch', 'dif_last_Undicht', 'dif_last_überhitzt/verbrannt', 'dif_last_Fehlende Wartung', 'dif_last_Herstellfehler/Konstruktionsfehler', 'dif_last_Leckage (Luft, Wasser ,Öl, Gas, KSS)', 'dif_last_Verschmutzung', 'dif_last_Überlastung/Bruch/Blockierung/Deformierung', 'dif_last_Änderung an der Maschine', 'dif_last_Ölmangel', 'dif_last_kein Fehler festellbar', 'dif_last_Stromausfall', 'dif_last_Alterung/Abnutzung/Verschleiß']\n",
            "(2322,)\n",
            "(2322,)\n"
          ],
          "name": "stdout"
        }
      ]
    },
    {
      "cell_type": "code",
      "metadata": {
        "id": "uqa0zWcGT5Mb",
        "colab_type": "code",
        "colab": {}
      },
      "source": [
        "df.head()"
      ],
      "execution_count": null,
      "outputs": []
    },
    {
      "cell_type": "code",
      "metadata": {
        "id": "7-P-FaFSTHxM",
        "colab_type": "code",
        "colab": {}
      },
      "source": [
        "\n",
        "df.set_index('OBJ_ID', inplace=True)\n"
      ],
      "execution_count": null,
      "outputs": []
    },
    {
      "cell_type": "code",
      "metadata": {
        "id": "eERayh3kutFt",
        "colab_type": "code",
        "colab": {
          "base_uri": "https://localhost:8080/",
          "height": 241
        },
        "outputId": "0f8bc192-c6ff-4284-b58d-521eed5f1e0e"
      },
      "source": [
        "print(labels)\n",
        "df[['label_num', 'Schadensmeldung']].head()"
      ],
      "execution_count": 367,
      "outputs": [
        {
          "output_type": "stream",
          "text": [
            "['y_Alterung/Abnutzung/Verschleiß', 'y_Änderung an der Maschine', 'y_Überlastung/Bruch/Blockierung/Deformierung', 'y_Undicht', 'y_Verschmutzung', 'y_Ölmangel', 'y_Einstellfehler/Bedienfehler/Maschinencrasch', 'y_kein Fehler festellbar', 'y_Stromausfall', 'y_Spiel/Unwucht', 'y_Leckage (Luft, Wasser ,Öl, Gas, KSS)', 'y_Fehlende Wartung', 'y_Herstellfehler/Konstruktionsfehler', 'y_kein Fehler feststellbar', 'y_überhitzt/verbrannt']\n"
          ],
          "name": "stdout"
        },
        {
          "output_type": "execute_result",
          "data": {
            "text/html": [
              "<div>\n",
              "<style scoped>\n",
              "    .dataframe tbody tr th:only-of-type {\n",
              "        vertical-align: middle;\n",
              "    }\n",
              "\n",
              "    .dataframe tbody tr th {\n",
              "        vertical-align: top;\n",
              "    }\n",
              "\n",
              "    .dataframe thead th {\n",
              "        text-align: right;\n",
              "    }\n",
              "</style>\n",
              "<table border=\"1\" class=\"dataframe\">\n",
              "  <thead>\n",
              "    <tr style=\"text-align: right;\">\n",
              "      <th></th>\n",
              "      <th>label_num</th>\n",
              "      <th>Schadensmeldung</th>\n",
              "    </tr>\n",
              "  </thead>\n",
              "  <tbody>\n",
              "    <tr>\n",
              "      <th>2009-01-13 21:46:00</th>\n",
              "      <td>2</td>\n",
              "      <td>Alterung/Abnutzung/Verschleiß</td>\n",
              "    </tr>\n",
              "    <tr>\n",
              "      <th>2009-01-14 04:16:00</th>\n",
              "      <td>3</td>\n",
              "      <td>Änderung an der Maschine</td>\n",
              "    </tr>\n",
              "    <tr>\n",
              "      <th>2009-01-14 04:17:00</th>\n",
              "      <td>4</td>\n",
              "      <td>Überlastung/Bruch/Blockierung/Deformierung</td>\n",
              "    </tr>\n",
              "    <tr>\n",
              "      <th>2009-01-14 05:40:00</th>\n",
              "      <td>2</td>\n",
              "      <td>Alterung/Abnutzung/Verschleiß</td>\n",
              "    </tr>\n",
              "    <tr>\n",
              "      <th>2009-01-14 13:25:00</th>\n",
              "      <td>2</td>\n",
              "      <td>Alterung/Abnutzung/Verschleiß</td>\n",
              "    </tr>\n",
              "  </tbody>\n",
              "</table>\n",
              "</div>"
            ],
            "text/plain": [
              "                     label_num                             Schadensmeldung\n",
              "2009-01-13 21:46:00          2               Alterung/Abnutzung/Verschleiß\n",
              "2009-01-14 04:16:00          3                    Änderung an der Maschine\n",
              "2009-01-14 04:17:00          4  Überlastung/Bruch/Blockierung/Deformierung\n",
              "2009-01-14 05:40:00          2               Alterung/Abnutzung/Verschleiß\n",
              "2009-01-14 13:25:00          2               Alterung/Abnutzung/Verschleiß"
            ]
          },
          "metadata": {
            "tags": []
          },
          "execution_count": 367
        }
      ]
    },
    {
      "cell_type": "code",
      "metadata": {
        "id": "d0ENI9MeWVHj",
        "colab_type": "code",
        "colab": {
          "base_uri": "https://localhost:8080/",
          "height": 70
        },
        "outputId": "46afbad3-65f6-48b2-c8d2-9c5aef459faf"
      },
      "source": [
        "# Specify parameters to use \n",
        "# N.B. You can change the sequence length here\n",
        "\n",
        "# reduce the n of labels?\n",
        "# more observations\n",
        "# diffirent time lapse \n",
        "\n",
        "events = labels.copy()\n",
        "events = ['0-Dummy'] + events\n",
        "categories = len(events)\n",
        "\n",
        "series_length = 100\n",
        "\n",
        "time_steps = series_length -1 \n",
        "\n",
        "# Set index to use .loc\n",
        "# oportuniy = machine id\n",
        "# Create sequences - stored in the history variable\n",
        "history = []\n",
        "\n",
        "for x in range(len(df.values) - series_length):\n",
        "    history.append(df['label_num'].values[x: x + series_length])\n",
        "\n",
        "'''\n",
        "[1(Alterung, 23432), 2(Undicht, 12343), 3(Verbrant, 232232)]\n",
        "10:12 Alterung\n",
        "10:12 \n",
        "'''\n",
        "print(history)\n",
        "print(categories)\n"
      ],
      "execution_count": null,
      "outputs": [
        {
          "output_type": "stream",
          "text": [
            "[array([2, 3, 4, 2, 2, 5, 5, 5, 2, 6]), array([3, 4, 2, 2, 5, 5, 5, 2, 6, 7]), array([4, 2, 2, 5, 5, 5, 2, 6, 7, 2]), array([2, 2, 5, 5, 5, 2, 6, 7, 2, 2]), array([2, 5, 5, 5, 2, 6, 7, 2, 2, 2]), array([5, 5, 5, 2, 6, 7, 2, 2, 2, 2]), array([5, 5, 2, 6, 7, 2, 2, 2, 2, 2]), array([5, 2, 6, 7, 2, 2, 2, 2, 2, 7]), array([2, 6, 7, 2, 2, 2, 2, 2, 7, 2]), array([6, 7, 2, 2, 2, 2, 2, 7, 2, 7]), array([7, 2, 2, 2, 2, 2, 7, 2, 7, 2]), array([2, 2, 2, 2, 2, 7, 2, 7, 2, 6]), array([2, 2, 2, 2, 7, 2, 7, 2, 6, 7]), array([2, 2, 2, 7, 2, 7, 2, 6, 7, 8]), array([2, 2, 7, 2, 7, 2, 6, 7, 8, 2]), array([2, 7, 2, 7, 2, 6, 7, 8, 2, 7]), array([7, 2, 7, 2, 6, 7, 8, 2, 7, 7]), array([2, 7, 2, 6, 7, 8, 2, 7, 7, 7]), array([7, 2, 6, 7, 8, 2, 7, 7, 7, 6]), array([2, 6, 7, 8, 2, 7, 7, 7, 6, 7]), array([6, 7, 8, 2, 7, 7, 7, 6, 7, 7]), array([7, 8, 2, 7, 7, 7, 6, 7, 7, 7]), array([8, 2, 7, 7, 7, 6, 7, 7, 7, 8]), array([2, 7, 7, 7, 6, 7, 7, 7, 8, 2]), array([7, 7, 7, 6, 7, 7, 7, 8, 2, 2]), array([7, 7, 6, 7, 7, 7, 8, 2, 2, 7]), array([7, 6, 7, 7, 7, 8, 2, 2, 7, 2]), array([6, 7, 7, 7, 8, 2, 2, 7, 2, 2]), array([7, 7, 7, 8, 2, 2, 7, 2, 2, 2]), array([7, 7, 8, 2, 2, 7, 2, 2, 2, 2]), array([7, 8, 2, 2, 7, 2, 2, 2, 2, 2]), array([8, 2, 2, 7, 2, 2, 2, 2, 2, 3]), array([2, 2, 7, 2, 2, 2, 2, 2, 3, 2]), array([2, 7, 2, 2, 2, 2, 2, 3, 2, 5]), array([7, 2, 2, 2, 2, 2, 3, 2, 5, 2]), array([2, 2, 2, 2, 2, 3, 2, 5, 2, 2]), array([2, 2, 2, 2, 3, 2, 5, 2, 2, 4]), array([2, 2, 2, 3, 2, 5, 2, 2, 4, 6]), array([2, 2, 3, 2, 5, 2, 2, 4, 6, 2]), array([2, 3, 2, 5, 2, 2, 4, 6, 2, 2]), array([3, 2, 5, 2, 2, 4, 6, 2, 2, 2]), array([2, 5, 2, 2, 4, 6, 2, 2, 2, 7]), array([5, 2, 2, 4, 6, 2, 2, 2, 7, 6]), array([2, 2, 4, 6, 2, 2, 2, 7, 6, 2]), array([2, 4, 6, 2, 2, 2, 7, 6, 2, 7]), array([4, 6, 2, 2, 2, 7, 6, 2, 7, 6]), array([6, 2, 2, 2, 7, 6, 2, 7, 6, 7]), array([2, 2, 2, 7, 6, 2, 7, 6, 7, 2]), array([2, 2, 7, 6, 2, 7, 6, 7, 2, 6]), array([2, 7, 6, 2, 7, 6, 7, 2, 6, 2]), array([7, 6, 2, 7, 6, 7, 2, 6, 2, 2]), array([6, 2, 7, 6, 7, 2, 6, 2, 2, 2]), array([2, 7, 6, 7, 2, 6, 2, 2, 2, 2]), array([7, 6, 7, 2, 6, 2, 2, 2, 2, 2]), array([6, 7, 2, 6, 2, 2, 2, 2, 2, 7]), array([7, 2, 6, 2, 2, 2, 2, 2, 7, 6]), array([2, 6, 2, 2, 2, 2, 2, 7, 6, 6]), array([6, 2, 2, 2, 2, 2, 7, 6, 6, 2]), array([2, 2, 2, 2, 2, 7, 6, 6, 2, 2]), array([2, 2, 2, 2, 7, 6, 6, 2, 2, 7]), array([2, 2, 2, 7, 6, 6, 2, 2, 7, 2]), array([2, 2, 7, 6, 6, 2, 2, 7, 2, 4]), array([2, 7, 6, 6, 2, 2, 7, 2, 4, 7]), array([7, 6, 6, 2, 2, 7, 2, 4, 7, 2]), array([6, 6, 2, 2, 7, 2, 4, 7, 2, 7]), array([6, 2, 2, 7, 2, 4, 7, 2, 7, 2]), array([2, 2, 7, 2, 4, 7, 2, 7, 2, 4]), array([2, 7, 2, 4, 7, 2, 7, 2, 4, 2]), array([7, 2, 4, 7, 2, 7, 2, 4, 2, 6]), array([2, 4, 7, 2, 7, 2, 4, 2, 6, 7]), array([4, 7, 2, 7, 2, 4, 2, 6, 7, 6]), array([7, 2, 7, 2, 4, 2, 6, 7, 6, 5]), array([2, 7, 2, 4, 2, 6, 7, 6, 5, 7]), array([7, 2, 4, 2, 6, 7, 6, 5, 7, 7]), array([2, 4, 2, 6, 7, 6, 5, 7, 7, 4]), array([4, 2, 6, 7, 6, 5, 7, 7, 4, 2]), array([2, 6, 7, 6, 5, 7, 7, 4, 2, 6]), array([6, 7, 6, 5, 7, 7, 4, 2, 6, 2]), array([7, 6, 5, 7, 7, 4, 2, 6, 2, 8]), array([6, 5, 7, 7, 4, 2, 6, 2, 8, 2]), array([5, 7, 7, 4, 2, 6, 2, 8, 2, 8]), array([7, 7, 4, 2, 6, 2, 8, 2, 8, 2]), array([7, 4, 2, 6, 2, 8, 2, 8, 2, 2]), array([4, 2, 6, 2, 8, 2, 8, 2, 2, 2]), array([2, 6, 2, 8, 2, 8, 2, 2, 2, 2]), array([6, 2, 8, 2, 8, 2, 2, 2, 2, 6]), array([2, 8, 2, 8, 2, 2, 2, 2, 6, 3]), array([8, 2, 8, 2, 2, 2, 2, 6, 3, 2]), array([2, 8, 2, 2, 2, 2, 6, 3, 2, 7]), array([8, 2, 2, 2, 2, 6, 3, 2, 7, 5]), array([2, 2, 2, 2, 6, 3, 2, 7, 5, 2]), array([2, 2, 2, 6, 3, 2, 7, 5, 2, 2]), array([2, 2, 6, 3, 2, 7, 5, 2, 2, 4]), array([2, 6, 3, 2, 7, 5, 2, 2, 4, 2]), array([6, 3, 2, 7, 5, 2, 2, 4, 2, 8]), array([3, 2, 7, 5, 2, 2, 4, 2, 8, 7]), array([2, 7, 5, 2, 2, 4, 2, 8, 7, 9]), array([7, 5, 2, 2, 4, 2, 8, 7, 9, 6]), array([5, 2, 2, 4, 2, 8, 7, 9, 6, 7]), array([2, 2, 4, 2, 8, 7, 9, 6, 7, 2]), array([2, 4, 2, 8, 7, 9, 6, 7, 2, 5]), array([4, 2, 8, 7, 9, 6, 7, 2, 5, 2]), array([2, 8, 7, 9, 6, 7, 2, 5, 2, 2]), array([8, 7, 9, 6, 7, 2, 5, 2, 2, 2]), array([7, 9, 6, 7, 2, 5, 2, 2, 2, 2]), array([9, 6, 7, 2, 5, 2, 2, 2, 2, 2]), array([6, 7, 2, 5, 2, 2, 2, 2, 2, 7]), array([7, 2, 5, 2, 2, 2, 2, 2, 7, 6]), array([2, 5, 2, 2, 2, 2, 2, 7, 6, 2]), array([5, 2, 2, 2, 2, 2, 7, 6, 2, 2]), array([2, 2, 2, 2, 2, 7, 6, 2, 2, 2]), array([2, 2, 2, 2, 7, 6, 2, 2, 2, 2]), array([2, 2, 2, 7, 6, 2, 2, 2, 2, 6]), array([2, 2, 7, 6, 2, 2, 2, 2, 6, 2]), array([2, 7, 6, 2, 2, 2, 2, 6, 2, 5]), array([7, 6, 2, 2, 2, 2, 6, 2, 5, 7]), array([6, 2, 2, 2, 2, 6, 2, 5, 7, 6]), array([2, 2, 2, 2, 6, 2, 5, 7, 6, 3]), array([2, 2, 2, 6, 2, 5, 7, 6, 3, 7]), array([2, 2, 6, 2, 5, 7, 6, 3, 7, 3]), array([2, 6, 2, 5, 7, 6, 3, 7, 3, 7]), array([6, 2, 5, 7, 6, 3, 7, 3, 7, 2]), array([2, 5, 7, 6, 3, 7, 3, 7, 2, 7]), array([5, 7, 6, 3, 7, 3, 7, 2, 7, 7]), array([7, 6, 3, 7, 3, 7, 2, 7, 7, 2]), array([6, 3, 7, 3, 7, 2, 7, 7, 2, 3]), array([3, 7, 3, 7, 2, 7, 7, 2, 3, 7]), array([7, 3, 7, 2, 7, 7, 2, 3, 7, 2]), array([3, 7, 2, 7, 7, 2, 3, 7, 2, 3]), array([7, 2, 7, 7, 2, 3, 7, 2, 3, 2]), array([2, 7, 7, 2, 3, 7, 2, 3, 2, 2]), array([7, 7, 2, 3, 7, 2, 3, 2, 2, 2]), array([7, 2, 3, 7, 2, 3, 2, 2, 2, 7]), array([2, 3, 7, 2, 3, 2, 2, 2, 7, 2]), array([3, 7, 2, 3, 2, 2, 2, 7, 2, 2]), array([7, 2, 3, 2, 2, 2, 7, 2, 2, 2]), array([2, 3, 2, 2, 2, 7, 2, 2, 2, 2]), array([3, 2, 2, 2, 7, 2, 2, 2, 2, 7]), array([2, 2, 2, 7, 2, 2, 2, 2, 7, 7]), array([2, 2, 7, 2, 2, 2, 2, 7, 7, 5]), array([2, 7, 2, 2, 2, 2, 7, 7, 5, 3]), array([7, 2, 2, 2, 2, 7, 7, 5, 3, 7]), array([2, 2, 2, 2, 7, 7, 5, 3, 7, 7]), array([2, 2, 2, 7, 7, 5, 3, 7, 7, 6]), array([2, 2, 7, 7, 5, 3, 7, 7, 6, 2]), array([2, 7, 7, 5, 3, 7, 7, 6, 2, 2]), array([7, 7, 5, 3, 7, 7, 6, 2, 2, 7]), array([7, 5, 3, 7, 7, 6, 2, 2, 7, 2]), array([5, 3, 7, 7, 6, 2, 2, 7, 2, 7]), array([3, 7, 7, 6, 2, 2, 7, 2, 7, 2]), array([7, 7, 6, 2, 2, 7, 2, 7, 2, 7]), array([7, 6, 2, 2, 7, 2, 7, 2, 7, 2]), array([6, 2, 2, 7, 2, 7, 2, 7, 2, 7]), array([2, 2, 7, 2, 7, 2, 7, 2, 7, 2]), array([2, 7, 2, 7, 2, 7, 2, 7, 2, 7]), array([ 7,  2,  7,  2,  7,  2,  7,  2,  7, 10]), array([ 2,  7,  2,  7,  2,  7,  2,  7, 10,  8]), array([ 7,  2,  7,  2,  7,  2,  7, 10,  8,  7]), array([ 2,  7,  2,  7,  2,  7, 10,  8,  7,  2]), array([ 7,  2,  7,  2,  7, 10,  8,  7,  2,  7]), array([ 2,  7,  2,  7, 10,  8,  7,  2,  7,  2]), array([ 7,  2,  7, 10,  8,  7,  2,  7,  2,  6]), array([ 2,  7, 10,  8,  7,  2,  7,  2,  6,  7]), array([ 7, 10,  8,  7,  2,  7,  2,  6,  7,  2]), array([10,  8,  7,  2,  7,  2,  6,  7,  2,  2]), array([8, 7, 2, 7, 2, 6, 7, 2, 2, 2]), array([7, 2, 7, 2, 6, 7, 2, 2, 2, 2]), array([2, 7, 2, 6, 7, 2, 2, 2, 2, 2]), array([7, 2, 6, 7, 2, 2, 2, 2, 2, 2]), array([2, 6, 7, 2, 2, 2, 2, 2, 2, 5]), array([6, 7, 2, 2, 2, 2, 2, 2, 5, 2]), array([7, 2, 2, 2, 2, 2, 2, 5, 2, 2]), array([2, 2, 2, 2, 2, 2, 5, 2, 2, 6]), array([2, 2, 2, 2, 2, 5, 2, 2, 6, 8]), array([2, 2, 2, 2, 5, 2, 2, 6, 8, 7]), array([2, 2, 2, 5, 2, 2, 6, 8, 7, 2]), array([2, 2, 5, 2, 2, 6, 8, 7, 2, 7]), array([2, 5, 2, 2, 6, 8, 7, 2, 7, 7]), array([5, 2, 2, 6, 8, 7, 2, 7, 7, 2]), array([2, 2, 6, 8, 7, 2, 7, 7, 2, 2]), array([2, 6, 8, 7, 2, 7, 7, 2, 2, 7]), array([6, 8, 7, 2, 7, 7, 2, 2, 7, 7]), array([8, 7, 2, 7, 7, 2, 2, 7, 7, 7]), array([7, 2, 7, 7, 2, 2, 7, 7, 7, 2]), array([2, 7, 7, 2, 2, 7, 7, 7, 2, 3]), array([7, 7, 2, 2, 7, 7, 7, 2, 3, 2]), array([7, 2, 2, 7, 7, 7, 2, 3, 2, 2]), array([2, 2, 7, 7, 7, 2, 3, 2, 2, 2]), array([2, 7, 7, 7, 2, 3, 2, 2, 2, 6]), array([7, 7, 7, 2, 3, 2, 2, 2, 6, 7]), array([7, 7, 2, 3, 2, 2, 2, 6, 7, 6]), array([7, 2, 3, 2, 2, 2, 6, 7, 6, 6]), array([2, 3, 2, 2, 2, 6, 7, 6, 6, 7]), array([3, 2, 2, 2, 6, 7, 6, 6, 7, 7]), array([2, 2, 2, 6, 7, 6, 6, 7, 7, 6]), array([2, 2, 6, 7, 6, 6, 7, 7, 6, 2]), array([2, 6, 7, 6, 6, 7, 7, 6, 2, 6]), array([6, 7, 6, 6, 7, 7, 6, 2, 6, 6]), array([7, 6, 6, 7, 7, 6, 2, 6, 6, 7]), array([6, 6, 7, 7, 6, 2, 6, 6, 7, 2]), array([6, 7, 7, 6, 2, 6, 6, 7, 2, 5]), array([7, 7, 6, 2, 6, 6, 7, 2, 5, 7]), array([7, 6, 2, 6, 6, 7, 2, 5, 7, 2]), array([6, 2, 6, 6, 7, 2, 5, 7, 2, 2]), array([2, 6, 6, 7, 2, 5, 7, 2, 2, 6]), array([ 6,  6,  7,  2,  5,  7,  2,  2,  6, 11]), array([ 6,  7,  2,  5,  7,  2,  2,  6, 11,  2]), array([ 7,  2,  5,  7,  2,  2,  6, 11,  2,  6]), array([ 2,  5,  7,  2,  2,  6, 11,  2,  6,  7]), array([ 5,  7,  2,  2,  6, 11,  2,  6,  7,  7]), array([ 7,  2,  2,  6, 11,  2,  6,  7,  7,  2]), array([ 2,  2,  6, 11,  2,  6,  7,  7,  2,  6]), array([ 2,  6, 11,  2,  6,  7,  7,  2,  6,  2]), array([ 6, 11,  2,  6,  7,  7,  2,  6,  2,  5]), array([11,  2,  6,  7,  7,  2,  6,  2,  5,  6]), array([2, 6, 7, 7, 2, 6, 2, 5, 6, 5]), array([6, 7, 7, 2, 6, 2, 5, 6, 5, 5]), array([7, 7, 2, 6, 2, 5, 6, 5, 5, 5]), array([7, 2, 6, 2, 5, 6, 5, 5, 5, 6]), array([2, 6, 2, 5, 6, 5, 5, 5, 6, 6]), array([6, 2, 5, 6, 5, 5, 5, 6, 6, 3]), array([2, 5, 6, 5, 5, 5, 6, 6, 3, 8]), array([5, 6, 5, 5, 5, 6, 6, 3, 8, 2]), array([6, 5, 5, 5, 6, 6, 3, 8, 2, 6]), array([5, 5, 5, 6, 6, 3, 8, 2, 6, 3]), array([5, 5, 6, 6, 3, 8, 2, 6, 3, 2]), array([5, 6, 6, 3, 8, 2, 6, 3, 2, 7]), array([6, 6, 3, 8, 2, 6, 3, 2, 7, 2]), array([6, 3, 8, 2, 6, 3, 2, 7, 2, 2]), array([3, 8, 2, 6, 3, 2, 7, 2, 2, 7]), array([8, 2, 6, 3, 2, 7, 2, 2, 7, 7]), array([2, 6, 3, 2, 7, 2, 2, 7, 7, 2]), array([6, 3, 2, 7, 2, 2, 7, 7, 2, 2]), array([3, 2, 7, 2, 2, 7, 7, 2, 2, 7]), array([2, 7, 2, 2, 7, 7, 2, 2, 7, 2]), array([7, 2, 2, 7, 7, 2, 2, 7, 2, 2]), array([2, 2, 7, 7, 2, 2, 7, 2, 2, 6]), array([2, 7, 7, 2, 2, 7, 2, 2, 6, 2]), array([7, 7, 2, 2, 7, 2, 2, 6, 2, 7]), array([7, 2, 2, 7, 2, 2, 6, 2, 7, 2]), array([2, 2, 7, 2, 2, 6, 2, 7, 2, 2]), array([2, 7, 2, 2, 6, 2, 7, 2, 2, 2]), array([7, 2, 2, 6, 2, 7, 2, 2, 2, 9]), array([2, 2, 6, 2, 7, 2, 2, 2, 9, 2]), array([2, 6, 2, 7, 2, 2, 2, 9, 2, 7]), array([6, 2, 7, 2, 2, 2, 9, 2, 7, 3]), array([2, 7, 2, 2, 2, 9, 2, 7, 3, 6]), array([7, 2, 2, 2, 9, 2, 7, 3, 6, 7]), array([2, 2, 2, 9, 2, 7, 3, 6, 7, 7]), array([2, 2, 9, 2, 7, 3, 6, 7, 7, 7]), array([2, 9, 2, 7, 3, 6, 7, 7, 7, 2]), array([9, 2, 7, 3, 6, 7, 7, 7, 2, 2]), array([2, 7, 3, 6, 7, 7, 7, 2, 2, 6]), array([7, 3, 6, 7, 7, 7, 2, 2, 6, 7]), array([3, 6, 7, 7, 7, 2, 2, 6, 7, 2]), array([6, 7, 7, 7, 2, 2, 6, 7, 2, 6]), array([7, 7, 7, 2, 2, 6, 7, 2, 6, 7]), array([7, 7, 2, 2, 6, 7, 2, 6, 7, 6]), array([7, 2, 2, 6, 7, 2, 6, 7, 6, 2]), array([2, 2, 6, 7, 2, 6, 7, 6, 2, 7]), array([2, 6, 7, 2, 6, 7, 6, 2, 7, 2]), array([6, 7, 2, 6, 7, 6, 2, 7, 2, 6]), array([7, 2, 6, 7, 6, 2, 7, 2, 6, 7]), array([2, 6, 7, 6, 2, 7, 2, 6, 7, 7]), array([6, 7, 6, 2, 7, 2, 6, 7, 7, 2]), array([7, 6, 2, 7, 2, 6, 7, 7, 2, 2]), array([6, 2, 7, 2, 6, 7, 7, 2, 2, 7]), array([2, 7, 2, 6, 7, 7, 2, 2, 7, 6]), array([7, 2, 6, 7, 7, 2, 2, 7, 6, 5]), array([2, 6, 7, 7, 2, 2, 7, 6, 5, 6]), array([6, 7, 7, 2, 2, 7, 6, 5, 6, 8]), array([7, 7, 2, 2, 7, 6, 5, 6, 8, 7]), array([7, 2, 2, 7, 6, 5, 6, 8, 7, 2]), array([2, 2, 7, 6, 5, 6, 8, 7, 2, 7]), array([2, 7, 6, 5, 6, 8, 7, 2, 7, 4]), array([7, 6, 5, 6, 8, 7, 2, 7, 4, 2]), array([ 6,  5,  6,  8,  7,  2,  7,  4,  2, 12]), array([ 5,  6,  8,  7,  2,  7,  4,  2, 12,  2]), array([ 6,  8,  7,  2,  7,  4,  2, 12,  2,  2]), array([ 8,  7,  2,  7,  4,  2, 12,  2,  2,  6]), array([ 7,  2,  7,  4,  2, 12,  2,  2,  6,  2]), array([ 2,  7,  4,  2, 12,  2,  2,  6,  2,  2]), array([ 7,  4,  2, 12,  2,  2,  6,  2,  2,  7]), array([ 4,  2, 12,  2,  2,  6,  2,  2,  7,  7]), array([ 2, 12,  2,  2,  6,  2,  2,  7,  7,  7]), array([12,  2,  2,  6,  2,  2,  7,  7,  7,  6]), array([2, 2, 6, 2, 2, 7, 7, 7, 6, 8]), array([2, 6, 2, 2, 7, 7, 7, 6, 8, 2]), array([6, 2, 2, 7, 7, 7, 6, 8, 2, 2]), array([2, 2, 7, 7, 7, 6, 8, 2, 2, 2]), array([2, 7, 7, 7, 6, 8, 2, 2, 2, 2]), array([7, 7, 7, 6, 8, 2, 2, 2, 2, 2]), array([7, 7, 6, 8, 2, 2, 2, 2, 2, 2]), array([7, 6, 8, 2, 2, 2, 2, 2, 2, 5]), array([6, 8, 2, 2, 2, 2, 2, 2, 5, 2]), array([8, 2, 2, 2, 2, 2, 2, 5, 2, 2]), array([2, 2, 2, 2, 2, 2, 5, 2, 2, 7]), array([2, 2, 2, 2, 2, 5, 2, 2, 7, 2]), array([2, 2, 2, 2, 5, 2, 2, 7, 2, 2]), array([2, 2, 2, 5, 2, 2, 7, 2, 2, 8]), array([2, 2, 5, 2, 2, 7, 2, 2, 8, 2]), array([2, 5, 2, 2, 7, 2, 2, 8, 2, 2]), array([5, 2, 2, 7, 2, 2, 8, 2, 2, 2]), array([2, 2, 7, 2, 2, 8, 2, 2, 2, 6]), array([2, 7, 2, 2, 8, 2, 2, 2, 6, 2]), array([7, 2, 2, 8, 2, 2, 2, 6, 2, 7]), array([2, 2, 8, 2, 2, 2, 6, 2, 7, 2]), array([2, 8, 2, 2, 2, 6, 2, 7, 2, 5]), array([8, 2, 2, 2, 6, 2, 7, 2, 5, 2]), array([2, 2, 2, 6, 2, 7, 2, 5, 2, 2]), array([2, 2, 6, 2, 7, 2, 5, 2, 2, 6]), array([2, 6, 2, 7, 2, 5, 2, 2, 6, 3]), array([6, 2, 7, 2, 5, 2, 2, 6, 3, 2]), array([2, 7, 2, 5, 2, 2, 6, 3, 2, 2]), array([7, 2, 5, 2, 2, 6, 3, 2, 2, 2]), array([2, 5, 2, 2, 6, 3, 2, 2, 2, 2]), array([5, 2, 2, 6, 3, 2, 2, 2, 2, 2]), array([2, 2, 6, 3, 2, 2, 2, 2, 2, 2]), array([2, 6, 3, 2, 2, 2, 2, 2, 2, 2]), array([6, 3, 2, 2, 2, 2, 2, 2, 2, 7]), array([3, 2, 2, 2, 2, 2, 2, 2, 7, 7]), array([2, 2, 2, 2, 2, 2, 2, 7, 7, 2]), array([2, 2, 2, 2, 2, 2, 7, 7, 2, 7]), array([2, 2, 2, 2, 2, 7, 7, 2, 7, 6]), array([2, 2, 2, 2, 7, 7, 2, 7, 6, 4]), array([2, 2, 2, 7, 7, 2, 7, 6, 4, 4]), array([2, 2, 7, 7, 2, 7, 6, 4, 4, 2]), array([2, 7, 7, 2, 7, 6, 4, 4, 2, 6]), array([7, 7, 2, 7, 6, 4, 4, 2, 6, 7]), array([7, 2, 7, 6, 4, 4, 2, 6, 7, 2]), array([2, 7, 6, 4, 4, 2, 6, 7, 2, 2]), array([7, 6, 4, 4, 2, 6, 7, 2, 2, 2]), array([6, 4, 4, 2, 6, 7, 2, 2, 2, 7]), array([4, 4, 2, 6, 7, 2, 2, 2, 7, 2]), array([4, 2, 6, 7, 2, 2, 2, 7, 2, 2]), array([2, 6, 7, 2, 2, 2, 7, 2, 2, 4]), array([6, 7, 2, 2, 2, 7, 2, 2, 4, 2]), array([7, 2, 2, 2, 7, 2, 2, 4, 2, 2]), array([2, 2, 2, 7, 2, 2, 4, 2, 2, 7]), array([2, 2, 7, 2, 2, 4, 2, 2, 7, 2]), array([2, 7, 2, 2, 4, 2, 2, 7, 2, 6]), array([7, 2, 2, 4, 2, 2, 7, 2, 6, 2]), array([2, 2, 4, 2, 2, 7, 2, 6, 2, 7]), array([2, 4, 2, 2, 7, 2, 6, 2, 7, 2]), array([4, 2, 2, 7, 2, 6, 2, 7, 2, 7]), array([2, 2, 7, 2, 6, 2, 7, 2, 7, 2]), array([2, 7, 2, 6, 2, 7, 2, 7, 2, 7]), array([7, 2, 6, 2, 7, 2, 7, 2, 7, 7]), array([2, 6, 2, 7, 2, 7, 2, 7, 7, 2]), array([6, 2, 7, 2, 7, 2, 7, 7, 2, 2]), array([2, 7, 2, 7, 2, 7, 7, 2, 2, 2]), array([7, 2, 7, 2, 7, 7, 2, 2, 2, 7]), array([2, 7, 2, 7, 7, 2, 2, 2, 7, 6]), array([7, 2, 7, 7, 2, 2, 2, 7, 6, 2]), array([2, 7, 7, 2, 2, 2, 7, 6, 2, 2]), array([7, 7, 2, 2, 2, 7, 6, 2, 2, 6]), array([7, 2, 2, 2, 7, 6, 2, 2, 6, 8]), array([2, 2, 2, 7, 6, 2, 2, 6, 8, 7]), array([2, 2, 7, 6, 2, 2, 6, 8, 7, 7]), array([2, 7, 6, 2, 2, 6, 8, 7, 7, 3]), array([7, 6, 2, 2, 6, 8, 7, 7, 3, 2]), array([6, 2, 2, 6, 8, 7, 7, 3, 2, 7]), array([2, 2, 6, 8, 7, 7, 3, 2, 7, 2]), array([2, 6, 8, 7, 7, 3, 2, 7, 2, 6]), array([6, 8, 7, 7, 3, 2, 7, 2, 6, 7]), array([8, 7, 7, 3, 2, 7, 2, 6, 7, 2]), array([7, 7, 3, 2, 7, 2, 6, 7, 2, 2]), array([7, 3, 2, 7, 2, 6, 7, 2, 2, 2]), array([3, 2, 7, 2, 6, 7, 2, 2, 2, 7]), array([2, 7, 2, 6, 7, 2, 2, 2, 7, 2]), array([7, 2, 6, 7, 2, 2, 2, 7, 2, 2]), array([2, 6, 7, 2, 2, 2, 7, 2, 2, 2]), array([6, 7, 2, 2, 2, 7, 2, 2, 2, 2]), array([7, 2, 2, 2, 7, 2, 2, 2, 2, 6]), array([2, 2, 2, 7, 2, 2, 2, 2, 6, 2]), array([2, 2, 7, 2, 2, 2, 2, 6, 2, 7]), array([2, 7, 2, 2, 2, 2, 6, 2, 7, 4]), array([7, 2, 2, 2, 2, 6, 2, 7, 4, 6]), array([2, 2, 2, 2, 6, 2, 7, 4, 6, 2]), array([2, 2, 2, 6, 2, 7, 4, 6, 2, 6]), array([2, 2, 6, 2, 7, 4, 6, 2, 6, 7]), array([2, 6, 2, 7, 4, 6, 2, 6, 7, 2]), array([6, 2, 7, 4, 6, 2, 6, 7, 2, 6]), array([2, 7, 4, 6, 2, 6, 7, 2, 6, 7]), array([7, 4, 6, 2, 6, 7, 2, 6, 7, 2]), array([4, 6, 2, 6, 7, 2, 6, 7, 2, 2]), array([6, 2, 6, 7, 2, 6, 7, 2, 2, 2]), array([2, 6, 7, 2, 6, 7, 2, 2, 2, 2]), array([6, 7, 2, 6, 7, 2, 2, 2, 2, 2]), array([7, 2, 6, 7, 2, 2, 2, 2, 2, 2]), array([2, 6, 7, 2, 2, 2, 2, 2, 2, 2]), array([6, 7, 2, 2, 2, 2, 2, 2, 2, 2]), array([7, 2, 2, 2, 2, 2, 2, 2, 2, 7]), array([2, 2, 2, 2, 2, 2, 2, 2, 7, 7]), array([2, 2, 2, 2, 2, 2, 2, 7, 7, 3]), array([2, 2, 2, 2, 2, 2, 7, 7, 3, 5]), array([2, 2, 2, 2, 2, 7, 7, 3, 5, 2]), array([2, 2, 2, 2, 7, 7, 3, 5, 2, 2]), array([2, 2, 2, 7, 7, 3, 5, 2, 2, 7]), array([2, 2, 7, 7, 3, 5, 2, 2, 7, 2]), array([2, 7, 7, 3, 5, 2, 2, 7, 2, 7]), array([7, 7, 3, 5, 2, 2, 7, 2, 7, 6]), array([7, 3, 5, 2, 2, 7, 2, 7, 6, 7]), array([3, 5, 2, 2, 7, 2, 7, 6, 7, 8]), array([5, 2, 2, 7, 2, 7, 6, 7, 8, 2]), array([2, 2, 7, 2, 7, 6, 7, 8, 2, 8]), array([2, 7, 2, 7, 6, 7, 8, 2, 8, 2]), array([7, 2, 7, 6, 7, 8, 2, 8, 2, 2]), array([2, 7, 6, 7, 8, 2, 8, 2, 2, 7]), array([7, 6, 7, 8, 2, 8, 2, 2, 7, 7]), array([6, 7, 8, 2, 8, 2, 2, 7, 7, 2]), array([7, 8, 2, 8, 2, 2, 7, 7, 2, 9]), array([8, 2, 8, 2, 2, 7, 7, 2, 9, 2]), array([2, 8, 2, 2, 7, 7, 2, 9, 2, 2]), array([8, 2, 2, 7, 7, 2, 9, 2, 2, 2]), array([2, 2, 7, 7, 2, 9, 2, 2, 2, 2]), array([2, 7, 7, 2, 9, 2, 2, 2, 2, 2]), array([7, 7, 2, 9, 2, 2, 2, 2, 2, 6]), array([7, 2, 9, 2, 2, 2, 2, 2, 6, 2]), array([2, 9, 2, 2, 2, 2, 2, 6, 2, 2]), array([9, 2, 2, 2, 2, 2, 6, 2, 2, 2]), array([2, 2, 2, 2, 2, 6, 2, 2, 2, 2]), array([2, 2, 2, 2, 6, 2, 2, 2, 2, 2]), array([2, 2, 2, 6, 2, 2, 2, 2, 2, 7]), array([2, 2, 6, 2, 2, 2, 2, 2, 7, 2]), array([2, 6, 2, 2, 2, 2, 2, 7, 2, 3]), array([6, 2, 2, 2, 2, 2, 7, 2, 3, 2]), array([2, 2, 2, 2, 2, 7, 2, 3, 2, 2]), array([ 2,  2,  2,  2,  7,  2,  3,  2,  2, 13]), array([ 2,  2,  2,  7,  2,  3,  2,  2, 13,  5]), array([ 2,  2,  7,  2,  3,  2,  2, 13,  5,  7]), array([ 2,  7,  2,  3,  2,  2, 13,  5,  7,  2]), array([ 7,  2,  3,  2,  2, 13,  5,  7,  2,  6]), array([ 2,  3,  2,  2, 13,  5,  7,  2,  6,  7]), array([ 3,  2,  2, 13,  5,  7,  2,  6,  7,  2]), array([ 2,  2, 13,  5,  7,  2,  6,  7,  2,  2]), array([ 2, 13,  5,  7,  2,  6,  7,  2,  2,  2]), array([13,  5,  7,  2,  6,  7,  2,  2,  2,  2]), array([5, 7, 2, 6, 7, 2, 2, 2, 2, 2]), array([ 7,  2,  6,  7,  2,  2,  2,  2,  2, 12]), array([ 2,  6,  7,  2,  2,  2,  2,  2, 12,  7]), array([ 6,  7,  2,  2,  2,  2,  2, 12,  7,  2]), array([ 7,  2,  2,  2,  2,  2, 12,  7,  2,  2]), array([ 2,  2,  2,  2,  2, 12,  7,  2,  2,  2]), array([ 2,  2,  2,  2, 12,  7,  2,  2,  2,  7]), array([ 2,  2,  2, 12,  7,  2,  2,  2,  7,  2]), array([ 2,  2, 12,  7,  2,  2,  2,  7,  2,  2]), array([ 2, 12,  7,  2,  2,  2,  7,  2,  2,  7]), array([12,  7,  2,  2,  2,  7,  2,  2,  7,  2]), array([7, 2, 2, 2, 7, 2, 2, 7, 2, 6]), array([2, 2, 2, 7, 2, 2, 7, 2, 6, 2]), array([2, 2, 7, 2, 2, 7, 2, 6, 2, 2]), array([2, 7, 2, 2, 7, 2, 6, 2, 2, 2]), array([7, 2, 2, 7, 2, 6, 2, 2, 2, 7]), array([2, 2, 7, 2, 6, 2, 2, 2, 7, 2]), array([2, 7, 2, 6, 2, 2, 2, 7, 2, 6]), array([7, 2, 6, 2, 2, 2, 7, 2, 6, 2]), array([2, 6, 2, 2, 2, 7, 2, 6, 2, 2]), array([6, 2, 2, 2, 7, 2, 6, 2, 2, 2]), array([2, 2, 2, 7, 2, 6, 2, 2, 2, 2]), array([2, 2, 7, 2, 6, 2, 2, 2, 2, 2]), array([2, 7, 2, 6, 2, 2, 2, 2, 2, 2]), array([7, 2, 6, 2, 2, 2, 2, 2, 2, 2]), array([2, 6, 2, 2, 2, 2, 2, 2, 2, 7]), array([6, 2, 2, 2, 2, 2, 2, 2, 7, 6]), array([2, 2, 2, 2, 2, 2, 2, 7, 6, 2]), array([2, 2, 2, 2, 2, 2, 7, 6, 2, 6]), array([2, 2, 2, 2, 2, 7, 6, 2, 6, 2]), array([2, 2, 2, 2, 7, 6, 2, 6, 2, 8]), array([2, 2, 2, 7, 6, 2, 6, 2, 8, 7]), array([2, 2, 7, 6, 2, 6, 2, 8, 7, 6]), array([2, 7, 6, 2, 6, 2, 8, 7, 6, 2]), array([7, 6, 2, 6, 2, 8, 7, 6, 2, 2]), array([6, 2, 6, 2, 8, 7, 6, 2, 2, 2]), array([2, 6, 2, 8, 7, 6, 2, 2, 2, 2]), array([6, 2, 8, 7, 6, 2, 2, 2, 2, 2]), array([2, 8, 7, 6, 2, 2, 2, 2, 2, 7]), array([8, 7, 6, 2, 2, 2, 2, 2, 7, 2]), array([7, 6, 2, 2, 2, 2, 2, 7, 2, 6]), array([6, 2, 2, 2, 2, 2, 7, 2, 6, 7]), array([2, 2, 2, 2, 2, 7, 2, 6, 7, 2]), array([2, 2, 2, 2, 7, 2, 6, 7, 2, 2]), array([2, 2, 2, 7, 2, 6, 7, 2, 2, 3]), array([2, 2, 7, 2, 6, 7, 2, 2, 3, 2]), array([2, 7, 2, 6, 7, 2, 2, 3, 2, 2]), array([7, 2, 6, 7, 2, 2, 3, 2, 2, 2]), array([2, 6, 7, 2, 2, 3, 2, 2, 2, 2]), array([6, 7, 2, 2, 3, 2, 2, 2, 2, 6]), array([7, 2, 2, 3, 2, 2, 2, 2, 6, 2]), array([2, 2, 3, 2, 2, 2, 2, 6, 2, 7]), array([2, 3, 2, 2, 2, 2, 6, 2, 7, 2]), array([3, 2, 2, 2, 2, 6, 2, 7, 2, 7]), array([2, 2, 2, 2, 6, 2, 7, 2, 7, 2]), array([2, 2, 2, 6, 2, 7, 2, 7, 2, 2]), array([2, 2, 6, 2, 7, 2, 7, 2, 2, 2]), array([2, 6, 2, 7, 2, 7, 2, 2, 2, 6]), array([6, 2, 7, 2, 7, 2, 2, 2, 6, 2]), array([2, 7, 2, 7, 2, 2, 2, 6, 2, 2]), array([7, 2, 7, 2, 2, 2, 6, 2, 2, 7]), array([2, 7, 2, 2, 2, 6, 2, 2, 7, 2]), array([7, 2, 2, 2, 6, 2, 2, 7, 2, 2]), array([2, 2, 2, 6, 2, 2, 7, 2, 2, 2]), array([2, 2, 6, 2, 2, 7, 2, 2, 2, 2]), array([2, 6, 2, 2, 7, 2, 2, 2, 2, 2]), array([6, 2, 2, 7, 2, 2, 2, 2, 2, 2]), array([2, 2, 7, 2, 2, 2, 2, 2, 2, 4]), array([2, 7, 2, 2, 2, 2, 2, 2, 4, 4]), array([ 7,  2,  2,  2,  2,  2,  2,  4,  4, 12]), array([ 2,  2,  2,  2,  2,  2,  4,  4, 12,  2]), array([ 2,  2,  2,  2,  2,  4,  4, 12,  2,  7]), array([ 2,  2,  2,  2,  4,  4, 12,  2,  7,  8]), array([ 2,  2,  2,  4,  4, 12,  2,  7,  8,  2]), array([ 2,  2,  4,  4, 12,  2,  7,  8,  2,  8]), array([ 2,  4,  4, 12,  2,  7,  8,  2,  8,  9]), array([ 4,  4, 12,  2,  7,  8,  2,  8,  9,  7]), array([ 4, 12,  2,  7,  8,  2,  8,  9,  7,  6]), array([12,  2,  7,  8,  2,  8,  9,  7,  6,  2]), array([2, 7, 8, 2, 8, 9, 7, 6, 2, 2]), array([7, 8, 2, 8, 9, 7, 6, 2, 2, 7]), array([8, 2, 8, 9, 7, 6, 2, 2, 7, 7]), array([2, 8, 9, 7, 6, 2, 2, 7, 7, 2]), array([8, 9, 7, 6, 2, 2, 7, 7, 2, 7]), array([9, 7, 6, 2, 2, 7, 7, 2, 7, 2]), array([7, 6, 2, 2, 7, 7, 2, 7, 2, 3]), array([6, 2, 2, 7, 7, 2, 7, 2, 3, 2]), array([2, 2, 7, 7, 2, 7, 2, 3, 2, 2]), array([2, 7, 7, 2, 7, 2, 3, 2, 2, 2]), array([7, 7, 2, 7, 2, 3, 2, 2, 2, 2]), array([7, 2, 7, 2, 3, 2, 2, 2, 2, 2]), array([2, 7, 2, 3, 2, 2, 2, 2, 2, 2]), array([7, 2, 3, 2, 2, 2, 2, 2, 2, 5]), array([ 2,  3,  2,  2,  2,  2,  2,  2,  5, 12]), array([ 3,  2,  2,  2,  2,  2,  2,  5, 12,  7]), array([ 2,  2,  2,  2,  2,  2,  5, 12,  7,  2]), array([ 2,  2,  2,  2,  2,  5, 12,  7,  2,  2]), array([ 2,  2,  2,  2,  5, 12,  7,  2,  2,  6]), array([ 2,  2,  2,  5, 12,  7,  2,  2,  6,  2]), array([ 2,  2,  5, 12,  7,  2,  2,  6,  2,  6]), array([ 2,  5, 12,  7,  2,  2,  6,  2,  6,  7]), array([ 5, 12,  7,  2,  2,  6,  2,  6,  7,  2]), array([12,  7,  2,  2,  6,  2,  6,  7,  2,  2]), array([7, 2, 2, 6, 2, 6, 7, 2, 2, 2]), array([2, 2, 6, 2, 6, 7, 2, 2, 2, 2]), array([2, 6, 2, 6, 7, 2, 2, 2, 2, 6]), array([6, 2, 6, 7, 2, 2, 2, 2, 6, 2]), array([2, 6, 7, 2, 2, 2, 2, 6, 2, 2]), array([6, 7, 2, 2, 2, 2, 6, 2, 2, 2]), array([7, 2, 2, 2, 2, 6, 2, 2, 2, 2]), array([2, 2, 2, 2, 6, 2, 2, 2, 2, 2]), array([2, 2, 2, 6, 2, 2, 2, 2, 2, 7]), array([2, 2, 6, 2, 2, 2, 2, 2, 7, 8]), array([2, 6, 2, 2, 2, 2, 2, 7, 8, 4]), array([6, 2, 2, 2, 2, 2, 7, 8, 4, 7]), array([2, 2, 2, 2, 2, 7, 8, 4, 7, 7]), array([2, 2, 2, 2, 7, 8, 4, 7, 7, 2]), array([2, 2, 2, 7, 8, 4, 7, 7, 2, 2]), array([2, 2, 7, 8, 4, 7, 7, 2, 2, 4]), array([2, 7, 8, 4, 7, 7, 2, 2, 4, 2]), array([7, 8, 4, 7, 7, 2, 2, 4, 2, 7]), array([8, 4, 7, 7, 2, 2, 4, 2, 7, 6]), array([4, 7, 7, 2, 2, 4, 2, 7, 6, 2]), array([7, 7, 2, 2, 4, 2, 7, 6, 2, 6]), array([7, 2, 2, 4, 2, 7, 6, 2, 6, 2]), array([2, 2, 4, 2, 7, 6, 2, 6, 2, 2]), array([2, 4, 2, 7, 6, 2, 6, 2, 2, 7]), array([4, 2, 7, 6, 2, 6, 2, 2, 7, 6]), array([2, 7, 6, 2, 6, 2, 2, 7, 6, 2]), array([7, 6, 2, 6, 2, 2, 7, 6, 2, 2]), array([6, 2, 6, 2, 2, 7, 6, 2, 2, 2]), array([2, 6, 2, 2, 7, 6, 2, 2, 2, 2]), array([6, 2, 2, 7, 6, 2, 2, 2, 2, 2]), array([2, 2, 7, 6, 2, 2, 2, 2, 2, 7]), array([2, 7, 6, 2, 2, 2, 2, 2, 7, 5]), array([7, 6, 2, 2, 2, 2, 2, 7, 5, 2]), array([6, 2, 2, 2, 2, 2, 7, 5, 2, 2]), array([2, 2, 2, 2, 2, 7, 5, 2, 2, 2]), array([2, 2, 2, 2, 7, 5, 2, 2, 2, 6]), array([2, 2, 2, 7, 5, 2, 2, 2, 6, 2]), array([2, 2, 7, 5, 2, 2, 2, 6, 2, 2]), array([2, 7, 5, 2, 2, 2, 6, 2, 2, 2]), array([7, 5, 2, 2, 2, 6, 2, 2, 2, 2]), array([5, 2, 2, 2, 6, 2, 2, 2, 2, 2]), array([2, 2, 2, 6, 2, 2, 2, 2, 2, 2]), array([2, 2, 6, 2, 2, 2, 2, 2, 2, 3]), array([2, 6, 2, 2, 2, 2, 2, 2, 3, 2]), array([6, 2, 2, 2, 2, 2, 2, 3, 2, 3]), array([2, 2, 2, 2, 2, 2, 3, 2, 3, 2]), array([2, 2, 2, 2, 2, 3, 2, 3, 2, 2]), array([2, 2, 2, 2, 3, 2, 3, 2, 2, 2]), array([2, 2, 2, 3, 2, 3, 2, 2, 2, 2]), array([2, 2, 3, 2, 3, 2, 2, 2, 2, 2]), array([2, 3, 2, 3, 2, 2, 2, 2, 2, 6]), array([3, 2, 3, 2, 2, 2, 2, 2, 6, 7]), array([2, 3, 2, 2, 2, 2, 2, 6, 7, 2]), array([3, 2, 2, 2, 2, 2, 6, 7, 2, 6]), array([2, 2, 2, 2, 2, 6, 7, 2, 6, 5]), array([2, 2, 2, 2, 6, 7, 2, 6, 5, 2]), array([2, 2, 2, 6, 7, 2, 6, 5, 2, 4]), array([2, 2, 6, 7, 2, 6, 5, 2, 4, 2]), array([2, 6, 7, 2, 6, 5, 2, 4, 2, 2]), array([6, 7, 2, 6, 5, 2, 4, 2, 2, 2]), array([7, 2, 6, 5, 2, 4, 2, 2, 2, 7]), array([2, 6, 5, 2, 4, 2, 2, 2, 7, 6]), array([6, 5, 2, 4, 2, 2, 2, 7, 6, 5]), array([5, 2, 4, 2, 2, 2, 7, 6, 5, 4]), array([2, 4, 2, 2, 2, 7, 6, 5, 4, 7]), array([4, 2, 2, 2, 7, 6, 5, 4, 7, 2]), array([2, 2, 2, 7, 6, 5, 4, 7, 2, 7]), array([2, 2, 7, 6, 5, 4, 7, 2, 7, 2]), array([2, 7, 6, 5, 4, 7, 2, 7, 2, 2]), array([7, 6, 5, 4, 7, 2, 7, 2, 2, 2]), array([6, 5, 4, 7, 2, 7, 2, 2, 2, 2]), array([5, 4, 7, 2, 7, 2, 2, 2, 2, 7]), array([4, 7, 2, 7, 2, 2, 2, 2, 7, 2]), array([7, 2, 7, 2, 2, 2, 2, 7, 2, 2]), array([2, 7, 2, 2, 2, 2, 7, 2, 2, 2]), array([7, 2, 2, 2, 2, 7, 2, 2, 2, 6]), array([2, 2, 2, 2, 7, 2, 2, 2, 6, 6]), array([2, 2, 2, 7, 2, 2, 2, 6, 6, 2]), array([2, 2, 7, 2, 2, 2, 6, 6, 2, 2]), array([2, 7, 2, 2, 2, 6, 6, 2, 2, 2]), array([7, 2, 2, 2, 6, 6, 2, 2, 2, 7]), array([2, 2, 2, 6, 6, 2, 2, 2, 7, 2]), array([2, 2, 6, 6, 2, 2, 2, 7, 2, 6]), array([2, 6, 6, 2, 2, 2, 7, 2, 6, 2]), array([6, 6, 2, 2, 2, 7, 2, 6, 2, 7]), array([6, 2, 2, 2, 7, 2, 6, 2, 7, 2]), array([2, 2, 2, 7, 2, 6, 2, 7, 2, 2]), array([2, 2, 7, 2, 6, 2, 7, 2, 2, 2]), array([2, 7, 2, 6, 2, 7, 2, 2, 2, 7]), array([7, 2, 6, 2, 7, 2, 2, 2, 7, 2]), array([2, 6, 2, 7, 2, 2, 2, 7, 2, 2]), array([6, 2, 7, 2, 2, 2, 7, 2, 2, 2]), array([2, 7, 2, 2, 2, 7, 2, 2, 2, 3]), array([7, 2, 2, 2, 7, 2, 2, 2, 3, 2]), array([2, 2, 2, 7, 2, 2, 2, 3, 2, 2]), array([2, 2, 7, 2, 2, 2, 3, 2, 2, 6]), array([2, 7, 2, 2, 2, 3, 2, 2, 6, 5]), array([7, 2, 2, 2, 3, 2, 2, 6, 5, 7]), array([2, 2, 2, 3, 2, 2, 6, 5, 7, 2]), array([2, 2, 3, 2, 2, 6, 5, 7, 2, 2]), array([2, 3, 2, 2, 6, 5, 7, 2, 2, 6]), array([3, 2, 2, 6, 5, 7, 2, 2, 6, 2]), array([2, 2, 6, 5, 7, 2, 2, 6, 2, 7]), array([2, 6, 5, 7, 2, 2, 6, 2, 7, 2]), array([6, 5, 7, 2, 2, 6, 2, 7, 2, 2]), array([5, 7, 2, 2, 6, 2, 7, 2, 2, 2]), array([7, 2, 2, 6, 2, 7, 2, 2, 2, 6]), array([2, 2, 6, 2, 7, 2, 2, 2, 6, 2]), array([2, 6, 2, 7, 2, 2, 2, 6, 2, 7]), array([6, 2, 7, 2, 2, 2, 6, 2, 7, 7]), array([2, 7, 2, 2, 2, 6, 2, 7, 7, 2]), array([7, 2, 2, 2, 6, 2, 7, 7, 2, 7]), array([2, 2, 2, 6, 2, 7, 7, 2, 7, 7]), array([2, 2, 6, 2, 7, 7, 2, 7, 7, 3]), array([2, 6, 2, 7, 7, 2, 7, 7, 3, 2]), array([6, 2, 7, 7, 2, 7, 7, 3, 2, 6]), array([2, 7, 7, 2, 7, 7, 3, 2, 6, 4]), array([7, 7, 2, 7, 7, 3, 2, 6, 4, 7]), array([7, 2, 7, 7, 3, 2, 6, 4, 7, 6]), array([2, 7, 7, 3, 2, 6, 4, 7, 6, 2]), array([7, 7, 3, 2, 6, 4, 7, 6, 2, 7]), array([7, 3, 2, 6, 4, 7, 6, 2, 7, 2]), array([3, 2, 6, 4, 7, 6, 2, 7, 2, 2]), array([2, 6, 4, 7, 6, 2, 7, 2, 2, 2]), array([6, 4, 7, 6, 2, 7, 2, 2, 2, 2]), array([4, 7, 6, 2, 7, 2, 2, 2, 2, 2]), array([7, 6, 2, 7, 2, 2, 2, 2, 2, 6]), array([6, 2, 7, 2, 2, 2, 2, 2, 6, 8]), array([2, 7, 2, 2, 2, 2, 2, 6, 8, 9]), array([7, 2, 2, 2, 2, 2, 6, 8, 9, 2]), array([2, 2, 2, 2, 2, 6, 8, 9, 2, 7]), array([2, 2, 2, 2, 6, 8, 9, 2, 7, 2]), array([2, 2, 2, 6, 8, 9, 2, 7, 2, 2]), array([2, 2, 6, 8, 9, 2, 7, 2, 2, 4]), array([2, 6, 8, 9, 2, 7, 2, 2, 4, 7]), array([6, 8, 9, 2, 7, 2, 2, 4, 7, 2]), array([8, 9, 2, 7, 2, 2, 4, 7, 2, 7]), array([9, 2, 7, 2, 2, 4, 7, 2, 7, 7]), array([2, 7, 2, 2, 4, 7, 2, 7, 7, 2]), array([7, 2, 2, 4, 7, 2, 7, 7, 2, 6]), array([2, 2, 4, 7, 2, 7, 7, 2, 6, 2]), array([2, 4, 7, 2, 7, 7, 2, 6, 2, 7]), array([4, 7, 2, 7, 7, 2, 6, 2, 7, 6]), array([7, 2, 7, 7, 2, 6, 2, 7, 6, 3]), array([2, 7, 7, 2, 6, 2, 7, 6, 3, 2]), array([7, 7, 2, 6, 2, 7, 6, 3, 2, 8]), array([7, 2, 6, 2, 7, 6, 3, 2, 8, 2]), array([2, 6, 2, 7, 6, 3, 2, 8, 2, 2]), array([6, 2, 7, 6, 3, 2, 8, 2, 2, 2]), array([2, 7, 6, 3, 2, 8, 2, 2, 2, 2]), array([7, 6, 3, 2, 8, 2, 2, 2, 2, 7]), array([6, 3, 2, 8, 2, 2, 2, 2, 7, 2]), array([3, 2, 8, 2, 2, 2, 2, 7, 2, 8]), array([2, 8, 2, 2, 2, 2, 7, 2, 8, 6]), array([8, 2, 2, 2, 2, 7, 2, 8, 6, 7]), array([2, 2, 2, 2, 7, 2, 8, 6, 7, 2]), array([2, 2, 2, 7, 2, 8, 6, 7, 2, 2]), array([2, 2, 7, 2, 8, 6, 7, 2, 2, 6]), array([2, 7, 2, 8, 6, 7, 2, 2, 6, 2]), array([7, 2, 8, 6, 7, 2, 2, 6, 2, 2]), array([2, 8, 6, 7, 2, 2, 6, 2, 2, 2]), array([8, 6, 7, 2, 2, 6, 2, 2, 2, 5]), array([6, 7, 2, 2, 6, 2, 2, 2, 5, 2]), array([7, 2, 2, 6, 2, 2, 2, 5, 2, 6]), array([ 2,  2,  6,  2,  2,  2,  5,  2,  6, 12]), array([ 2,  6,  2,  2,  2,  5,  2,  6, 12,  2]), array([ 6,  2,  2,  2,  5,  2,  6, 12,  2,  2]), array([ 2,  2,  2,  5,  2,  6, 12,  2,  2,  2]), array([ 2,  2,  5,  2,  6, 12,  2,  2,  2,  2]), array([ 2,  5,  2,  6, 12,  2,  2,  2,  2,  2]), array([ 5,  2,  6, 12,  2,  2,  2,  2,  2,  4]), array([ 2,  6, 12,  2,  2,  2,  2,  2,  4,  7]), array([ 6, 12,  2,  2,  2,  2,  2,  4,  7,  2]), array([12,  2,  2,  2,  2,  2,  4,  7,  2,  7]), array([2, 2, 2, 2, 2, 4, 7, 2, 7, 7]), array([2, 2, 2, 2, 4, 7, 2, 7, 7, 2]), array([2, 2, 2, 4, 7, 2, 7, 7, 2, 6]), array([2, 2, 4, 7, 2, 7, 7, 2, 6, 2]), array([2, 4, 7, 2, 7, 7, 2, 6, 2, 2]), array([4, 7, 2, 7, 7, 2, 6, 2, 2, 7]), array([7, 2, 7, 7, 2, 6, 2, 2, 7, 7]), array([2, 7, 7, 2, 6, 2, 2, 7, 7, 2]), array([7, 7, 2, 6, 2, 2, 7, 7, 2, 7]), array([7, 2, 6, 2, 2, 7, 7, 2, 7, 6]), array([2, 6, 2, 2, 7, 7, 2, 7, 6, 7]), array([6, 2, 2, 7, 7, 2, 7, 6, 7, 2]), array([2, 2, 7, 7, 2, 7, 6, 7, 2, 4]), array([2, 7, 7, 2, 7, 6, 7, 2, 4, 2]), array([7, 7, 2, 7, 6, 7, 2, 4, 2, 2]), array([7, 2, 7, 6, 7, 2, 4, 2, 2, 7]), array([2, 7, 6, 7, 2, 4, 2, 2, 7, 2]), array([7, 6, 7, 2, 4, 2, 2, 7, 2, 7]), array([6, 7, 2, 4, 2, 2, 7, 2, 7, 4]), array([7, 2, 4, 2, 2, 7, 2, 7, 4, 4]), array([2, 4, 2, 2, 7, 2, 7, 4, 4, 7]), array([4, 2, 2, 7, 2, 7, 4, 4, 7, 5]), array([2, 2, 7, 2, 7, 4, 4, 7, 5, 2]), array([2, 7, 2, 7, 4, 4, 7, 5, 2, 2]), array([7, 2, 7, 4, 4, 7, 5, 2, 2, 2]), array([2, 7, 4, 4, 7, 5, 2, 2, 2, 2]), array([7, 4, 4, 7, 5, 2, 2, 2, 2, 2]), array([4, 4, 7, 5, 2, 2, 2, 2, 2, 2]), array([4, 7, 5, 2, 2, 2, 2, 2, 2, 2]), array([7, 5, 2, 2, 2, 2, 2, 2, 2, 2]), array([5, 2, 2, 2, 2, 2, 2, 2, 2, 2]), array([2, 2, 2, 2, 2, 2, 2, 2, 2, 2]), array([2, 2, 2, 2, 2, 2, 2, 2, 2, 7]), array([2, 2, 2, 2, 2, 2, 2, 2, 7, 2]), array([2, 2, 2, 2, 2, 2, 2, 7, 2, 2]), array([2, 2, 2, 2, 2, 2, 7, 2, 2, 2]), array([2, 2, 2, 2, 2, 7, 2, 2, 2, 8]), array([2, 2, 2, 2, 7, 2, 2, 2, 8, 7]), array([2, 2, 2, 7, 2, 2, 2, 8, 7, 6]), array([2, 2, 7, 2, 2, 2, 8, 7, 6, 2]), array([2, 7, 2, 2, 2, 8, 7, 6, 2, 2]), array([7, 2, 2, 2, 8, 7, 6, 2, 2, 7]), array([ 2,  2,  2,  8,  7,  6,  2,  2,  7, 12]), array([ 2,  2,  8,  7,  6,  2,  2,  7, 12,  6]), array([ 2,  8,  7,  6,  2,  2,  7, 12,  6,  2]), array([ 8,  7,  6,  2,  2,  7, 12,  6,  2,  2]), array([ 7,  6,  2,  2,  7, 12,  6,  2,  2,  2]), array([ 6,  2,  2,  7, 12,  6,  2,  2,  2,  7]), array([ 2,  2,  7, 12,  6,  2,  2,  2,  7,  2]), array([ 2,  7, 12,  6,  2,  2,  2,  7,  2,  4]), array([ 7, 12,  6,  2,  2,  2,  7,  2,  4,  7]), array([12,  6,  2,  2,  2,  7,  2,  4,  7,  7]), array([6, 2, 2, 2, 7, 2, 4, 7, 7, 2]), array([2, 2, 2, 7, 2, 4, 7, 7, 2, 2]), array([2, 2, 7, 2, 4, 7, 7, 2, 2, 7]), array([2, 7, 2, 4, 7, 7, 2, 2, 7, 2]), array([7, 2, 4, 7, 7, 2, 2, 7, 2, 2]), array([2, 4, 7, 7, 2, 2, 7, 2, 2, 2]), array([4, 7, 7, 2, 2, 7, 2, 2, 2, 7]), array([7, 7, 2, 2, 7, 2, 2, 2, 7, 2]), array([7, 2, 2, 7, 2, 2, 2, 7, 2, 2]), array([2, 2, 7, 2, 2, 2, 7, 2, 2, 2]), array([2, 7, 2, 2, 2, 7, 2, 2, 2, 2]), array([7, 2, 2, 2, 7, 2, 2, 2, 2, 2]), array([2, 2, 2, 7, 2, 2, 2, 2, 2, 2]), array([2, 2, 7, 2, 2, 2, 2, 2, 2, 7]), array([2, 7, 2, 2, 2, 2, 2, 2, 7, 2]), array([7, 2, 2, 2, 2, 2, 2, 7, 2, 7]), array([2, 2, 2, 2, 2, 2, 7, 2, 7, 2]), array([2, 2, 2, 2, 2, 7, 2, 7, 2, 6]), array([2, 2, 2, 2, 7, 2, 7, 2, 6, 2]), array([2, 2, 2, 7, 2, 7, 2, 6, 2, 7]), array([2, 2, 7, 2, 7, 2, 6, 2, 7, 2]), array([2, 7, 2, 7, 2, 6, 2, 7, 2, 2]), array([7, 2, 7, 2, 6, 2, 7, 2, 2, 2]), array([2, 7, 2, 6, 2, 7, 2, 2, 2, 2]), array([7, 2, 6, 2, 7, 2, 2, 2, 2, 2]), array([2, 6, 2, 7, 2, 2, 2, 2, 2, 2]), array([6, 2, 7, 2, 2, 2, 2, 2, 2, 2]), array([2, 7, 2, 2, 2, 2, 2, 2, 2, 2]), array([7, 2, 2, 2, 2, 2, 2, 2, 2, 2]), array([2, 2, 2, 2, 2, 2, 2, 2, 2, 7]), array([2, 2, 2, 2, 2, 2, 2, 2, 7, 2]), array([2, 2, 2, 2, 2, 2, 2, 7, 2, 2]), array([2, 2, 2, 2, 2, 2, 7, 2, 2, 2]), array([2, 2, 2, 2, 2, 7, 2, 2, 2, 2]), array([2, 2, 2, 2, 7, 2, 2, 2, 2, 2]), array([2, 2, 2, 7, 2, 2, 2, 2, 2, 2]), array([2, 2, 7, 2, 2, 2, 2, 2, 2, 2]), array([2, 7, 2, 2, 2, 2, 2, 2, 2, 2]), array([7, 2, 2, 2, 2, 2, 2, 2, 2, 2]), array([2, 2, 2, 2, 2, 2, 2, 2, 2, 2]), array([2, 2, 2, 2, 2, 2, 2, 2, 2, 2]), array([2, 2, 2, 2, 2, 2, 2, 2, 2, 7]), array([2, 2, 2, 2, 2, 2, 2, 2, 7, 2]), array([2, 2, 2, 2, 2, 2, 2, 7, 2, 2]), array([2, 2, 2, 2, 2, 2, 7, 2, 2, 2]), array([2, 2, 2, 2, 2, 7, 2, 2, 2, 8]), array([2, 2, 2, 2, 7, 2, 2, 2, 8, 2]), array([2, 2, 2, 7, 2, 2, 2, 8, 2, 7]), array([2, 2, 7, 2, 2, 2, 8, 2, 7, 7]), array([2, 7, 2, 2, 2, 8, 2, 7, 7, 2]), array([7, 2, 2, 2, 8, 2, 7, 7, 2, 2]), array([2, 2, 2, 8, 2, 7, 7, 2, 2, 3]), array([2, 2, 8, 2, 7, 7, 2, 2, 3, 2]), array([2, 8, 2, 7, 7, 2, 2, 3, 2, 7]), array([8, 2, 7, 7, 2, 2, 3, 2, 7, 2]), array([2, 7, 7, 2, 2, 3, 2, 7, 2, 2]), array([7, 7, 2, 2, 3, 2, 7, 2, 2, 2]), array([7, 2, 2, 3, 2, 7, 2, 2, 2, 2]), array([2, 2, 3, 2, 7, 2, 2, 2, 2, 2]), array([2, 3, 2, 7, 2, 2, 2, 2, 2, 4]), array([3, 2, 7, 2, 2, 2, 2, 2, 4, 7]), array([2, 7, 2, 2, 2, 2, 2, 4, 7, 2]), array([7, 2, 2, 2, 2, 2, 4, 7, 2, 2]), array([ 2,  2,  2,  2,  2,  4,  7,  2,  2, 12]), array([ 2,  2,  2,  2,  4,  7,  2,  2, 12,  2]), array([ 2,  2,  2,  4,  7,  2,  2, 12,  2,  7]), array([ 2,  2,  4,  7,  2,  2, 12,  2,  7,  2]), array([ 2,  4,  7,  2,  2, 12,  2,  7,  2,  2]), array([ 4,  7,  2,  2, 12,  2,  7,  2,  2,  2]), array([ 7,  2,  2, 12,  2,  7,  2,  2,  2,  2]), array([ 2,  2, 12,  2,  7,  2,  2,  2,  2,  2]), array([ 2, 12,  2,  7,  2,  2,  2,  2,  2,  7]), array([12,  2,  7,  2,  2,  2,  2,  2,  7,  2]), array([2, 7, 2, 2, 2, 2, 2, 7, 2, 2]), array([7, 2, 2, 2, 2, 2, 7, 2, 2, 6]), array([2, 2, 2, 2, 2, 7, 2, 2, 6, 2]), array([2, 2, 2, 2, 7, 2, 2, 6, 2, 6]), array([2, 2, 2, 7, 2, 2, 6, 2, 6, 2]), array([2, 2, 7, 2, 2, 6, 2, 6, 2, 7]), array([2, 7, 2, 2, 6, 2, 6, 2, 7, 2]), array([7, 2, 2, 6, 2, 6, 2, 7, 2, 2]), array([2, 2, 6, 2, 6, 2, 7, 2, 2, 7]), array([2, 6, 2, 6, 2, 7, 2, 2, 7, 2]), array([6, 2, 6, 2, 7, 2, 2, 7, 2, 2]), array([2, 6, 2, 7, 2, 2, 7, 2, 2, 2]), array([6, 2, 7, 2, 2, 7, 2, 2, 2, 2]), array([2, 7, 2, 2, 7, 2, 2, 2, 2, 2]), array([7, 2, 2, 7, 2, 2, 2, 2, 2, 2]), array([2, 2, 7, 2, 2, 2, 2, 2, 2, 6]), array([2, 7, 2, 2, 2, 2, 2, 2, 6, 7]), array([7, 2, 2, 2, 2, 2, 2, 6, 7, 2]), array([2, 2, 2, 2, 2, 2, 6, 7, 2, 2]), array([2, 2, 2, 2, 2, 6, 7, 2, 2, 2]), array([2, 2, 2, 2, 6, 7, 2, 2, 2, 2]), array([2, 2, 2, 6, 7, 2, 2, 2, 2, 7]), array([2, 2, 6, 7, 2, 2, 2, 2, 7, 8]), array([2, 6, 7, 2, 2, 2, 2, 7, 8, 2]), array([6, 7, 2, 2, 2, 2, 7, 8, 2, 2]), array([7, 2, 2, 2, 2, 7, 8, 2, 2, 7]), array([2, 2, 2, 2, 7, 8, 2, 2, 7, 2]), array([2, 2, 2, 7, 8, 2, 2, 7, 2, 9]), array([2, 2, 7, 8, 2, 2, 7, 2, 9, 2]), array([2, 7, 8, 2, 2, 7, 2, 9, 2, 6]), array([7, 8, 2, 2, 7, 2, 9, 2, 6, 2]), array([8, 2, 2, 7, 2, 9, 2, 6, 2, 2]), array([2, 2, 7, 2, 9, 2, 6, 2, 2, 7]), array([2, 7, 2, 9, 2, 6, 2, 2, 7, 7]), array([7, 2, 9, 2, 6, 2, 2, 7, 7, 6]), array([2, 9, 2, 6, 2, 2, 7, 7, 6, 3]), array([9, 2, 6, 2, 2, 7, 7, 6, 3, 2]), array([2, 6, 2, 2, 7, 7, 6, 3, 2, 7]), array([6, 2, 2, 7, 7, 6, 3, 2, 7, 2]), array([2, 2, 7, 7, 6, 3, 2, 7, 2, 2]), array([2, 7, 7, 6, 3, 2, 7, 2, 2, 6]), array([7, 7, 6, 3, 2, 7, 2, 2, 6, 8]), array([7, 6, 3, 2, 7, 2, 2, 6, 8, 2]), array([6, 3, 2, 7, 2, 2, 6, 8, 2, 2]), array([3, 2, 7, 2, 2, 6, 8, 2, 2, 2]), array([2, 7, 2, 2, 6, 8, 2, 2, 2, 7]), array([7, 2, 2, 6, 8, 2, 2, 2, 7, 2]), array([2, 2, 6, 8, 2, 2, 2, 7, 2, 2]), array([2, 6, 8, 2, 2, 2, 7, 2, 2, 7]), array([6, 8, 2, 2, 2, 7, 2, 2, 7, 2]), array([8, 2, 2, 2, 7, 2, 2, 7, 2, 2]), array([2, 2, 2, 7, 2, 2, 7, 2, 2, 2]), array([2, 2, 7, 2, 2, 7, 2, 2, 2, 2]), array([2, 7, 2, 2, 7, 2, 2, 2, 2, 2]), array([7, 2, 2, 7, 2, 2, 2, 2, 2, 3]), array([2, 2, 7, 2, 2, 2, 2, 2, 3, 7]), array([2, 7, 2, 2, 2, 2, 2, 3, 7, 2]), array([7, 2, 2, 2, 2, 2, 3, 7, 2, 2]), array([2, 2, 2, 2, 2, 3, 7, 2, 2, 2]), array([2, 2, 2, 2, 3, 7, 2, 2, 2, 2]), array([2, 2, 2, 3, 7, 2, 2, 2, 2, 4]), array([2, 2, 3, 7, 2, 2, 2, 2, 4, 7]), array([2, 3, 7, 2, 2, 2, 2, 4, 7, 2]), array([3, 7, 2, 2, 2, 2, 4, 7, 2, 2]), array([7, 2, 2, 2, 2, 4, 7, 2, 2, 8]), array([2, 2, 2, 2, 4, 7, 2, 2, 8, 2]), array([2, 2, 2, 4, 7, 2, 2, 8, 2, 6]), array([2, 2, 4, 7, 2, 2, 8, 2, 6, 2]), array([2, 4, 7, 2, 2, 8, 2, 6, 2, 2]), array([4, 7, 2, 2, 8, 2, 6, 2, 2, 2]), array([7, 2, 2, 8, 2, 6, 2, 2, 2, 2]), array([2, 2, 8, 2, 6, 2, 2, 2, 2, 4]), array([2, 8, 2, 6, 2, 2, 2, 2, 4, 3]), array([8, 2, 6, 2, 2, 2, 2, 4, 3, 6]), array([2, 6, 2, 2, 2, 2, 4, 3, 6, 2]), array([6, 2, 2, 2, 2, 4, 3, 6, 2, 2]), array([2, 2, 2, 2, 4, 3, 6, 2, 2, 2]), array([2, 2, 2, 4, 3, 6, 2, 2, 2, 2]), array([2, 2, 4, 3, 6, 2, 2, 2, 2, 2]), array([2, 4, 3, 6, 2, 2, 2, 2, 2, 2]), array([4, 3, 6, 2, 2, 2, 2, 2, 2, 7]), array([3, 6, 2, 2, 2, 2, 2, 2, 7, 6]), array([6, 2, 2, 2, 2, 2, 2, 7, 6, 2]), array([2, 2, 2, 2, 2, 2, 7, 6, 2, 7]), array([2, 2, 2, 2, 2, 7, 6, 2, 7, 2]), array([ 2,  2,  2,  2,  7,  6,  2,  7,  2, 14]), array([ 2,  2,  2,  7,  6,  2,  7,  2, 14,  7]), array([ 2,  2,  7,  6,  2,  7,  2, 14,  7,  2]), array([ 2,  7,  6,  2,  7,  2, 14,  7,  2,  2]), array([ 7,  6,  2,  7,  2, 14,  7,  2,  2,  6]), array([ 6,  2,  7,  2, 14,  7,  2,  2,  6,  2]), array([ 2,  7,  2, 14,  7,  2,  2,  6,  2,  2]), array([ 7,  2, 14,  7,  2,  2,  6,  2,  2,  2]), array([ 2, 14,  7,  2,  2,  6,  2,  2,  2,  2]), array([14,  7,  2,  2,  6,  2,  2,  2,  2,  6]), array([7, 2, 2, 6, 2, 2, 2, 2, 6, 2]), array([2, 2, 6, 2, 2, 2, 2, 6, 2, 2]), array([2, 6, 2, 2, 2, 2, 6, 2, 2, 2]), array([6, 2, 2, 2, 2, 6, 2, 2, 2, 2]), array([2, 2, 2, 2, 6, 2, 2, 2, 2, 7]), array([2, 2, 2, 6, 2, 2, 2, 2, 7, 2]), array([2, 2, 6, 2, 2, 2, 2, 7, 2, 8]), array([2, 6, 2, 2, 2, 2, 7, 2, 8, 2]), array([6, 2, 2, 2, 2, 7, 2, 8, 2, 2]), array([2, 2, 2, 2, 7, 2, 8, 2, 2, 7]), array([2, 2, 2, 7, 2, 8, 2, 2, 7, 2]), array([2, 2, 7, 2, 8, 2, 2, 7, 2, 5]), array([2, 7, 2, 8, 2, 2, 7, 2, 5, 7]), array([7, 2, 8, 2, 2, 7, 2, 5, 7, 2]), array([2, 8, 2, 2, 7, 2, 5, 7, 2, 5]), array([8, 2, 2, 7, 2, 5, 7, 2, 5, 7]), array([2, 2, 7, 2, 5, 7, 2, 5, 7, 6]), array([2, 7, 2, 5, 7, 2, 5, 7, 6, 2]), array([7, 2, 5, 7, 2, 5, 7, 6, 2, 7]), array([2, 5, 7, 2, 5, 7, 6, 2, 7, 2]), array([5, 7, 2, 5, 7, 6, 2, 7, 2, 7]), array([7, 2, 5, 7, 6, 2, 7, 2, 7, 2]), array([2, 5, 7, 6, 2, 7, 2, 7, 2, 2]), array([5, 7, 6, 2, 7, 2, 7, 2, 2, 2]), array([7, 6, 2, 7, 2, 7, 2, 2, 2, 2]), array([6, 2, 7, 2, 7, 2, 2, 2, 2, 2]), array([2, 7, 2, 7, 2, 2, 2, 2, 2, 2]), array([7, 2, 7, 2, 2, 2, 2, 2, 2, 7]), array([2, 7, 2, 2, 2, 2, 2, 2, 7, 2]), array([7, 2, 2, 2, 2, 2, 2, 7, 2, 2]), array([2, 2, 2, 2, 2, 2, 7, 2, 2, 2]), array([2, 2, 2, 2, 2, 7, 2, 2, 2, 6]), array([2, 2, 2, 2, 7, 2, 2, 2, 6, 2]), array([2, 2, 2, 7, 2, 2, 2, 6, 2, 5]), array([2, 2, 7, 2, 2, 2, 6, 2, 5, 7]), array([2, 7, 2, 2, 2, 6, 2, 5, 7, 2]), array([7, 2, 2, 2, 6, 2, 5, 7, 2, 2]), array([2, 2, 2, 6, 2, 5, 7, 2, 2, 2]), array([2, 2, 6, 2, 5, 7, 2, 2, 2, 7]), array([2, 6, 2, 5, 7, 2, 2, 2, 7, 7]), array([6, 2, 5, 7, 2, 2, 2, 7, 7, 2]), array([2, 5, 7, 2, 2, 2, 7, 7, 2, 2]), array([5, 7, 2, 2, 2, 7, 7, 2, 2, 5]), array([7, 2, 2, 2, 7, 7, 2, 2, 5, 2]), array([2, 2, 2, 7, 7, 2, 2, 5, 2, 2]), array([2, 2, 7, 7, 2, 2, 5, 2, 2, 7]), array([2, 7, 7, 2, 2, 5, 2, 2, 7, 2]), array([7, 7, 2, 2, 5, 2, 2, 7, 2, 3]), array([7, 2, 2, 5, 2, 2, 7, 2, 3, 2]), array([2, 2, 5, 2, 2, 7, 2, 3, 2, 8]), array([2, 5, 2, 2, 7, 2, 3, 2, 8, 2]), array([5, 2, 2, 7, 2, 3, 2, 8, 2, 2]), array([2, 2, 7, 2, 3, 2, 8, 2, 2, 2]), array([2, 7, 2, 3, 2, 8, 2, 2, 2, 2]), array([7, 2, 3, 2, 8, 2, 2, 2, 2, 2]), array([2, 3, 2, 8, 2, 2, 2, 2, 2, 2]), array([3, 2, 8, 2, 2, 2, 2, 2, 2, 2]), array([2, 8, 2, 2, 2, 2, 2, 2, 2, 2]), array([8, 2, 2, 2, 2, 2, 2, 2, 2, 2]), array([2, 2, 2, 2, 2, 2, 2, 2, 2, 2]), array([2, 2, 2, 2, 2, 2, 2, 2, 2, 7]), array([2, 2, 2, 2, 2, 2, 2, 2, 7, 3]), array([2, 2, 2, 2, 2, 2, 2, 7, 3, 2]), array([2, 2, 2, 2, 2, 2, 7, 3, 2, 2]), array([2, 2, 2, 2, 2, 7, 3, 2, 2, 7]), array([2, 2, 2, 2, 7, 3, 2, 2, 7, 2]), array([2, 2, 2, 7, 3, 2, 2, 7, 2, 2]), array([2, 2, 7, 3, 2, 2, 7, 2, 2, 8]), array([2, 7, 3, 2, 2, 7, 2, 2, 8, 2]), array([7, 3, 2, 2, 7, 2, 2, 8, 2, 2]), array([3, 2, 2, 7, 2, 2, 8, 2, 2, 2]), array([2, 2, 7, 2, 2, 8, 2, 2, 2, 2]), array([2, 7, 2, 2, 8, 2, 2, 2, 2, 7]), array([7, 2, 2, 8, 2, 2, 2, 2, 7, 7]), array([2, 2, 8, 2, 2, 2, 2, 7, 7, 6]), array([2, 8, 2, 2, 2, 2, 7, 7, 6, 7]), array([8, 2, 2, 2, 2, 7, 7, 6, 7, 2]), array([ 2,  2,  2,  2,  7,  7,  6,  7,  2, 12]), array([ 2,  2,  2,  7,  7,  6,  7,  2, 12,  6]), array([ 2,  2,  7,  7,  6,  7,  2, 12,  6,  8]), array([ 2,  7,  7,  6,  7,  2, 12,  6,  8,  4]), array([ 7,  7,  6,  7,  2, 12,  6,  8,  4,  7]), array([ 7,  6,  7,  2, 12,  6,  8,  4,  7,  5]), array([ 6,  7,  2, 12,  6,  8,  4,  7,  5,  2]), array([ 7,  2, 12,  6,  8,  4,  7,  5,  2,  6]), array([ 2, 12,  6,  8,  4,  7,  5,  2,  6,  2]), array([12,  6,  8,  4,  7,  5,  2,  6,  2,  2]), array([6, 8, 4, 7, 5, 2, 6, 2, 2, 2]), array([8, 4, 7, 5, 2, 6, 2, 2, 2, 2]), array([4, 7, 5, 2, 6, 2, 2, 2, 2, 2]), array([7, 5, 2, 6, 2, 2, 2, 2, 2, 2]), array([5, 2, 6, 2, 2, 2, 2, 2, 2, 4]), array([2, 6, 2, 2, 2, 2, 2, 2, 4, 2]), array([6, 2, 2, 2, 2, 2, 2, 4, 2, 2]), array([2, 2, 2, 2, 2, 2, 4, 2, 2, 2]), array([2, 2, 2, 2, 2, 4, 2, 2, 2, 2]), array([2, 2, 2, 2, 4, 2, 2, 2, 2, 7]), array([2, 2, 2, 4, 2, 2, 2, 2, 7, 2]), array([2, 2, 4, 2, 2, 2, 2, 7, 2, 2]), array([2, 4, 2, 2, 2, 2, 7, 2, 2, 2]), array([4, 2, 2, 2, 2, 7, 2, 2, 2, 2]), array([2, 2, 2, 2, 7, 2, 2, 2, 2, 7]), array([2, 2, 2, 7, 2, 2, 2, 2, 7, 2]), array([2, 2, 7, 2, 2, 2, 2, 7, 2, 2]), array([2, 7, 2, 2, 2, 2, 7, 2, 2, 2]), array([7, 2, 2, 2, 2, 7, 2, 2, 2, 2]), array([2, 2, 2, 2, 7, 2, 2, 2, 2, 6]), array([2, 2, 2, 7, 2, 2, 2, 2, 6, 2]), array([2, 2, 7, 2, 2, 2, 2, 6, 2, 2]), array([2, 7, 2, 2, 2, 2, 6, 2, 2, 2]), array([7, 2, 2, 2, 2, 6, 2, 2, 2, 2]), array([2, 2, 2, 2, 6, 2, 2, 2, 2, 2]), array([2, 2, 2, 6, 2, 2, 2, 2, 2, 7]), array([2, 2, 6, 2, 2, 2, 2, 2, 7, 2]), array([2, 6, 2, 2, 2, 2, 2, 7, 2, 7]), array([6, 2, 2, 2, 2, 2, 7, 2, 7, 2]), array([2, 2, 2, 2, 2, 7, 2, 7, 2, 2]), array([2, 2, 2, 2, 7, 2, 7, 2, 2, 2]), array([2, 2, 2, 7, 2, 7, 2, 2, 2, 2]), array([2, 2, 7, 2, 7, 2, 2, 2, 2, 2]), array([ 2,  7,  2,  7,  2,  2,  2,  2,  2, 15]), array([ 7,  2,  7,  2,  2,  2,  2,  2, 15,  2]), array([ 2,  7,  2,  2,  2,  2,  2, 15,  2,  7]), array([ 7,  2,  2,  2,  2,  2, 15,  2,  7,  7]), array([ 2,  2,  2,  2,  2, 15,  2,  7,  7,  2]), array([ 2,  2,  2,  2, 15,  2,  7,  7,  2,  2]), array([ 2,  2,  2, 15,  2,  7,  7,  2,  2,  7]), array([ 2,  2, 15,  2,  7,  7,  2,  2,  7,  2]), array([ 2, 15,  2,  7,  7,  2,  2,  7,  2,  2]), array([15,  2,  7,  7,  2,  2,  7,  2,  2,  8]), array([2, 7, 7, 2, 2, 7, 2, 2, 8, 8]), array([ 7,  7,  2,  2,  7,  2,  2,  8,  8, 12]), array([ 7,  2,  2,  7,  2,  2,  8,  8, 12,  2]), array([ 2,  2,  7,  2,  2,  8,  8, 12,  2,  2]), array([ 2,  7,  2,  2,  8,  8, 12,  2,  2,  2]), array([ 7,  2,  2,  8,  8, 12,  2,  2,  2,  2]), array([ 2,  2,  8,  8, 12,  2,  2,  2,  2,  7]), array([ 2,  8,  8, 12,  2,  2,  2,  2,  7,  2]), array([ 8,  8, 12,  2,  2,  2,  2,  7,  2,  2]), array([ 8, 12,  2,  2,  2,  2,  7,  2,  2,  2]), array([12,  2,  2,  2,  2,  7,  2,  2,  2,  2]), array([2, 2, 2, 2, 7, 2, 2, 2, 2, 3]), array([2, 2, 2, 7, 2, 2, 2, 2, 3, 2]), array([2, 2, 7, 2, 2, 2, 2, 3, 2, 7]), array([2, 7, 2, 2, 2, 2, 3, 2, 7, 8]), array([ 7,  2,  2,  2,  2,  3,  2,  7,  8, 15]), array([ 2,  2,  2,  2,  3,  2,  7,  8, 15, 15]), array([ 2,  2,  2,  3,  2,  7,  8, 15, 15,  2]), array([ 2,  2,  3,  2,  7,  8, 15, 15,  2,  2]), array([ 2,  3,  2,  7,  8, 15, 15,  2,  2,  2]), array([ 3,  2,  7,  8, 15, 15,  2,  2,  2,  2]), array([ 2,  7,  8, 15, 15,  2,  2,  2,  2,  5]), array([ 7,  8, 15, 15,  2,  2,  2,  2,  5,  2]), array([ 8, 15, 15,  2,  2,  2,  2,  5,  2,  2]), array([15, 15,  2,  2,  2,  2,  5,  2,  2,  2]), array([15,  2,  2,  2,  2,  5,  2,  2,  2,  4]), array([2, 2, 2, 2, 5, 2, 2, 2, 4, 2]), array([2, 2, 2, 5, 2, 2, 2, 4, 2, 2]), array([2, 2, 5, 2, 2, 2, 4, 2, 2, 6]), array([2, 5, 2, 2, 2, 4, 2, 2, 6, 2]), array([5, 2, 2, 2, 4, 2, 2, 6, 2, 4]), array([ 2,  2,  2,  4,  2,  2,  6,  2,  4, 15]), array([ 2,  2,  4,  2,  2,  6,  2,  4, 15,  2]), array([ 2,  4,  2,  2,  6,  2,  4, 15,  2,  2]), array([ 4,  2,  2,  6,  2,  4, 15,  2,  2,  7]), array([ 2,  2,  6,  2,  4, 15,  2,  2,  7, 15]), array([ 2,  6,  2,  4, 15,  2,  2,  7, 15,  7]), array([ 6,  2,  4, 15,  2,  2,  7, 15,  7,  2]), array([ 2,  4, 15,  2,  2,  7, 15,  7,  2,  2]), array([ 4, 15,  2,  2,  7, 15,  7,  2,  2,  2]), array([15,  2,  2,  7, 15,  7,  2,  2,  2,  6]), array([ 2,  2,  7, 15,  7,  2,  2,  2,  6,  2]), array([ 2,  7, 15,  7,  2,  2,  2,  6,  2,  2]), array([ 7, 15,  7,  2,  2,  2,  6,  2,  2,  2]), array([15,  7,  2,  2,  2,  6,  2,  2,  2,  2]), array([7, 2, 2, 2, 6, 2, 2, 2, 2, 5]), array([2, 2, 2, 6, 2, 2, 2, 2, 5, 2]), array([2, 2, 6, 2, 2, 2, 2, 5, 2, 2]), array([2, 6, 2, 2, 2, 2, 5, 2, 2, 2]), array([6, 2, 2, 2, 2, 5, 2, 2, 2, 5]), array([2, 2, 2, 2, 5, 2, 2, 2, 5, 2]), array([ 2,  2,  2,  5,  2,  2,  2,  5,  2, 12]), array([ 2,  2,  5,  2,  2,  2,  5,  2, 12,  2]), array([ 2,  5,  2,  2,  2,  5,  2, 12,  2,  4]), array([ 5,  2,  2,  2,  5,  2, 12,  2,  4,  2]), array([ 2,  2,  2,  5,  2, 12,  2,  4,  2, 15]), array([ 2,  2,  5,  2, 12,  2,  4,  2, 15,  2]), array([ 2,  5,  2, 12,  2,  4,  2, 15,  2,  2]), array([ 5,  2, 12,  2,  4,  2, 15,  2,  2,  7]), array([ 2, 12,  2,  4,  2, 15,  2,  2,  7,  2]), array([12,  2,  4,  2, 15,  2,  2,  7,  2,  2]), array([ 2,  4,  2, 15,  2,  2,  7,  2,  2,  2]), array([ 4,  2, 15,  2,  2,  7,  2,  2,  2,  5]), array([ 2, 15,  2,  2,  7,  2,  2,  2,  5,  8]), array([15,  2,  2,  7,  2,  2,  2,  5,  8,  8]), array([2, 2, 7, 2, 2, 2, 5, 8, 8, 2]), array([2, 7, 2, 2, 2, 5, 8, 8, 2, 2]), array([7, 2, 2, 2, 5, 8, 8, 2, 2, 2]), array([2, 2, 2, 5, 8, 8, 2, 2, 2, 2]), array([2, 2, 5, 8, 8, 2, 2, 2, 2, 2]), array([2, 5, 8, 8, 2, 2, 2, 2, 2, 8]), array([5, 8, 8, 2, 2, 2, 2, 2, 8, 2]), array([8, 8, 2, 2, 2, 2, 2, 8, 2, 2]), array([8, 2, 2, 2, 2, 2, 8, 2, 2, 7]), array([2, 2, 2, 2, 2, 8, 2, 2, 7, 2]), array([2, 2, 2, 2, 8, 2, 2, 7, 2, 2]), array([2, 2, 2, 8, 2, 2, 7, 2, 2, 2]), array([2, 2, 8, 2, 2, 7, 2, 2, 2, 8]), array([2, 8, 2, 2, 7, 2, 2, 2, 8, 8]), array([ 8,  2,  2,  7,  2,  2,  2,  8,  8, 15]), array([ 2,  2,  7,  2,  2,  2,  8,  8, 15,  2]), array([ 2,  7,  2,  2,  2,  8,  8, 15,  2,  2]), array([ 7,  2,  2,  2,  8,  8, 15,  2,  2,  8]), array([ 2,  2,  2,  8,  8, 15,  2,  2,  8,  7]), array([ 2,  2,  8,  8, 15,  2,  2,  8,  7,  2]), array([ 2,  8,  8, 15,  2,  2,  8,  7,  2,  2]), array([ 8,  8, 15,  2,  2,  8,  7,  2,  2,  4]), array([ 8, 15,  2,  2,  8,  7,  2,  2,  4,  2]), array([15,  2,  2,  8,  7,  2,  2,  4,  2,  7]), array([2, 2, 8, 7, 2, 2, 4, 2, 7, 2]), array([2, 8, 7, 2, 2, 4, 2, 7, 2, 2]), array([8, 7, 2, 2, 4, 2, 7, 2, 2, 2]), array([7, 2, 2, 4, 2, 7, 2, 2, 2, 2]), array([2, 2, 4, 2, 7, 2, 2, 2, 2, 6]), array([2, 4, 2, 7, 2, 2, 2, 2, 6, 7]), array([4, 2, 7, 2, 2, 2, 2, 6, 7, 2]), array([2, 7, 2, 2, 2, 2, 6, 7, 2, 2]), array([7, 2, 2, 2, 2, 6, 7, 2, 2, 2]), array([ 2,  2,  2,  2,  6,  7,  2,  2,  2, 16]), array([ 2,  2,  2,  6,  7,  2,  2,  2, 16,  2]), array([ 2,  2,  6,  7,  2,  2,  2, 16,  2,  2]), array([ 2,  6,  7,  2,  2,  2, 16,  2,  2, 15]), array([ 6,  7,  2,  2,  2, 16,  2,  2, 15,  2]), array([ 7,  2,  2,  2, 16,  2,  2, 15,  2,  2]), array([ 2,  2,  2, 16,  2,  2, 15,  2,  2, 15]), array([ 2,  2, 16,  2,  2, 15,  2,  2, 15,  2]), array([ 2, 16,  2,  2, 15,  2,  2, 15,  2,  4]), array([16,  2,  2, 15,  2,  2, 15,  2,  4,  2]), array([ 2,  2, 15,  2,  2, 15,  2,  4,  2,  2]), array([ 2, 15,  2,  2, 15,  2,  4,  2,  2, 12]), array([15,  2,  2, 15,  2,  4,  2,  2, 12,  2]), array([ 2,  2, 15,  2,  4,  2,  2, 12,  2,  2]), array([ 2, 15,  2,  4,  2,  2, 12,  2,  2,  2]), array([15,  2,  4,  2,  2, 12,  2,  2,  2,  8]), array([ 2,  4,  2,  2, 12,  2,  2,  2,  8,  2]), array([ 4,  2,  2, 12,  2,  2,  2,  8,  2,  2]), array([ 2,  2, 12,  2,  2,  2,  8,  2,  2,  6]), array([ 2, 12,  2,  2,  2,  8,  2,  2,  6,  7]), array([12,  2,  2,  2,  8,  2,  2,  6,  7,  2]), array([2, 2, 2, 8, 2, 2, 6, 7, 2, 2]), array([2, 2, 8, 2, 2, 6, 7, 2, 2, 2]), array([2, 8, 2, 2, 6, 7, 2, 2, 2, 6]), array([8, 2, 2, 6, 7, 2, 2, 2, 6, 7]), array([2, 2, 6, 7, 2, 2, 2, 6, 7, 2]), array([2, 6, 7, 2, 2, 2, 6, 7, 2, 2]), array([6, 7, 2, 2, 2, 6, 7, 2, 2, 2]), array([7, 2, 2, 2, 6, 7, 2, 2, 2, 7]), array([2, 2, 2, 6, 7, 2, 2, 2, 7, 2]), array([2, 2, 6, 7, 2, 2, 2, 7, 2, 2]), array([2, 6, 7, 2, 2, 2, 7, 2, 2, 2]), array([6, 7, 2, 2, 2, 7, 2, 2, 2, 2]), array([ 7,  2,  2,  2,  7,  2,  2,  2,  2, 12]), array([ 2,  2,  2,  7,  2,  2,  2,  2, 12,  2]), array([ 2,  2,  7,  2,  2,  2,  2, 12,  2,  7]), array([ 2,  7,  2,  2,  2,  2, 12,  2,  7,  2]), array([ 7,  2,  2,  2,  2, 12,  2,  7,  2,  6]), array([ 2,  2,  2,  2, 12,  2,  7,  2,  6,  2]), array([ 2,  2,  2, 12,  2,  7,  2,  6,  2,  2]), array([ 2,  2, 12,  2,  7,  2,  6,  2,  2,  5]), array([ 2, 12,  2,  7,  2,  6,  2,  2,  5,  2]), array([12,  2,  7,  2,  6,  2,  2,  5,  2,  7]), array([2, 7, 2, 6, 2, 2, 5, 2, 7, 3]), array([7, 2, 6, 2, 2, 5, 2, 7, 3, 2]), array([2, 6, 2, 2, 5, 2, 7, 3, 2, 2]), array([6, 2, 2, 5, 2, 7, 3, 2, 2, 4]), array([2, 2, 5, 2, 7, 3, 2, 2, 4, 8]), array([2, 5, 2, 7, 3, 2, 2, 4, 8, 2]), array([5, 2, 7, 3, 2, 2, 4, 8, 2, 2]), array([2, 7, 3, 2, 2, 4, 8, 2, 2, 2]), array([7, 3, 2, 2, 4, 8, 2, 2, 2, 7]), array([3, 2, 2, 4, 8, 2, 2, 2, 7, 2]), array([2, 2, 4, 8, 2, 2, 2, 7, 2, 7]), array([2, 4, 8, 2, 2, 2, 7, 2, 7, 2]), array([4, 8, 2, 2, 2, 7, 2, 7, 2, 7]), array([8, 2, 2, 2, 7, 2, 7, 2, 7, 2]), array([2, 2, 2, 7, 2, 7, 2, 7, 2, 2]), array([2, 2, 7, 2, 7, 2, 7, 2, 2, 2]), array([2, 7, 2, 7, 2, 7, 2, 2, 2, 2]), array([7, 2, 7, 2, 7, 2, 2, 2, 2, 2]), array([2, 7, 2, 7, 2, 2, 2, 2, 2, 2]), array([7, 2, 7, 2, 2, 2, 2, 2, 2, 2]), array([2, 7, 2, 2, 2, 2, 2, 2, 2, 2]), array([7, 2, 2, 2, 2, 2, 2, 2, 2, 2]), array([2, 2, 2, 2, 2, 2, 2, 2, 2, 2]), array([2, 2, 2, 2, 2, 2, 2, 2, 2, 2]), array([2, 2, 2, 2, 2, 2, 2, 2, 2, 2]), array([2, 2, 2, 2, 2, 2, 2, 2, 2, 2]), array([2, 2, 2, 2, 2, 2, 2, 2, 2, 2]), array([2, 2, 2, 2, 2, 2, 2, 2, 2, 7]), array([2, 2, 2, 2, 2, 2, 2, 2, 7, 2]), array([2, 2, 2, 2, 2, 2, 2, 7, 2, 2]), array([2, 2, 2, 2, 2, 2, 7, 2, 2, 2]), array([2, 2, 2, 2, 2, 7, 2, 2, 2, 2]), array([2, 2, 2, 2, 7, 2, 2, 2, 2, 2]), array([2, 2, 2, 7, 2, 2, 2, 2, 2, 2]), array([2, 2, 7, 2, 2, 2, 2, 2, 2, 2]), array([2, 7, 2, 2, 2, 2, 2, 2, 2, 2]), array([7, 2, 2, 2, 2, 2, 2, 2, 2, 2]), array([2, 2, 2, 2, 2, 2, 2, 2, 2, 7]), array([2, 2, 2, 2, 2, 2, 2, 2, 7, 2]), array([2, 2, 2, 2, 2, 2, 2, 7, 2, 2]), array([2, 2, 2, 2, 2, 2, 7, 2, 2, 2]), array([2, 2, 2, 2, 2, 7, 2, 2, 2, 7]), array([2, 2, 2, 2, 7, 2, 2, 2, 7, 2]), array([2, 2, 2, 7, 2, 2, 2, 7, 2, 7]), array([2, 2, 7, 2, 2, 2, 7, 2, 7, 4]), array([2, 7, 2, 2, 2, 7, 2, 7, 4, 2]), array([ 7,  2,  2,  2,  7,  2,  7,  4,  2, 15]), array([ 2,  2,  2,  7,  2,  7,  4,  2, 15,  2]), array([ 2,  2,  7,  2,  7,  4,  2, 15,  2,  2]), array([ 2,  7,  2,  7,  4,  2, 15,  2,  2,  6]), array([ 7,  2,  7,  4,  2, 15,  2,  2,  6, 15]), array([ 2,  7,  4,  2, 15,  2,  2,  6, 15,  7]), array([ 7,  4,  2, 15,  2,  2,  6, 15,  7,  2]), array([ 4,  2, 15,  2,  2,  6, 15,  7,  2, 15]), array([ 2, 15,  2,  2,  6, 15,  7,  2, 15,  2]), array([15,  2,  2,  6, 15,  7,  2, 15,  2,  2]), array([ 2,  2,  6, 15,  7,  2, 15,  2,  2, 15]), array([ 2,  6, 15,  7,  2, 15,  2,  2, 15,  5]), array([ 6, 15,  7,  2, 15,  2,  2, 15,  5,  2]), array([15,  7,  2, 15,  2,  2, 15,  5,  2,  2]), array([ 7,  2, 15,  2,  2, 15,  5,  2,  2,  2]), array([ 2, 15,  2,  2, 15,  5,  2,  2,  2,  2]), array([15,  2,  2, 15,  5,  2,  2,  2,  2,  2]), array([ 2,  2, 15,  5,  2,  2,  2,  2,  2,  2]), array([ 2, 15,  5,  2,  2,  2,  2,  2,  2,  2]), array([15,  5,  2,  2,  2,  2,  2,  2,  2,  7]), array([5, 2, 2, 2, 2, 2, 2, 2, 7, 2]), array([2, 2, 2, 2, 2, 2, 2, 7, 2, 2]), array([2, 2, 2, 2, 2, 2, 7, 2, 2, 2]), array([2, 2, 2, 2, 2, 7, 2, 2, 2, 2]), array([2, 2, 2, 2, 7, 2, 2, 2, 2, 7]), array([2, 2, 2, 7, 2, 2, 2, 2, 7, 2]), array([2, 2, 7, 2, 2, 2, 2, 7, 2, 2]), array([2, 7, 2, 2, 2, 2, 7, 2, 2, 8]), array([7, 2, 2, 2, 2, 7, 2, 2, 8, 8]), array([2, 2, 2, 2, 7, 2, 2, 8, 8, 2]), array([2, 2, 2, 7, 2, 2, 8, 8, 2, 2]), array([2, 2, 7, 2, 2, 8, 8, 2, 2, 2]), array([2, 7, 2, 2, 8, 8, 2, 2, 2, 2]), array([7, 2, 2, 8, 8, 2, 2, 2, 2, 2]), array([2, 2, 8, 8, 2, 2, 2, 2, 2, 8]), array([2, 8, 8, 2, 2, 2, 2, 2, 8, 2]), array([8, 8, 2, 2, 2, 2, 2, 8, 2, 8]), array([8, 2, 2, 2, 2, 2, 8, 2, 8, 5]), array([2, 2, 2, 2, 2, 8, 2, 8, 5, 5]), array([2, 2, 2, 2, 8, 2, 8, 5, 5, 2]), array([2, 2, 2, 8, 2, 8, 5, 5, 2, 6]), array([2, 2, 8, 2, 8, 5, 5, 2, 6, 7]), array([2, 8, 2, 8, 5, 5, 2, 6, 7, 2]), array([8, 2, 8, 5, 5, 2, 6, 7, 2, 2]), array([2, 8, 5, 5, 2, 6, 7, 2, 2, 2]), array([8, 5, 5, 2, 6, 7, 2, 2, 2, 5]), array([5, 5, 2, 6, 7, 2, 2, 2, 5, 2]), array([5, 2, 6, 7, 2, 2, 2, 5, 2, 2]), array([2, 6, 7, 2, 2, 2, 5, 2, 2, 2]), array([6, 7, 2, 2, 2, 5, 2, 2, 2, 2]), array([7, 2, 2, 2, 5, 2, 2, 2, 2, 2]), array([2, 2, 2, 5, 2, 2, 2, 2, 2, 7]), array([2, 2, 5, 2, 2, 2, 2, 2, 7, 7]), array([2, 5, 2, 2, 2, 2, 2, 7, 7, 4]), array([5, 2, 2, 2, 2, 2, 7, 7, 4, 2]), array([2, 2, 2, 2, 2, 7, 7, 4, 2, 7]), array([2, 2, 2, 2, 7, 7, 4, 2, 7, 2]), array([2, 2, 2, 7, 7, 4, 2, 7, 2, 7]), array([2, 2, 7, 7, 4, 2, 7, 2, 7, 2]), array([2, 7, 7, 4, 2, 7, 2, 7, 2, 2]), array([7, 7, 4, 2, 7, 2, 7, 2, 2, 6]), array([7, 4, 2, 7, 2, 7, 2, 2, 6, 8]), array([4, 2, 7, 2, 7, 2, 2, 6, 8, 7]), array([2, 7, 2, 7, 2, 2, 6, 8, 7, 2]), array([7, 2, 7, 2, 2, 6, 8, 7, 2, 2]), array([2, 7, 2, 2, 6, 8, 7, 2, 2, 4]), array([7, 2, 2, 6, 8, 7, 2, 2, 4, 5]), array([2, 2, 6, 8, 7, 2, 2, 4, 5, 7]), array([2, 6, 8, 7, 2, 2, 4, 5, 7, 2]), array([6, 8, 7, 2, 2, 4, 5, 7, 2, 2]), array([8, 7, 2, 2, 4, 5, 7, 2, 2, 7]), array([7, 2, 2, 4, 5, 7, 2, 2, 7, 2]), array([2, 2, 4, 5, 7, 2, 2, 7, 2, 7]), array([2, 4, 5, 7, 2, 2, 7, 2, 7, 2]), array([4, 5, 7, 2, 2, 7, 2, 7, 2, 8]), array([5, 7, 2, 2, 7, 2, 7, 2, 8, 2]), array([7, 2, 2, 7, 2, 7, 2, 8, 2, 2]), array([2, 2, 7, 2, 7, 2, 8, 2, 2, 2]), array([2, 7, 2, 7, 2, 8, 2, 2, 2, 2]), array([7, 2, 7, 2, 8, 2, 2, 2, 2, 2]), array([2, 7, 2, 8, 2, 2, 2, 2, 2, 7]), array([7, 2, 8, 2, 2, 2, 2, 2, 7, 7]), array([2, 8, 2, 2, 2, 2, 2, 7, 7, 2]), array([8, 2, 2, 2, 2, 2, 7, 7, 2, 6]), array([2, 2, 2, 2, 2, 7, 7, 2, 6, 7]), array([2, 2, 2, 2, 7, 7, 2, 6, 7, 2]), array([2, 2, 2, 7, 7, 2, 6, 7, 2, 2]), array([2, 2, 7, 7, 2, 6, 7, 2, 2, 2]), array([2, 7, 7, 2, 6, 7, 2, 2, 2, 2]), array([7, 7, 2, 6, 7, 2, 2, 2, 2, 3]), array([7, 2, 6, 7, 2, 2, 2, 2, 3, 2]), array([2, 6, 7, 2, 2, 2, 2, 3, 2, 2]), array([6, 7, 2, 2, 2, 2, 3, 2, 2, 2]), array([7, 2, 2, 2, 2, 3, 2, 2, 2, 2]), array([2, 2, 2, 2, 3, 2, 2, 2, 2, 2]), array([2, 2, 2, 3, 2, 2, 2, 2, 2, 2]), array([2, 2, 3, 2, 2, 2, 2, 2, 2, 2]), array([2, 3, 2, 2, 2, 2, 2, 2, 2, 7]), array([3, 2, 2, 2, 2, 2, 2, 2, 7, 2]), array([2, 2, 2, 2, 2, 2, 2, 7, 2, 2]), array([2, 2, 2, 2, 2, 2, 7, 2, 2, 2]), array([2, 2, 2, 2, 2, 7, 2, 2, 2, 2]), array([2, 2, 2, 2, 7, 2, 2, 2, 2, 2]), array([2, 2, 2, 7, 2, 2, 2, 2, 2, 5]), array([2, 2, 7, 2, 2, 2, 2, 2, 5, 7]), array([ 2,  7,  2,  2,  2,  2,  2,  5,  7, 15]), array([ 7,  2,  2,  2,  2,  2,  5,  7, 15,  2]), array([ 2,  2,  2,  2,  2,  5,  7, 15,  2,  2]), array([ 2,  2,  2,  2,  5,  7, 15,  2,  2,  2]), array([ 2,  2,  2,  5,  7, 15,  2,  2,  2, 15]), array([ 2,  2,  5,  7, 15,  2,  2,  2, 15,  4]), array([ 2,  5,  7, 15,  2,  2,  2, 15,  4,  8]), array([ 5,  7, 15,  2,  2,  2, 15,  4,  8, 15]), array([ 7, 15,  2,  2,  2, 15,  4,  8, 15,  2]), array([15,  2,  2,  2, 15,  4,  8, 15,  2,  2]), array([ 2,  2,  2, 15,  4,  8, 15,  2,  2,  2]), array([ 2,  2, 15,  4,  8, 15,  2,  2,  2,  2]), array([ 2, 15,  4,  8, 15,  2,  2,  2,  2,  2]), array([15,  4,  8, 15,  2,  2,  2,  2,  2,  2]), array([ 4,  8, 15,  2,  2,  2,  2,  2,  2,  2]), array([ 8, 15,  2,  2,  2,  2,  2,  2,  2,  2]), array([15,  2,  2,  2,  2,  2,  2,  2,  2,  2]), array([2, 2, 2, 2, 2, 2, 2, 2, 2, 7]), array([2, 2, 2, 2, 2, 2, 2, 2, 7, 2]), array([2, 2, 2, 2, 2, 2, 2, 7, 2, 2]), array([2, 2, 2, 2, 2, 2, 7, 2, 2, 2]), array([2, 2, 2, 2, 2, 7, 2, 2, 2, 7]), array([2, 2, 2, 2, 7, 2, 2, 2, 7, 2]), array([2, 2, 2, 7, 2, 2, 2, 7, 2, 5]), array([2, 2, 7, 2, 2, 2, 7, 2, 5, 2]), array([2, 7, 2, 2, 2, 7, 2, 5, 2, 2]), array([7, 2, 2, 2, 7, 2, 5, 2, 2, 2]), array([2, 2, 2, 7, 2, 5, 2, 2, 2, 2]), array([2, 2, 7, 2, 5, 2, 2, 2, 2, 2]), array([2, 7, 2, 5, 2, 2, 2, 2, 2, 2]), array([7, 2, 5, 2, 2, 2, 2, 2, 2, 2]), array([2, 5, 2, 2, 2, 2, 2, 2, 2, 7]), array([5, 2, 2, 2, 2, 2, 2, 2, 7, 2]), array([2, 2, 2, 2, 2, 2, 2, 7, 2, 2]), array([2, 2, 2, 2, 2, 2, 7, 2, 2, 2]), array([2, 2, 2, 2, 2, 7, 2, 2, 2, 7]), array([2, 2, 2, 2, 7, 2, 2, 2, 7, 2]), array([2, 2, 2, 7, 2, 2, 2, 7, 2, 2]), array([2, 2, 7, 2, 2, 2, 7, 2, 2, 7]), array([2, 7, 2, 2, 2, 7, 2, 2, 7, 8]), array([7, 2, 2, 2, 7, 2, 2, 7, 8, 2]), array([2, 2, 2, 7, 2, 2, 7, 8, 2, 2]), array([2, 2, 7, 2, 2, 7, 8, 2, 2, 2]), array([2, 7, 2, 2, 7, 8, 2, 2, 2, 7]), array([7, 2, 2, 7, 8, 2, 2, 2, 7, 2]), array([2, 2, 7, 8, 2, 2, 2, 7, 2, 2]), array([2, 7, 8, 2, 2, 2, 7, 2, 2, 6]), array([7, 8, 2, 2, 2, 7, 2, 2, 6, 2]), array([8, 2, 2, 2, 7, 2, 2, 6, 2, 2]), array([2, 2, 2, 7, 2, 2, 6, 2, 2, 2]), array([2, 2, 7, 2, 2, 6, 2, 2, 2, 2]), array([ 2,  7,  2,  2,  6,  2,  2,  2,  2, 15]), array([ 7,  2,  2,  6,  2,  2,  2,  2, 15,  2]), array([ 2,  2,  6,  2,  2,  2,  2, 15,  2,  2]), array([ 2,  6,  2,  2,  2,  2, 15,  2,  2,  2]), array([ 6,  2,  2,  2,  2, 15,  2,  2,  2,  7]), array([ 2,  2,  2,  2, 15,  2,  2,  2,  7,  2]), array([ 2,  2,  2, 15,  2,  2,  2,  7,  2,  7]), array([ 2,  2, 15,  2,  2,  2,  7,  2,  7,  2]), array([ 2, 15,  2,  2,  2,  7,  2,  7,  2,  2]), array([15,  2,  2,  2,  7,  2,  7,  2,  2,  2]), array([2, 2, 2, 7, 2, 7, 2, 2, 2, 7]), array([ 2,  2,  7,  2,  7,  2,  2,  2,  7, 15]), array([ 2,  7,  2,  7,  2,  2,  2,  7, 15,  2]), array([ 7,  2,  7,  2,  2,  2,  7, 15,  2,  2]), array([ 2,  7,  2,  2,  2,  7, 15,  2,  2,  2]), array([ 7,  2,  2,  2,  7, 15,  2,  2,  2,  2]), array([ 2,  2,  2,  7, 15,  2,  2,  2,  2,  2]), array([ 2,  2,  7, 15,  2,  2,  2,  2,  2,  2]), array([ 2,  7, 15,  2,  2,  2,  2,  2,  2,  7]), array([ 7, 15,  2,  2,  2,  2,  2,  2,  7,  7]), array([15,  2,  2,  2,  2,  2,  2,  7,  7,  2]), array([2, 2, 2, 2, 2, 2, 7, 7, 2, 2]), array([ 2,  2,  2,  2,  2,  7,  7,  2,  2, 15]), array([ 2,  2,  2,  2,  7,  7,  2,  2, 15,  7]), array([ 2,  2,  2,  7,  7,  2,  2, 15,  7,  2]), array([ 2,  2,  7,  7,  2,  2, 15,  7,  2,  2]), array([ 2,  7,  7,  2,  2, 15,  7,  2,  2,  7]), array([ 7,  7,  2,  2, 15,  7,  2,  2,  7,  2]), array([ 7,  2,  2, 15,  7,  2,  2,  7,  2,  2]), array([ 2,  2, 15,  7,  2,  2,  7,  2,  2,  2]), array([ 2, 15,  7,  2,  2,  7,  2,  2,  2,  7]), array([15,  7,  2,  2,  7,  2,  2,  2,  7,  2]), array([7, 2, 2, 7, 2, 2, 2, 7, 2, 2]), array([2, 2, 7, 2, 2, 2, 7, 2, 2, 2]), array([2, 7, 2, 2, 2, 7, 2, 2, 2, 3]), array([7, 2, 2, 2, 7, 2, 2, 2, 3, 2]), array([2, 2, 2, 7, 2, 2, 2, 3, 2, 2]), array([2, 2, 7, 2, 2, 2, 3, 2, 2, 2]), array([2, 7, 2, 2, 2, 3, 2, 2, 2, 2]), array([7, 2, 2, 2, 3, 2, 2, 2, 2, 2]), array([2, 2, 2, 3, 2, 2, 2, 2, 2, 2]), array([2, 2, 3, 2, 2, 2, 2, 2, 2, 2]), array([2, 3, 2, 2, 2, 2, 2, 2, 2, 2]), array([3, 2, 2, 2, 2, 2, 2, 2, 2, 2]), array([2, 2, 2, 2, 2, 2, 2, 2, 2, 7]), array([2, 2, 2, 2, 2, 2, 2, 2, 7, 2]), array([2, 2, 2, 2, 2, 2, 2, 7, 2, 2]), array([2, 2, 2, 2, 2, 2, 7, 2, 2, 2]), array([2, 2, 2, 2, 2, 7, 2, 2, 2, 2]), array([2, 2, 2, 2, 7, 2, 2, 2, 2, 2]), array([2, 2, 2, 7, 2, 2, 2, 2, 2, 2]), array([2, 2, 7, 2, 2, 2, 2, 2, 2, 2]), array([2, 7, 2, 2, 2, 2, 2, 2, 2, 2]), array([7, 2, 2, 2, 2, 2, 2, 2, 2, 2]), array([2, 2, 2, 2, 2, 2, 2, 2, 2, 2]), array([2, 2, 2, 2, 2, 2, 2, 2, 2, 2]), array([2, 2, 2, 2, 2, 2, 2, 2, 2, 7]), array([2, 2, 2, 2, 2, 2, 2, 2, 7, 2]), array([2, 2, 2, 2, 2, 2, 2, 7, 2, 7]), array([2, 2, 2, 2, 2, 2, 7, 2, 7, 2]), array([2, 2, 2, 2, 2, 7, 2, 7, 2, 2]), array([2, 2, 2, 2, 7, 2, 7, 2, 2, 2]), array([2, 2, 2, 7, 2, 7, 2, 2, 2, 8]), array([2, 2, 7, 2, 7, 2, 2, 2, 8, 2]), array([2, 7, 2, 7, 2, 2, 2, 8, 2, 2]), array([7, 2, 7, 2, 2, 2, 8, 2, 2, 2]), array([2, 7, 2, 2, 2, 8, 2, 2, 2, 2]), array([7, 2, 2, 2, 8, 2, 2, 2, 2, 2]), array([2, 2, 2, 8, 2, 2, 2, 2, 2, 2]), array([2, 2, 8, 2, 2, 2, 2, 2, 2, 2]), array([2, 8, 2, 2, 2, 2, 2, 2, 2, 2]), array([8, 2, 2, 2, 2, 2, 2, 2, 2, 2]), array([2, 2, 2, 2, 2, 2, 2, 2, 2, 2]), array([2, 2, 2, 2, 2, 2, 2, 2, 2, 2]), array([2, 2, 2, 2, 2, 2, 2, 2, 2, 7]), array([2, 2, 2, 2, 2, 2, 2, 2, 7, 7]), array([2, 2, 2, 2, 2, 2, 2, 7, 7, 7]), array([2, 2, 2, 2, 2, 2, 7, 7, 7, 2]), array([2, 2, 2, 2, 2, 7, 7, 7, 2, 6]), array([2, 2, 2, 2, 7, 7, 7, 2, 6, 7]), array([2, 2, 2, 7, 7, 7, 2, 6, 7, 7]), array([2, 2, 7, 7, 7, 2, 6, 7, 7, 3]), array([2, 7, 7, 7, 2, 6, 7, 7, 3, 2]), array([7, 7, 7, 2, 6, 7, 7, 3, 2, 2]), array([7, 7, 2, 6, 7, 7, 3, 2, 2, 2]), array([7, 2, 6, 7, 7, 3, 2, 2, 2, 2]), array([2, 6, 7, 7, 3, 2, 2, 2, 2, 2]), array([6, 7, 7, 3, 2, 2, 2, 2, 2, 7]), array([7, 7, 3, 2, 2, 2, 2, 2, 7, 2]), array([7, 3, 2, 2, 2, 2, 2, 7, 2, 2]), array([3, 2, 2, 2, 2, 2, 7, 2, 2, 2]), array([2, 2, 2, 2, 2, 7, 2, 2, 2, 6]), array([2, 2, 2, 2, 7, 2, 2, 2, 6, 7]), array([2, 2, 2, 7, 2, 2, 2, 6, 7, 2]), array([2, 2, 7, 2, 2, 2, 6, 7, 2, 7]), array([2, 7, 2, 2, 2, 6, 7, 2, 7, 2]), array([7, 2, 2, 2, 6, 7, 2, 7, 2, 2]), array([2, 2, 2, 6, 7, 2, 7, 2, 2, 2]), array([2, 2, 6, 7, 2, 7, 2, 2, 2, 2]), array([2, 6, 7, 2, 7, 2, 2, 2, 2, 2]), array([6, 7, 2, 7, 2, 2, 2, 2, 2, 2]), array([7, 2, 7, 2, 2, 2, 2, 2, 2, 5]), array([2, 7, 2, 2, 2, 2, 2, 2, 5, 4]), array([7, 2, 2, 2, 2, 2, 2, 5, 4, 2]), array([2, 2, 2, 2, 2, 2, 5, 4, 2, 2]), array([ 2,  2,  2,  2,  2,  5,  4,  2,  2, 15]), array([ 2,  2,  2,  2,  5,  4,  2,  2, 15, 15]), array([ 2,  2,  2,  5,  4,  2,  2, 15, 15,  3]), array([ 2,  2,  5,  4,  2,  2, 15, 15,  3,  7]), array([ 2,  5,  4,  2,  2, 15, 15,  3,  7,  2]), array([ 5,  4,  2,  2, 15, 15,  3,  7,  2,  4]), array([ 4,  2,  2, 15, 15,  3,  7,  2,  4,  2]), array([ 2,  2, 15, 15,  3,  7,  2,  4,  2,  2]), array([ 2, 15, 15,  3,  7,  2,  4,  2,  2,  2]), array([15, 15,  3,  7,  2,  4,  2,  2,  2,  2]), array([15,  3,  7,  2,  4,  2,  2,  2,  2,  2]), array([3, 7, 2, 4, 2, 2, 2, 2, 2, 7]), array([7, 2, 4, 2, 2, 2, 2, 2, 7, 2]), array([2, 4, 2, 2, 2, 2, 2, 7, 2, 2]), array([4, 2, 2, 2, 2, 2, 7, 2, 2, 2]), array([2, 2, 2, 2, 2, 7, 2, 2, 2, 2]), array([2, 2, 2, 2, 7, 2, 2, 2, 2, 2]), array([2, 2, 2, 7, 2, 2, 2, 2, 2, 2]), array([2, 2, 7, 2, 2, 2, 2, 2, 2, 7]), array([2, 7, 2, 2, 2, 2, 2, 2, 7, 7]), array([7, 2, 2, 2, 2, 2, 2, 7, 7, 2]), array([2, 2, 2, 2, 2, 2, 7, 7, 2, 8]), array([2, 2, 2, 2, 2, 7, 7, 2, 8, 2]), array([2, 2, 2, 2, 7, 7, 2, 8, 2, 2]), array([2, 2, 2, 7, 7, 2, 8, 2, 2, 7]), array([2, 2, 7, 7, 2, 8, 2, 2, 7, 2]), array([2, 7, 7, 2, 8, 2, 2, 7, 2, 2]), array([7, 7, 2, 8, 2, 2, 7, 2, 2, 6]), array([7, 2, 8, 2, 2, 7, 2, 2, 6, 7]), array([2, 8, 2, 2, 7, 2, 2, 6, 7, 5]), array([8, 2, 2, 7, 2, 2, 6, 7, 5, 2]), array([2, 2, 7, 2, 2, 6, 7, 5, 2, 8]), array([2, 7, 2, 2, 6, 7, 5, 2, 8, 2]), array([7, 2, 2, 6, 7, 5, 2, 8, 2, 8]), array([2, 2, 6, 7, 5, 2, 8, 2, 8, 2]), array([2, 6, 7, 5, 2, 8, 2, 8, 2, 2]), array([6, 7, 5, 2, 8, 2, 8, 2, 2, 2]), array([7, 5, 2, 8, 2, 8, 2, 2, 2, 2]), array([5, 2, 8, 2, 8, 2, 2, 2, 2, 7]), array([2, 8, 2, 8, 2, 2, 2, 2, 7, 2]), array([8, 2, 8, 2, 2, 2, 2, 7, 2, 6]), array([2, 8, 2, 2, 2, 2, 7, 2, 6, 2]), array([8, 2, 2, 2, 2, 7, 2, 6, 2, 2]), array([2, 2, 2, 2, 7, 2, 6, 2, 2, 7]), array([2, 2, 2, 7, 2, 6, 2, 2, 7, 2]), array([2, 2, 7, 2, 6, 2, 2, 7, 2, 2]), array([2, 7, 2, 6, 2, 2, 7, 2, 2, 2]), array([7, 2, 6, 2, 2, 7, 2, 2, 2, 4]), array([2, 6, 2, 2, 7, 2, 2, 2, 4, 2]), array([6, 2, 2, 7, 2, 2, 2, 4, 2, 7]), array([2, 2, 7, 2, 2, 2, 4, 2, 7, 2]), array([2, 7, 2, 2, 2, 4, 2, 7, 2, 2]), array([7, 2, 2, 2, 4, 2, 7, 2, 2, 2]), array([2, 2, 2, 4, 2, 7, 2, 2, 2, 7]), array([2, 2, 4, 2, 7, 2, 2, 2, 7, 6]), array([2, 4, 2, 7, 2, 2, 2, 7, 6, 2]), array([4, 2, 7, 2, 2, 2, 7, 6, 2, 2]), array([2, 7, 2, 2, 2, 7, 6, 2, 2, 2]), array([7, 2, 2, 2, 7, 6, 2, 2, 2, 7]), array([2, 2, 2, 7, 6, 2, 2, 2, 7, 5]), array([2, 2, 7, 6, 2, 2, 2, 7, 5, 2]), array([2, 7, 6, 2, 2, 2, 7, 5, 2, 2]), array([7, 6, 2, 2, 2, 7, 5, 2, 2, 2]), array([6, 2, 2, 2, 7, 5, 2, 2, 2, 2]), array([2, 2, 2, 7, 5, 2, 2, 2, 2, 2]), array([2, 2, 7, 5, 2, 2, 2, 2, 2, 8]), array([2, 7, 5, 2, 2, 2, 2, 2, 8, 2]), array([7, 5, 2, 2, 2, 2, 2, 8, 2, 2]), array([5, 2, 2, 2, 2, 2, 8, 2, 2, 2]), array([2, 2, 2, 2, 2, 8, 2, 2, 2, 7]), array([2, 2, 2, 2, 8, 2, 2, 2, 7, 8]), array([2, 2, 2, 8, 2, 2, 2, 7, 8, 2]), array([2, 2, 8, 2, 2, 2, 7, 8, 2, 2]), array([2, 8, 2, 2, 2, 7, 8, 2, 2, 2]), array([8, 2, 2, 2, 7, 8, 2, 2, 2, 5]), array([2, 2, 2, 7, 8, 2, 2, 2, 5, 2]), array([2, 2, 7, 8, 2, 2, 2, 5, 2, 2]), array([2, 7, 8, 2, 2, 2, 5, 2, 2, 7]), array([7, 8, 2, 2, 2, 5, 2, 2, 7, 2]), array([8, 2, 2, 2, 5, 2, 2, 7, 2, 6]), array([2, 2, 2, 5, 2, 2, 7, 2, 6, 7]), array([2, 2, 5, 2, 2, 7, 2, 6, 7, 8]), array([2, 5, 2, 2, 7, 2, 6, 7, 8, 2]), array([5, 2, 2, 7, 2, 6, 7, 8, 2, 2]), array([2, 2, 7, 2, 6, 7, 8, 2, 2, 4]), array([2, 7, 2, 6, 7, 8, 2, 2, 4, 2]), array([ 7,  2,  6,  7,  8,  2,  2,  4,  2, 15]), array([ 2,  6,  7,  8,  2,  2,  4,  2, 15,  2]), array([ 6,  7,  8,  2,  2,  4,  2, 15,  2,  2]), array([ 7,  8,  2,  2,  4,  2, 15,  2,  2,  2]), array([ 8,  2,  2,  4,  2, 15,  2,  2,  2,  2]), array([ 2,  2,  4,  2, 15,  2,  2,  2,  2,  2]), array([ 2,  4,  2, 15,  2,  2,  2,  2,  2,  2]), array([ 4,  2, 15,  2,  2,  2,  2,  2,  2,  2]), array([ 2, 15,  2,  2,  2,  2,  2,  2,  2,  7]), array([15,  2,  2,  2,  2,  2,  2,  2,  7,  2]), array([2, 2, 2, 2, 2, 2, 2, 7, 2, 2]), array([2, 2, 2, 2, 2, 2, 7, 2, 2, 2]), array([2, 2, 2, 2, 2, 7, 2, 2, 2, 8]), array([2, 2, 2, 2, 7, 2, 2, 2, 8, 2]), array([2, 2, 2, 7, 2, 2, 2, 8, 2, 2]), array([2, 2, 7, 2, 2, 2, 8, 2, 2, 2]), array([2, 7, 2, 2, 2, 8, 2, 2, 2, 2]), array([7, 2, 2, 2, 8, 2, 2, 2, 2, 2]), array([2, 2, 2, 8, 2, 2, 2, 2, 2, 2]), array([2, 2, 8, 2, 2, 2, 2, 2, 2, 2]), array([2, 8, 2, 2, 2, 2, 2, 2, 2, 2]), array([8, 2, 2, 2, 2, 2, 2, 2, 2, 2]), array([2, 2, 2, 2, 2, 2, 2, 2, 2, 7]), array([2, 2, 2, 2, 2, 2, 2, 2, 7, 2]), array([2, 2, 2, 2, 2, 2, 2, 7, 2, 2]), array([2, 2, 2, 2, 2, 2, 7, 2, 2, 2]), array([2, 2, 2, 2, 2, 7, 2, 2, 2, 2]), array([2, 2, 2, 2, 7, 2, 2, 2, 2, 2]), array([2, 2, 2, 7, 2, 2, 2, 2, 2, 7]), array([2, 2, 7, 2, 2, 2, 2, 2, 7, 2]), array([2, 7, 2, 2, 2, 2, 2, 7, 2, 2]), array([7, 2, 2, 2, 2, 2, 7, 2, 2, 7]), array([2, 2, 2, 2, 2, 7, 2, 2, 7, 2]), array([2, 2, 2, 2, 7, 2, 2, 7, 2, 2]), array([2, 2, 2, 7, 2, 2, 7, 2, 2, 2]), array([2, 2, 7, 2, 2, 7, 2, 2, 2, 7]), array([2, 7, 2, 2, 7, 2, 2, 2, 7, 2]), array([7, 2, 2, 7, 2, 2, 2, 7, 2, 2]), array([2, 2, 7, 2, 2, 2, 7, 2, 2, 2]), array([2, 7, 2, 2, 2, 7, 2, 2, 2, 7]), array([7, 2, 2, 2, 7, 2, 2, 2, 7, 2]), array([2, 2, 2, 7, 2, 2, 2, 7, 2, 2]), array([2, 2, 7, 2, 2, 2, 7, 2, 2, 2]), array([2, 7, 2, 2, 2, 7, 2, 2, 2, 2]), array([7, 2, 2, 2, 7, 2, 2, 2, 2, 2]), array([2, 2, 2, 7, 2, 2, 2, 2, 2, 2]), array([2, 2, 7, 2, 2, 2, 2, 2, 2, 2]), array([2, 7, 2, 2, 2, 2, 2, 2, 2, 7]), array([7, 2, 2, 2, 2, 2, 2, 2, 7, 2]), array([2, 2, 2, 2, 2, 2, 2, 7, 2, 2]), array([2, 2, 2, 2, 2, 2, 7, 2, 2, 2]), array([2, 2, 2, 2, 2, 7, 2, 2, 2, 2]), array([2, 2, 2, 2, 7, 2, 2, 2, 2, 2]), array([2, 2, 2, 7, 2, 2, 2, 2, 2, 2]), array([2, 2, 7, 2, 2, 2, 2, 2, 2, 2]), array([2, 7, 2, 2, 2, 2, 2, 2, 2, 2]), array([7, 2, 2, 2, 2, 2, 2, 2, 2, 2]), array([2, 2, 2, 2, 2, 2, 2, 2, 2, 7]), array([2, 2, 2, 2, 2, 2, 2, 2, 7, 6]), array([2, 2, 2, 2, 2, 2, 2, 7, 6, 2]), array([2, 2, 2, 2, 2, 2, 7, 6, 2, 7]), array([2, 2, 2, 2, 2, 7, 6, 2, 7, 7]), array([2, 2, 2, 2, 7, 6, 2, 7, 7, 5]), array([ 2,  2,  2,  7,  6,  2,  7,  7,  5, 15]), array([ 2,  2,  7,  6,  2,  7,  7,  5, 15,  2]), array([ 2,  7,  6,  2,  7,  7,  5, 15,  2,  7]), array([ 7,  6,  2,  7,  7,  5, 15,  2,  7, 15]), array([ 6,  2,  7,  7,  5, 15,  2,  7, 15,  2]), array([ 2,  7,  7,  5, 15,  2,  7, 15,  2,  2]), array([ 7,  7,  5, 15,  2,  7, 15,  2,  2,  2]), array([ 7,  5, 15,  2,  7, 15,  2,  2,  2,  2]), array([ 5, 15,  2,  7, 15,  2,  2,  2,  2,  2]), array([15,  2,  7, 15,  2,  2,  2,  2,  2,  2]), array([ 2,  7, 15,  2,  2,  2,  2,  2,  2,  2]), array([ 7, 15,  2,  2,  2,  2,  2,  2,  2,  5]), array([15,  2,  2,  2,  2,  2,  2,  2,  5,  7]), array([2, 2, 2, 2, 2, 2, 2, 5, 7, 2]), array([2, 2, 2, 2, 2, 2, 5, 7, 2, 6]), array([2, 2, 2, 2, 2, 5, 7, 2, 6, 2]), array([2, 2, 2, 2, 5, 7, 2, 6, 2, 2]), array([2, 2, 2, 5, 7, 2, 6, 2, 2, 2]), array([2, 2, 5, 7, 2, 6, 2, 2, 2, 2]), array([2, 5, 7, 2, 6, 2, 2, 2, 2, 2]), array([5, 7, 2, 6, 2, 2, 2, 2, 2, 7]), array([7, 2, 6, 2, 2, 2, 2, 2, 7, 2]), array([2, 6, 2, 2, 2, 2, 2, 7, 2, 2]), array([ 6,  2,  2,  2,  2,  2,  7,  2,  2, 15]), array([ 2,  2,  2,  2,  2,  7,  2,  2, 15,  2]), array([ 2,  2,  2,  2,  7,  2,  2, 15,  2,  3]), array([ 2,  2,  2,  7,  2,  2, 15,  2,  3,  2]), array([ 2,  2,  7,  2,  2, 15,  2,  3,  2,  3]), array([ 2,  7,  2,  2, 15,  2,  3,  2,  3,  2]), array([ 7,  2,  2, 15,  2,  3,  2,  3,  2,  8]), array([ 2,  2, 15,  2,  3,  2,  3,  2,  8,  2]), array([ 2, 15,  2,  3,  2,  3,  2,  8,  2,  2]), array([15,  2,  3,  2,  3,  2,  8,  2,  2,  2]), array([2, 3, 2, 3, 2, 8, 2, 2, 2, 2]), array([3, 2, 3, 2, 8, 2, 2, 2, 2, 2]), array([2, 3, 2, 8, 2, 2, 2, 2, 2, 8]), array([3, 2, 8, 2, 2, 2, 2, 2, 8, 2]), array([2, 8, 2, 2, 2, 2, 2, 8, 2, 2]), array([8, 2, 2, 2, 2, 2, 8, 2, 2, 2]), array([2, 2, 2, 2, 2, 8, 2, 2, 2, 7]), array([2, 2, 2, 2, 8, 2, 2, 2, 7, 2]), array([2, 2, 2, 8, 2, 2, 2, 7, 2, 2]), array([2, 2, 8, 2, 2, 2, 7, 2, 2, 7]), array([2, 8, 2, 2, 2, 7, 2, 2, 7, 2]), array([ 8,  2,  2,  2,  7,  2,  2,  7,  2, 15]), array([ 2,  2,  2,  7,  2,  2,  7,  2, 15, 15]), array([ 2,  2,  7,  2,  2,  7,  2, 15, 15,  6]), array([ 2,  7,  2,  2,  7,  2, 15, 15,  6,  2]), array([ 7,  2,  2,  7,  2, 15, 15,  6,  2,  2]), array([ 2,  2,  7,  2, 15, 15,  6,  2,  2,  6]), array([ 2,  7,  2, 15, 15,  6,  2,  2,  6,  2]), array([ 7,  2, 15, 15,  6,  2,  2,  6,  2,  8]), array([ 2, 15, 15,  6,  2,  2,  6,  2,  8,  7]), array([15, 15,  6,  2,  2,  6,  2,  8,  7,  2]), array([15,  6,  2,  2,  6,  2,  8,  7,  2,  2]), array([6, 2, 2, 6, 2, 8, 7, 2, 2, 2]), array([2, 2, 6, 2, 8, 7, 2, 2, 2, 7]), array([2, 6, 2, 8, 7, 2, 2, 2, 7, 2]), array([6, 2, 8, 7, 2, 2, 2, 7, 2, 6]), array([2, 8, 7, 2, 2, 2, 7, 2, 6, 6]), array([8, 7, 2, 2, 2, 7, 2, 6, 6, 2]), array([7, 2, 2, 2, 7, 2, 6, 6, 2, 2]), array([2, 2, 2, 7, 2, 6, 6, 2, 2, 7]), array([2, 2, 7, 2, 6, 6, 2, 2, 7, 2]), array([2, 7, 2, 6, 6, 2, 2, 7, 2, 2]), array([7, 2, 6, 6, 2, 2, 7, 2, 2, 2]), array([2, 6, 6, 2, 2, 7, 2, 2, 2, 2]), array([6, 6, 2, 2, 7, 2, 2, 2, 2, 7]), array([6, 2, 2, 7, 2, 2, 2, 2, 7, 3]), array([2, 2, 7, 2, 2, 2, 2, 7, 3, 2]), array([2, 7, 2, 2, 2, 2, 7, 3, 2, 2]), array([7, 2, 2, 2, 2, 7, 3, 2, 2, 3]), array([ 2,  2,  2,  2,  7,  3,  2,  2,  3, 15]), array([ 2,  2,  2,  7,  3,  2,  2,  3, 15,  2]), array([ 2,  2,  7,  3,  2,  2,  3, 15,  2, 15]), array([ 2,  7,  3,  2,  2,  3, 15,  2, 15,  2]), array([ 7,  3,  2,  2,  3, 15,  2, 15,  2,  2]), array([ 3,  2,  2,  3, 15,  2, 15,  2,  2,  2]), array([ 2,  2,  3, 15,  2, 15,  2,  2,  2,  7]), array([ 2,  3, 15,  2, 15,  2,  2,  2,  7,  2]), array([ 3, 15,  2, 15,  2,  2,  2,  7,  2,  4]), array([15,  2, 15,  2,  2,  2,  7,  2,  4,  6]), array([ 2, 15,  2,  2,  2,  7,  2,  4,  6,  5]), array([15,  2,  2,  2,  7,  2,  4,  6,  5,  2]), array([2, 2, 2, 7, 2, 4, 6, 5, 2, 6]), array([2, 2, 7, 2, 4, 6, 5, 2, 6, 2]), array([2, 7, 2, 4, 6, 5, 2, 6, 2, 2]), array([7, 2, 4, 6, 5, 2, 6, 2, 2, 7]), array([2, 4, 6, 5, 2, 6, 2, 2, 7, 2]), array([4, 6, 5, 2, 6, 2, 2, 7, 2, 2]), array([6, 5, 2, 6, 2, 2, 7, 2, 2, 2]), array([5, 2, 6, 2, 2, 7, 2, 2, 2, 2]), array([2, 6, 2, 2, 7, 2, 2, 2, 2, 7]), array([ 6,  2,  2,  7,  2,  2,  2,  2,  7, 15]), array([ 2,  2,  7,  2,  2,  2,  2,  7, 15,  2]), array([ 2,  7,  2,  2,  2,  2,  7, 15,  2,  2]), array([ 7,  2,  2,  2,  2,  7, 15,  2,  2,  2]), array([ 2,  2,  2,  2,  7, 15,  2,  2,  2,  2]), array([ 2,  2,  2,  7, 15,  2,  2,  2,  2,  2]), array([ 2,  2,  7, 15,  2,  2,  2,  2,  2,  3]), array([ 2,  7, 15,  2,  2,  2,  2,  2,  3,  3]), array([ 7, 15,  2,  2,  2,  2,  2,  3,  3,  5]), array([15,  2,  2,  2,  2,  2,  3,  3,  5,  6]), array([2, 2, 2, 2, 2, 3, 3, 5, 6, 3]), array([2, 2, 2, 2, 3, 3, 5, 6, 3, 2]), array([2, 2, 2, 3, 3, 5, 6, 3, 2, 7]), array([2, 2, 3, 3, 5, 6, 3, 2, 7, 2]), array([2, 3, 3, 5, 6, 3, 2, 7, 2, 5]), array([3, 3, 5, 6, 3, 2, 7, 2, 5, 7]), array([3, 5, 6, 3, 2, 7, 2, 5, 7, 6]), array([5, 6, 3, 2, 7, 2, 5, 7, 6, 2]), array([6, 3, 2, 7, 2, 5, 7, 6, 2, 2]), array([3, 2, 7, 2, 5, 7, 6, 2, 2, 2]), array([2, 7, 2, 5, 7, 6, 2, 2, 2, 2]), array([7, 2, 5, 7, 6, 2, 2, 2, 2, 2]), array([2, 5, 7, 6, 2, 2, 2, 2, 2, 6]), array([5, 7, 6, 2, 2, 2, 2, 2, 6, 2]), array([7, 6, 2, 2, 2, 2, 2, 6, 2, 2]), array([6, 2, 2, 2, 2, 2, 6, 2, 2, 2]), array([2, 2, 2, 2, 2, 6, 2, 2, 2, 2]), array([2, 2, 2, 2, 6, 2, 2, 2, 2, 2]), array([2, 2, 2, 6, 2, 2, 2, 2, 2, 2]), array([2, 2, 6, 2, 2, 2, 2, 2, 2, 6]), array([2, 6, 2, 2, 2, 2, 2, 2, 6, 2]), array([6, 2, 2, 2, 2, 2, 2, 6, 2, 2]), array([2, 2, 2, 2, 2, 2, 6, 2, 2, 2]), array([2, 2, 2, 2, 2, 6, 2, 2, 2, 7]), array([2, 2, 2, 2, 6, 2, 2, 2, 7, 2]), array([2, 2, 2, 6, 2, 2, 2, 7, 2, 2]), array([2, 2, 6, 2, 2, 2, 7, 2, 2, 8]), array([2, 6, 2, 2, 2, 7, 2, 2, 8, 2]), array([6, 2, 2, 2, 7, 2, 2, 8, 2, 6]), array([2, 2, 2, 7, 2, 2, 8, 2, 6, 2]), array([2, 2, 7, 2, 2, 8, 2, 6, 2, 2]), array([2, 7, 2, 2, 8, 2, 6, 2, 2, 2]), array([7, 2, 2, 8, 2, 6, 2, 2, 2, 7]), array([2, 2, 8, 2, 6, 2, 2, 2, 7, 2]), array([2, 8, 2, 6, 2, 2, 2, 7, 2, 2]), array([8, 2, 6, 2, 2, 2, 7, 2, 2, 2]), array([2, 6, 2, 2, 2, 7, 2, 2, 2, 2]), array([6, 2, 2, 2, 7, 2, 2, 2, 2, 2]), array([2, 2, 2, 7, 2, 2, 2, 2, 2, 2]), array([2, 2, 7, 2, 2, 2, 2, 2, 2, 2]), array([2, 7, 2, 2, 2, 2, 2, 2, 2, 2]), array([7, 2, 2, 2, 2, 2, 2, 2, 2, 2]), array([2, 2, 2, 2, 2, 2, 2, 2, 2, 2]), array([2, 2, 2, 2, 2, 2, 2, 2, 2, 2]), array([2, 2, 2, 2, 2, 2, 2, 2, 2, 2]), array([2, 2, 2, 2, 2, 2, 2, 2, 2, 5]), array([2, 2, 2, 2, 2, 2, 2, 2, 5, 7]), array([ 2,  2,  2,  2,  2,  2,  2,  5,  7, 15]), array([ 2,  2,  2,  2,  2,  2,  5,  7, 15,  7]), array([ 2,  2,  2,  2,  2,  5,  7, 15,  7,  6]), array([ 2,  2,  2,  2,  5,  7, 15,  7,  6,  2]), array([ 2,  2,  2,  5,  7, 15,  7,  6,  2,  2]), array([ 2,  2,  5,  7, 15,  7,  6,  2,  2,  5]), array([ 2,  5,  7, 15,  7,  6,  2,  2,  5,  2]), array([ 5,  7, 15,  7,  6,  2,  2,  5,  2,  2]), array([ 7, 15,  7,  6,  2,  2,  5,  2,  2,  7]), array([15,  7,  6,  2,  2,  5,  2,  2,  7,  7]), array([7, 6, 2, 2, 5, 2, 2, 7, 7, 2]), array([6, 2, 2, 5, 2, 2, 7, 7, 2, 2]), array([2, 2, 5, 2, 2, 7, 7, 2, 2, 7]), array([2, 5, 2, 2, 7, 7, 2, 2, 7, 2]), array([5, 2, 2, 7, 7, 2, 2, 7, 2, 2]), array([2, 2, 7, 7, 2, 2, 7, 2, 2, 2]), array([2, 7, 7, 2, 2, 7, 2, 2, 2, 2]), array([7, 7, 2, 2, 7, 2, 2, 2, 2, 2]), array([7, 2, 2, 7, 2, 2, 2, 2, 2, 7]), array([2, 2, 7, 2, 2, 2, 2, 2, 7, 2]), array([2, 7, 2, 2, 2, 2, 2, 7, 2, 2]), array([7, 2, 2, 2, 2, 2, 7, 2, 2, 7]), array([2, 2, 2, 2, 2, 7, 2, 2, 7, 2]), array([2, 2, 2, 2, 7, 2, 2, 7, 2, 4]), array([2, 2, 2, 7, 2, 2, 7, 2, 4, 2]), array([2, 2, 7, 2, 2, 7, 2, 4, 2, 6]), array([2, 7, 2, 2, 7, 2, 4, 2, 6, 2]), array([7, 2, 2, 7, 2, 4, 2, 6, 2, 7]), array([2, 2, 7, 2, 4, 2, 6, 2, 7, 2]), array([2, 7, 2, 4, 2, 6, 2, 7, 2, 2]), array([7, 2, 4, 2, 6, 2, 7, 2, 2, 2]), array([2, 4, 2, 6, 2, 7, 2, 2, 2, 2]), array([4, 2, 6, 2, 7, 2, 2, 2, 2, 6]), array([2, 6, 2, 7, 2, 2, 2, 2, 6, 2]), array([6, 2, 7, 2, 2, 2, 2, 6, 2, 2]), array([2, 7, 2, 2, 2, 2, 6, 2, 2, 2]), array([7, 2, 2, 2, 2, 6, 2, 2, 2, 2]), array([2, 2, 2, 2, 6, 2, 2, 2, 2, 7]), array([2, 2, 2, 6, 2, 2, 2, 2, 7, 2]), array([2, 2, 6, 2, 2, 2, 2, 7, 2, 8]), array([2, 6, 2, 2, 2, 2, 7, 2, 8, 7]), array([6, 2, 2, 2, 2, 7, 2, 8, 7, 2]), array([2, 2, 2, 2, 7, 2, 8, 7, 2, 2]), array([2, 2, 2, 7, 2, 8, 7, 2, 2, 8]), array([2, 2, 7, 2, 8, 7, 2, 2, 8, 2]), array([2, 7, 2, 8, 7, 2, 2, 8, 2, 8]), array([7, 2, 8, 7, 2, 2, 8, 2, 8, 8]), array([ 2,  8,  7,  2,  2,  8,  2,  8,  8, 11]), array([ 8,  7,  2,  2,  8,  2,  8,  8, 11,  2]), array([ 7,  2,  2,  8,  2,  8,  8, 11,  2,  2]), array([ 2,  2,  8,  2,  8,  8, 11,  2,  2,  2]), array([ 2,  8,  2,  8,  8, 11,  2,  2,  2,  2]), array([ 8,  2,  8,  8, 11,  2,  2,  2,  2,  6]), array([ 2,  8,  8, 11,  2,  2,  2,  2,  6,  2]), array([ 8,  8, 11,  2,  2,  2,  2,  6,  2,  7]), array([ 8, 11,  2,  2,  2,  2,  6,  2,  7,  3]), array([11,  2,  2,  2,  2,  6,  2,  7,  3,  8]), array([2, 2, 2, 2, 6, 2, 7, 3, 8, 2]), array([2, 2, 2, 6, 2, 7, 3, 8, 2, 2]), array([2, 2, 6, 2, 7, 3, 8, 2, 2, 2]), array([2, 6, 2, 7, 3, 8, 2, 2, 2, 2]), array([6, 2, 7, 3, 8, 2, 2, 2, 2, 2]), array([2, 7, 3, 8, 2, 2, 2, 2, 2, 2]), array([ 7,  3,  8,  2,  2,  2,  2,  2,  2, 15]), array([ 3,  8,  2,  2,  2,  2,  2,  2, 15,  7]), array([ 8,  2,  2,  2,  2,  2,  2, 15,  7,  2]), array([ 2,  2,  2,  2,  2,  2, 15,  7,  2,  2]), array([ 2,  2,  2,  2,  2, 15,  7,  2,  2,  2]), array([ 2,  2,  2,  2, 15,  7,  2,  2,  2,  2]), array([ 2,  2,  2, 15,  7,  2,  2,  2,  2,  6]), array([ 2,  2, 15,  7,  2,  2,  2,  2,  6,  2]), array([ 2, 15,  7,  2,  2,  2,  2,  6,  2,  2]), array([15,  7,  2,  2,  2,  2,  6,  2,  2,  2]), array([7, 2, 2, 2, 2, 6, 2, 2, 2, 2]), array([2, 2, 2, 2, 6, 2, 2, 2, 2, 2]), array([2, 2, 2, 6, 2, 2, 2, 2, 2, 2]), array([2, 2, 6, 2, 2, 2, 2, 2, 2, 2]), array([2, 6, 2, 2, 2, 2, 2, 2, 2, 2]), array([6, 2, 2, 2, 2, 2, 2, 2, 2, 2]), array([2, 2, 2, 2, 2, 2, 2, 2, 2, 2]), array([2, 2, 2, 2, 2, 2, 2, 2, 2, 2]), array([2, 2, 2, 2, 2, 2, 2, 2, 2, 2]), array([2, 2, 2, 2, 2, 2, 2, 2, 2, 2]), array([2, 2, 2, 2, 2, 2, 2, 2, 2, 2]), array([2, 2, 2, 2, 2, 2, 2, 2, 2, 2]), array([2, 2, 2, 2, 2, 2, 2, 2, 2, 2]), array([2, 2, 2, 2, 2, 2, 2, 2, 2, 2]), array([2, 2, 2, 2, 2, 2, 2, 2, 2, 2]), array([2, 2, 2, 2, 2, 2, 2, 2, 2, 2]), array([2, 2, 2, 2, 2, 2, 2, 2, 2, 3]), array([2, 2, 2, 2, 2, 2, 2, 2, 3, 2]), array([2, 2, 2, 2, 2, 2, 2, 3, 2, 7]), array([2, 2, 2, 2, 2, 2, 3, 2, 7, 6]), array([2, 2, 2, 2, 2, 3, 2, 7, 6, 2]), array([2, 2, 2, 2, 3, 2, 7, 6, 2, 2]), array([2, 2, 2, 3, 2, 7, 6, 2, 2, 7]), array([2, 2, 3, 2, 7, 6, 2, 2, 7, 8]), array([2, 3, 2, 7, 6, 2, 2, 7, 8, 7]), array([3, 2, 7, 6, 2, 2, 7, 8, 7, 2]), array([2, 7, 6, 2, 2, 7, 8, 7, 2, 2]), array([7, 6, 2, 2, 7, 8, 7, 2, 2, 2]), array([6, 2, 2, 7, 8, 7, 2, 2, 2, 5]), array([2, 2, 7, 8, 7, 2, 2, 2, 5, 2]), array([ 2,  7,  8,  7,  2,  2,  2,  5,  2, 12]), array([ 7,  8,  7,  2,  2,  2,  5,  2, 12,  2]), array([ 8,  7,  2,  2,  2,  5,  2, 12,  2,  6]), array([ 7,  2,  2,  2,  5,  2, 12,  2,  6,  2]), array([ 2,  2,  2,  5,  2, 12,  2,  6,  2,  2]), array([ 2,  2,  5,  2, 12,  2,  6,  2,  2,  2]), array([ 2,  5,  2, 12,  2,  6,  2,  2,  2,  2]), array([ 5,  2, 12,  2,  6,  2,  2,  2,  2,  8]), array([ 2, 12,  2,  6,  2,  2,  2,  2,  8,  7]), array([12,  2,  6,  2,  2,  2,  2,  8,  7,  7]), array([2, 6, 2, 2, 2, 2, 8, 7, 7, 7]), array([6, 2, 2, 2, 2, 8, 7, 7, 7, 2]), array([2, 2, 2, 2, 8, 7, 7, 7, 2, 2]), array([2, 2, 2, 8, 7, 7, 7, 2, 2, 2]), array([2, 2, 8, 7, 7, 7, 2, 2, 2, 2]), array([2, 8, 7, 7, 7, 2, 2, 2, 2, 2]), array([8, 7, 7, 7, 2, 2, 2, 2, 2, 2]), array([7, 7, 7, 2, 2, 2, 2, 2, 2, 2]), array([7, 7, 2, 2, 2, 2, 2, 2, 2, 2]), array([7, 2, 2, 2, 2, 2, 2, 2, 2, 2]), array([2, 2, 2, 2, 2, 2, 2, 2, 2, 6]), array([2, 2, 2, 2, 2, 2, 2, 2, 6, 7]), array([2, 2, 2, 2, 2, 2, 2, 6, 7, 2]), array([2, 2, 2, 2, 2, 2, 6, 7, 2, 7]), array([2, 2, 2, 2, 2, 6, 7, 2, 7, 2]), array([2, 2, 2, 2, 6, 7, 2, 7, 2, 7]), array([2, 2, 2, 6, 7, 2, 7, 2, 7, 2]), array([2, 2, 6, 7, 2, 7, 2, 7, 2, 6]), array([2, 6, 7, 2, 7, 2, 7, 2, 6, 2]), array([6, 7, 2, 7, 2, 7, 2, 6, 2, 2]), array([7, 2, 7, 2, 7, 2, 6, 2, 2, 2]), array([ 2,  7,  2,  7,  2,  6,  2,  2,  2, 15]), array([ 7,  2,  7,  2,  6,  2,  2,  2, 15,  7]), array([ 2,  7,  2,  6,  2,  2,  2, 15,  7,  2]), array([ 7,  2,  6,  2,  2,  2, 15,  7,  2,  6]), array([ 2,  6,  2,  2,  2, 15,  7,  2,  6, 15]), array([ 6,  2,  2,  2, 15,  7,  2,  6, 15,  2]), array([ 2,  2,  2, 15,  7,  2,  6, 15,  2,  2]), array([ 2,  2, 15,  7,  2,  6, 15,  2,  2,  7]), array([ 2, 15,  7,  2,  6, 15,  2,  2,  7,  2]), array([15,  7,  2,  6, 15,  2,  2,  7,  2,  6]), array([ 7,  2,  6, 15,  2,  2,  7,  2,  6,  2]), array([ 2,  6, 15,  2,  2,  7,  2,  6,  2,  2]), array([ 6, 15,  2,  2,  7,  2,  6,  2,  2,  7]), array([15,  2,  2,  7,  2,  6,  2,  2,  7,  2]), array([2, 2, 7, 2, 6, 2, 2, 7, 2, 2]), array([2, 7, 2, 6, 2, 2, 7, 2, 2, 2]), array([7, 2, 6, 2, 2, 7, 2, 2, 2, 8]), array([2, 6, 2, 2, 7, 2, 2, 2, 8, 4]), array([6, 2, 2, 7, 2, 2, 2, 8, 4, 2]), array([2, 2, 7, 2, 2, 2, 8, 4, 2, 3]), array([2, 7, 2, 2, 2, 8, 4, 2, 3, 2]), array([7, 2, 2, 2, 8, 4, 2, 3, 2, 2]), array([2, 2, 2, 8, 4, 2, 3, 2, 2, 2]), array([2, 2, 8, 4, 2, 3, 2, 2, 2, 2]), array([2, 8, 4, 2, 3, 2, 2, 2, 2, 2]), array([8, 4, 2, 3, 2, 2, 2, 2, 2, 7]), array([4, 2, 3, 2, 2, 2, 2, 2, 7, 2]), array([2, 3, 2, 2, 2, 2, 2, 7, 2, 2]), array([3, 2, 2, 2, 2, 2, 7, 2, 2, 2]), array([2, 2, 2, 2, 2, 7, 2, 2, 2, 2]), array([2, 2, 2, 2, 7, 2, 2, 2, 2, 7]), array([2, 2, 2, 7, 2, 2, 2, 2, 7, 2]), array([2, 2, 7, 2, 2, 2, 2, 7, 2, 7]), array([2, 7, 2, 2, 2, 2, 7, 2, 7, 2]), array([7, 2, 2, 2, 2, 7, 2, 7, 2, 2]), array([2, 2, 2, 2, 7, 2, 7, 2, 2, 2]), array([2, 2, 2, 7, 2, 7, 2, 2, 2, 7]), array([2, 2, 7, 2, 7, 2, 2, 2, 7, 2]), array([2, 7, 2, 7, 2, 2, 2, 7, 2, 6]), array([7, 2, 7, 2, 2, 2, 7, 2, 6, 2]), array([2, 7, 2, 2, 2, 7, 2, 6, 2, 8]), array([7, 2, 2, 2, 7, 2, 6, 2, 8, 2]), array([ 2,  2,  2,  7,  2,  6,  2,  8,  2, 15]), array([ 2,  2,  7,  2,  6,  2,  8,  2, 15,  2]), array([ 2,  7,  2,  6,  2,  8,  2, 15,  2,  8]), array([ 7,  2,  6,  2,  8,  2, 15,  2,  8,  8]), array([ 2,  6,  2,  8,  2, 15,  2,  8,  8,  6]), array([ 6,  2,  8,  2, 15,  2,  8,  8,  6,  2]), array([ 2,  8,  2, 15,  2,  8,  8,  6,  2,  2]), array([ 8,  2, 15,  2,  8,  8,  6,  2,  2,  2]), array([ 2, 15,  2,  8,  8,  6,  2,  2,  2,  2]), array([15,  2,  8,  8,  6,  2,  2,  2,  2,  6]), array([2, 8, 8, 6, 2, 2, 2, 2, 6, 2]), array([ 8,  8,  6,  2,  2,  2,  2,  6,  2, 15]), array([ 8,  6,  2,  2,  2,  2,  6,  2, 15,  2]), array([ 6,  2,  2,  2,  2,  6,  2, 15,  2,  2]), array([ 2,  2,  2,  2,  6,  2, 15,  2,  2,  8]), array([ 2,  2,  2,  6,  2, 15,  2,  2,  8,  3]), array([ 2,  2,  6,  2, 15,  2,  2,  8,  3,  3]), array([ 2,  6,  2, 15,  2,  2,  8,  3,  3,  3]), array([ 6,  2, 15,  2,  2,  8,  3,  3,  3,  3]), array([ 2, 15,  2,  2,  8,  3,  3,  3,  3,  2]), array([15,  2,  2,  8,  3,  3,  3,  3,  2,  6]), array([2, 2, 8, 3, 3, 3, 3, 2, 6, 2]), array([2, 8, 3, 3, 3, 3, 2, 6, 2, 2]), array([8, 3, 3, 3, 3, 2, 6, 2, 2, 2]), array([3, 3, 3, 3, 2, 6, 2, 2, 2, 7]), array([3, 3, 3, 2, 6, 2, 2, 2, 7, 8]), array([3, 3, 2, 6, 2, 2, 2, 7, 8, 3]), array([3, 2, 6, 2, 2, 2, 7, 8, 3, 2]), array([2, 6, 2, 2, 2, 7, 8, 3, 2, 7]), array([6, 2, 2, 2, 7, 8, 3, 2, 7, 2]), array([2, 2, 2, 7, 8, 3, 2, 7, 2, 7]), array([2, 2, 7, 8, 3, 2, 7, 2, 7, 3]), array([2, 7, 8, 3, 2, 7, 2, 7, 3, 8]), array([7, 8, 3, 2, 7, 2, 7, 3, 8, 7]), array([8, 3, 2, 7, 2, 7, 3, 8, 7, 2]), array([3, 2, 7, 2, 7, 3, 8, 7, 2, 2]), array([2, 7, 2, 7, 3, 8, 7, 2, 2, 7]), array([7, 2, 7, 3, 8, 7, 2, 2, 7, 5]), array([2, 7, 3, 8, 7, 2, 2, 7, 5, 7]), array([7, 3, 8, 7, 2, 2, 7, 5, 7, 2]), array([3, 8, 7, 2, 2, 7, 5, 7, 2, 7]), array([8, 7, 2, 2, 7, 5, 7, 2, 7, 2]), array([7, 2, 2, 7, 5, 7, 2, 7, 2, 2]), array([2, 2, 7, 5, 7, 2, 7, 2, 2, 2]), array([2, 7, 5, 7, 2, 7, 2, 2, 2, 2]), array([7, 5, 7, 2, 7, 2, 2, 2, 2, 2]), array([5, 7, 2, 7, 2, 2, 2, 2, 2, 2]), array([7, 2, 7, 2, 2, 2, 2, 2, 2, 2]), array([2, 7, 2, 2, 2, 2, 2, 2, 2, 7]), array([7, 2, 2, 2, 2, 2, 2, 2, 7, 2]), array([2, 2, 2, 2, 2, 2, 2, 7, 2, 2]), array([2, 2, 2, 2, 2, 2, 7, 2, 2, 3]), array([2, 2, 2, 2, 2, 7, 2, 2, 3, 7]), array([2, 2, 2, 2, 7, 2, 2, 3, 7, 7]), array([2, 2, 2, 7, 2, 2, 3, 7, 7, 2]), array([2, 2, 7, 2, 2, 3, 7, 7, 2, 8]), array([2, 7, 2, 2, 3, 7, 7, 2, 8, 3]), array([7, 2, 2, 3, 7, 7, 2, 8, 3, 2]), array([2, 2, 3, 7, 7, 2, 8, 3, 2, 2]), array([2, 3, 7, 7, 2, 8, 3, 2, 2, 2]), array([3, 7, 7, 2, 8, 3, 2, 2, 2, 5]), array([7, 7, 2, 8, 3, 2, 2, 2, 5, 7]), array([7, 2, 8, 3, 2, 2, 2, 5, 7, 2]), array([2, 8, 3, 2, 2, 2, 5, 7, 2, 2]), array([8, 3, 2, 2, 2, 5, 7, 2, 2, 2]), array([3, 2, 2, 2, 5, 7, 2, 2, 2, 2]), array([2, 2, 2, 5, 7, 2, 2, 2, 2, 7]), array([2, 2, 5, 7, 2, 2, 2, 2, 7, 8]), array([2, 5, 7, 2, 2, 2, 2, 7, 8, 2]), array([5, 7, 2, 2, 2, 2, 7, 8, 2, 7]), array([7, 2, 2, 2, 2, 7, 8, 2, 7, 2]), array([2, 2, 2, 2, 7, 8, 2, 7, 2, 2]), array([2, 2, 2, 7, 8, 2, 7, 2, 2, 2]), array([2, 2, 7, 8, 2, 7, 2, 2, 2, 7]), array([2, 7, 8, 2, 7, 2, 2, 2, 7, 2]), array([7, 8, 2, 7, 2, 2, 2, 7, 2, 8]), array([8, 2, 7, 2, 2, 2, 7, 2, 8, 7]), array([2, 7, 2, 2, 2, 7, 2, 8, 7, 2]), array([7, 2, 2, 2, 7, 2, 8, 7, 2, 2]), array([2, 2, 2, 7, 2, 8, 7, 2, 2, 2]), array([2, 2, 7, 2, 8, 7, 2, 2, 2, 2]), array([2, 7, 2, 8, 7, 2, 2, 2, 2, 2]), array([7, 2, 8, 7, 2, 2, 2, 2, 2, 7]), array([2, 8, 7, 2, 2, 2, 2, 2, 7, 2]), array([8, 7, 2, 2, 2, 2, 2, 7, 2, 2]), array([7, 2, 2, 2, 2, 2, 7, 2, 2, 6]), array([2, 2, 2, 2, 2, 7, 2, 2, 6, 2]), array([2, 2, 2, 2, 7, 2, 2, 6, 2, 2]), array([2, 2, 2, 7, 2, 2, 6, 2, 2, 2]), array([2, 2, 7, 2, 2, 6, 2, 2, 2, 2]), array([2, 7, 2, 2, 6, 2, 2, 2, 2, 8]), array([7, 2, 2, 6, 2, 2, 2, 2, 8, 2]), array([2, 2, 6, 2, 2, 2, 2, 8, 2, 7]), array([2, 6, 2, 2, 2, 2, 8, 2, 7, 7]), array([6, 2, 2, 2, 2, 8, 2, 7, 7, 2]), array([ 2,  2,  2,  2,  8,  2,  7,  7,  2, 15]), array([ 2,  2,  2,  8,  2,  7,  7,  2, 15,  2]), array([ 2,  2,  8,  2,  7,  7,  2, 15,  2,  3]), array([ 2,  8,  2,  7,  7,  2, 15,  2,  3,  2]), array([ 8,  2,  7,  7,  2, 15,  2,  3,  2,  2]), array([ 2,  7,  7,  2, 15,  2,  3,  2,  2,  5]), array([ 7,  7,  2, 15,  2,  3,  2,  2,  5,  2]), array([ 7,  2, 15,  2,  3,  2,  2,  5,  2,  2]), array([ 2, 15,  2,  3,  2,  2,  5,  2,  2,  2]), array([15,  2,  3,  2,  2,  5,  2,  2,  2,  2]), array([2, 3, 2, 2, 5, 2, 2, 2, 2, 2]), array([3, 2, 2, 5, 2, 2, 2, 2, 2, 5]), array([2, 2, 5, 2, 2, 2, 2, 2, 5, 7]), array([2, 5, 2, 2, 2, 2, 2, 5, 7, 2]), array([5, 2, 2, 2, 2, 2, 5, 7, 2, 2]), array([2, 2, 2, 2, 2, 5, 7, 2, 2, 6]), array([2, 2, 2, 2, 5, 7, 2, 2, 6, 2]), array([2, 2, 2, 5, 7, 2, 2, 6, 2, 2]), array([2, 2, 5, 7, 2, 2, 6, 2, 2, 7]), array([2, 5, 7, 2, 2, 6, 2, 2, 7, 6]), array([5, 7, 2, 2, 6, 2, 2, 7, 6, 3]), array([7, 2, 2, 6, 2, 2, 7, 6, 3, 5]), array([ 2,  2,  6,  2,  2,  7,  6,  3,  5, 12]), array([ 2,  6,  2,  2,  7,  6,  3,  5, 12,  2]), array([ 6,  2,  2,  7,  6,  3,  5, 12,  2,  5]), array([ 2,  2,  7,  6,  3,  5, 12,  2,  5,  7]), array([ 2,  7,  6,  3,  5, 12,  2,  5,  7,  2]), array([ 7,  6,  3,  5, 12,  2,  5,  7,  2,  2]), array([ 6,  3,  5, 12,  2,  5,  7,  2,  2,  2]), array([ 3,  5, 12,  2,  5,  7,  2,  2,  2,  7]), array([ 5, 12,  2,  5,  7,  2,  2,  2,  7,  2]), array([12,  2,  5,  7,  2,  2,  2,  7,  2,  2]), array([2, 5, 7, 2, 2, 2, 7, 2, 2, 2]), array([ 5,  7,  2,  2,  2,  7,  2,  2,  2, 11]), array([ 7,  2,  2,  2,  7,  2,  2,  2, 11,  7]), array([ 2,  2,  2,  7,  2,  2,  2, 11,  7,  2]), array([ 2,  2,  7,  2,  2,  2, 11,  7,  2,  2]), array([ 2,  7,  2,  2,  2, 11,  7,  2,  2,  7]), array([ 7,  2,  2,  2, 11,  7,  2,  2,  7,  7]), array([ 2,  2,  2, 11,  7,  2,  2,  7,  7,  2]), array([ 2,  2, 11,  7,  2,  2,  7,  7,  2,  2]), array([ 2, 11,  7,  2,  2,  7,  7,  2,  2,  2]), array([11,  7,  2,  2,  7,  7,  2,  2,  2,  2]), array([7, 2, 2, 7, 7, 2, 2, 2, 2, 2]), array([2, 2, 7, 7, 2, 2, 2, 2, 2, 2]), array([2, 7, 7, 2, 2, 2, 2, 2, 2, 5]), array([7, 7, 2, 2, 2, 2, 2, 2, 5, 2]), array([7, 2, 2, 2, 2, 2, 2, 5, 2, 2]), array([2, 2, 2, 2, 2, 2, 5, 2, 2, 7]), array([2, 2, 2, 2, 2, 5, 2, 2, 7, 3]), array([2, 2, 2, 2, 5, 2, 2, 7, 3, 2]), array([2, 2, 2, 5, 2, 2, 7, 3, 2, 8]), array([2, 2, 5, 2, 2, 7, 3, 2, 8, 2]), array([2, 5, 2, 2, 7, 3, 2, 8, 2, 2]), array([5, 2, 2, 7, 3, 2, 8, 2, 2, 2]), array([2, 2, 7, 3, 2, 8, 2, 2, 2, 2]), array([2, 7, 3, 2, 8, 2, 2, 2, 2, 7]), array([7, 3, 2, 8, 2, 2, 2, 2, 7, 2]), array([ 3,  2,  8,  2,  2,  2,  2,  7,  2, 12]), array([ 2,  8,  2,  2,  2,  2,  7,  2, 12,  2]), array([ 8,  2,  2,  2,  2,  7,  2, 12,  2,  7]), array([ 2,  2,  2,  2,  7,  2, 12,  2,  7,  2]), array([ 2,  2,  2,  7,  2, 12,  2,  7,  2,  2]), array([ 2,  2,  7,  2, 12,  2,  7,  2,  2,  7]), array([ 2,  7,  2, 12,  2,  7,  2,  2,  7,  7]), array([ 7,  2, 12,  2,  7,  2,  2,  7,  7,  2]), array([ 2, 12,  2,  7,  2,  2,  7,  7,  2,  2]), array([12,  2,  7,  2,  2,  7,  7,  2,  2, 15]), array([ 2,  7,  2,  2,  7,  7,  2,  2, 15,  7]), array([ 7,  2,  2,  7,  7,  2,  2, 15,  7,  3]), array([ 2,  2,  7,  7,  2,  2, 15,  7,  3,  4]), array([ 2,  7,  7,  2,  2, 15,  7,  3,  4,  2]), array([ 7,  7,  2,  2, 15,  7,  3,  4,  2,  2]), array([ 7,  2,  2, 15,  7,  3,  4,  2,  2,  2]), array([ 2,  2, 15,  7,  3,  4,  2,  2,  2,  2]), array([ 2, 15,  7,  3,  4,  2,  2,  2,  2,  2]), array([15,  7,  3,  4,  2,  2,  2,  2,  2,  2]), array([7, 3, 4, 2, 2, 2, 2, 2, 2, 2]), array([3, 4, 2, 2, 2, 2, 2, 2, 2, 7]), array([ 4,  2,  2,  2,  2,  2,  2,  2,  7, 11]), array([ 2,  2,  2,  2,  2,  2,  2,  7, 11,  7]), array([ 2,  2,  2,  2,  2,  2,  7, 11,  7,  2]), array([ 2,  2,  2,  2,  2,  7, 11,  7,  2,  7]), array([ 2,  2,  2,  2,  7, 11,  7,  2,  7,  2]), array([ 2,  2,  2,  7, 11,  7,  2,  7,  2,  2]), array([ 2,  2,  7, 11,  7,  2,  7,  2,  2,  7]), array([ 2,  7, 11,  7,  2,  7,  2,  2,  7,  2]), array([ 7, 11,  7,  2,  7,  2,  2,  7,  2,  2]), array([11,  7,  2,  7,  2,  2,  7,  2,  2,  2]), array([7, 2, 7, 2, 2, 7, 2, 2, 2, 2]), array([2, 7, 2, 2, 7, 2, 2, 2, 2, 2]), array([7, 2, 2, 7, 2, 2, 2, 2, 2, 2]), array([2, 2, 7, 2, 2, 2, 2, 2, 2, 2]), array([2, 7, 2, 2, 2, 2, 2, 2, 2, 2]), array([7, 2, 2, 2, 2, 2, 2, 2, 2, 2]), array([2, 2, 2, 2, 2, 2, 2, 2, 2, 5]), array([2, 2, 2, 2, 2, 2, 2, 2, 5, 2]), array([2, 2, 2, 2, 2, 2, 2, 5, 2, 2]), array([2, 2, 2, 2, 2, 2, 5, 2, 2, 7]), array([2, 2, 2, 2, 2, 5, 2, 2, 7, 2]), array([2, 2, 2, 2, 5, 2, 2, 7, 2, 2]), array([2, 2, 2, 5, 2, 2, 7, 2, 2, 2]), array([2, 2, 5, 2, 2, 7, 2, 2, 2, 8]), array([2, 5, 2, 2, 7, 2, 2, 2, 8, 7]), array([5, 2, 2, 7, 2, 2, 2, 8, 7, 2]), array([2, 2, 7, 2, 2, 2, 8, 7, 2, 2]), array([2, 7, 2, 2, 2, 8, 7, 2, 2, 2]), array([7, 2, 2, 2, 8, 7, 2, 2, 2, 2]), array([2, 2, 2, 8, 7, 2, 2, 2, 2, 7]), array([2, 2, 8, 7, 2, 2, 2, 2, 7, 2]), array([2, 8, 7, 2, 2, 2, 2, 7, 2, 6]), array([8, 7, 2, 2, 2, 2, 7, 2, 6, 2]), array([7, 2, 2, 2, 2, 7, 2, 6, 2, 5]), array([2, 2, 2, 2, 7, 2, 6, 2, 5, 2]), array([2, 2, 2, 7, 2, 6, 2, 5, 2, 7]), array([2, 2, 7, 2, 6, 2, 5, 2, 7, 6]), array([2, 7, 2, 6, 2, 5, 2, 7, 6, 5]), array([7, 2, 6, 2, 5, 2, 7, 6, 5, 6]), array([2, 6, 2, 5, 2, 7, 6, 5, 6, 2]), array([6, 2, 5, 2, 7, 6, 5, 6, 2, 8]), array([2, 5, 2, 7, 6, 5, 6, 2, 8, 2]), array([5, 2, 7, 6, 5, 6, 2, 8, 2, 2]), array([2, 7, 6, 5, 6, 2, 8, 2, 2, 3]), array([7, 6, 5, 6, 2, 8, 2, 2, 3, 2]), array([6, 5, 6, 2, 8, 2, 2, 3, 2, 2]), array([5, 6, 2, 8, 2, 2, 3, 2, 2, 6]), array([6, 2, 8, 2, 2, 3, 2, 2, 6, 2]), array([2, 8, 2, 2, 3, 2, 2, 6, 2, 4]), array([8, 2, 2, 3, 2, 2, 6, 2, 4, 2]), array([2, 2, 3, 2, 2, 6, 2, 4, 2, 2]), array([2, 3, 2, 2, 6, 2, 4, 2, 2, 2]), array([3, 2, 2, 6, 2, 4, 2, 2, 2, 2]), array([2, 2, 6, 2, 4, 2, 2, 2, 2, 2]), array([2, 6, 2, 4, 2, 2, 2, 2, 2, 2]), array([ 6,  2,  4,  2,  2,  2,  2,  2,  2, 15]), array([ 2,  4,  2,  2,  2,  2,  2,  2, 15,  2]), array([ 4,  2,  2,  2,  2,  2,  2, 15,  2,  2]), array([ 2,  2,  2,  2,  2,  2, 15,  2,  2,  2]), array([ 2,  2,  2,  2,  2, 15,  2,  2,  2,  2]), array([ 2,  2,  2,  2, 15,  2,  2,  2,  2,  2]), array([ 2,  2,  2, 15,  2,  2,  2,  2,  2,  2]), array([ 2,  2, 15,  2,  2,  2,  2,  2,  2,  2]), array([ 2, 15,  2,  2,  2,  2,  2,  2,  2,  2]), array([15,  2,  2,  2,  2,  2,  2,  2,  2,  7]), array([2, 2, 2, 2, 2, 2, 2, 2, 7, 7]), array([2, 2, 2, 2, 2, 2, 2, 7, 7, 7]), array([2, 2, 2, 2, 2, 2, 7, 7, 7, 2]), array([2, 2, 2, 2, 2, 7, 7, 7, 2, 5]), array([2, 2, 2, 2, 7, 7, 7, 2, 5, 5]), array([2, 2, 2, 7, 7, 7, 2, 5, 5, 2]), array([2, 2, 7, 7, 7, 2, 5, 5, 2, 2]), array([2, 7, 7, 7, 2, 5, 5, 2, 2, 2]), array([7, 7, 7, 2, 5, 5, 2, 2, 2, 7]), array([7, 7, 2, 5, 5, 2, 2, 2, 7, 2]), array([7, 2, 5, 5, 2, 2, 2, 7, 2, 3]), array([2, 5, 5, 2, 2, 2, 7, 2, 3, 2]), array([5, 5, 2, 2, 2, 7, 2, 3, 2, 8]), array([5, 2, 2, 2, 7, 2, 3, 2, 8, 7]), array([2, 2, 2, 7, 2, 3, 2, 8, 7, 7]), array([2, 2, 7, 2, 3, 2, 8, 7, 7, 2]), array([2, 7, 2, 3, 2, 8, 7, 7, 2, 2]), array([7, 2, 3, 2, 8, 7, 7, 2, 2, 5]), array([ 2,  3,  2,  8,  7,  7,  2,  2,  5, 12]), array([ 3,  2,  8,  7,  7,  2,  2,  5, 12,  2]), array([ 2,  8,  7,  7,  2,  2,  5, 12,  2,  2]), array([ 8,  7,  7,  2,  2,  5, 12,  2,  2,  2]), array([ 7,  7,  2,  2,  5, 12,  2,  2,  2,  2]), array([ 7,  2,  2,  5, 12,  2,  2,  2,  2,  2]), array([ 2,  2,  5, 12,  2,  2,  2,  2,  2,  2]), array([ 2,  5, 12,  2,  2,  2,  2,  2,  2,  4]), array([ 5, 12,  2,  2,  2,  2,  2,  2,  4,  2]), array([12,  2,  2,  2,  2,  2,  2,  4,  2,  2]), array([2, 2, 2, 2, 2, 2, 4, 2, 2, 2]), array([2, 2, 2, 2, 2, 4, 2, 2, 2, 8]), array([2, 2, 2, 2, 4, 2, 2, 2, 8, 2]), array([2, 2, 2, 4, 2, 2, 2, 8, 2, 2]), array([2, 2, 4, 2, 2, 2, 8, 2, 2, 2]), array([2, 4, 2, 2, 2, 8, 2, 2, 2, 2]), array([4, 2, 2, 2, 8, 2, 2, 2, 2, 7]), array([2, 2, 2, 8, 2, 2, 2, 2, 7, 2]), array([2, 2, 8, 2, 2, 2, 2, 7, 2, 2]), array([2, 8, 2, 2, 2, 2, 7, 2, 2, 3]), array([8, 2, 2, 2, 2, 7, 2, 2, 3, 7]), array([2, 2, 2, 2, 7, 2, 2, 3, 7, 7]), array([2, 2, 2, 7, 2, 2, 3, 7, 7, 6]), array([2, 2, 7, 2, 2, 3, 7, 7, 6, 5]), array([2, 7, 2, 2, 3, 7, 7, 6, 5, 7]), array([7, 2, 2, 3, 7, 7, 6, 5, 7, 7]), array([2, 2, 3, 7, 7, 6, 5, 7, 7, 5]), array([ 2,  3,  7,  7,  6,  5,  7,  7,  5, 15]), array([ 3,  7,  7,  6,  5,  7,  7,  5, 15,  2]), array([ 7,  7,  6,  5,  7,  7,  5, 15,  2,  2]), array([ 7,  6,  5,  7,  7,  5, 15,  2,  2,  6]), array([ 6,  5,  7,  7,  5, 15,  2,  2,  6,  5]), array([ 5,  7,  7,  5, 15,  2,  2,  6,  5,  2]), array([ 7,  7,  5, 15,  2,  2,  6,  5,  2,  2]), array([ 7,  5, 15,  2,  2,  6,  5,  2,  2,  2]), array([ 5, 15,  2,  2,  6,  5,  2,  2,  2,  7]), array([15,  2,  2,  6,  5,  2,  2,  2,  7,  2]), array([2, 2, 6, 5, 2, 2, 2, 7, 2, 5]), array([2, 6, 5, 2, 2, 2, 7, 2, 5, 2]), array([6, 5, 2, 2, 2, 7, 2, 5, 2, 2]), array([5, 2, 2, 2, 7, 2, 5, 2, 2, 2]), array([2, 2, 2, 7, 2, 5, 2, 2, 2, 2]), array([2, 2, 7, 2, 5, 2, 2, 2, 2, 2]), array([2, 7, 2, 5, 2, 2, 2, 2, 2, 7]), array([7, 2, 5, 2, 2, 2, 2, 2, 7, 2]), array([2, 5, 2, 2, 2, 2, 2, 7, 2, 7]), array([5, 2, 2, 2, 2, 2, 7, 2, 7, 5]), array([2, 2, 2, 2, 2, 7, 2, 7, 5, 6]), array([2, 2, 2, 2, 7, 2, 7, 5, 6, 5]), array([2, 2, 2, 7, 2, 7, 5, 6, 5, 2]), array([2, 2, 7, 2, 7, 5, 6, 5, 2, 2]), array([2, 7, 2, 7, 5, 6, 5, 2, 2, 2]), array([7, 2, 7, 5, 6, 5, 2, 2, 2, 2]), array([2, 7, 5, 6, 5, 2, 2, 2, 2, 2]), array([ 7,  5,  6,  5,  2,  2,  2,  2,  2, 15]), array([ 5,  6,  5,  2,  2,  2,  2,  2, 15,  2]), array([ 6,  5,  2,  2,  2,  2,  2, 15,  2,  2]), array([ 5,  2,  2,  2,  2,  2, 15,  2,  2,  6]), array([ 2,  2,  2,  2,  2, 15,  2,  2,  6,  7]), array([ 2,  2,  2,  2, 15,  2,  2,  6,  7,  2]), array([ 2,  2,  2, 15,  2,  2,  6,  7,  2,  2]), array([ 2,  2, 15,  2,  2,  6,  7,  2,  2,  7]), array([ 2, 15,  2,  2,  6,  7,  2,  2,  7,  8]), array([15,  2,  2,  6,  7,  2,  2,  7,  8,  2]), array([2, 2, 6, 7, 2, 2, 7, 8, 2, 2]), array([2, 6, 7, 2, 2, 7, 8, 2, 2, 7]), array([6, 7, 2, 2, 7, 8, 2, 2, 7, 2]), array([7, 2, 2, 7, 8, 2, 2, 7, 2, 3]), array([2, 2, 7, 8, 2, 2, 7, 2, 3, 2]), array([2, 7, 8, 2, 2, 7, 2, 3, 2, 6]), array([7, 8, 2, 2, 7, 2, 3, 2, 6, 2]), array([8, 2, 2, 7, 2, 3, 2, 6, 2, 7]), array([2, 2, 7, 2, 3, 2, 6, 2, 7, 7]), array([2, 7, 2, 3, 2, 6, 2, 7, 7, 5]), array([7, 2, 3, 2, 6, 2, 7, 7, 5, 2]), array([2, 3, 2, 6, 2, 7, 7, 5, 2, 2]), array([3, 2, 6, 2, 7, 7, 5, 2, 2, 7]), array([2, 6, 2, 7, 7, 5, 2, 2, 7, 2]), array([6, 2, 7, 7, 5, 2, 2, 7, 2, 2]), array([2, 7, 7, 5, 2, 2, 7, 2, 2, 2]), array([7, 7, 5, 2, 2, 7, 2, 2, 2, 2]), array([7, 5, 2, 2, 7, 2, 2, 2, 2, 2]), array([5, 2, 2, 7, 2, 2, 2, 2, 2, 2]), array([2, 2, 7, 2, 2, 2, 2, 2, 2, 2]), array([2, 7, 2, 2, 2, 2, 2, 2, 2, 2]), array([7, 2, 2, 2, 2, 2, 2, 2, 2, 2]), array([2, 2, 2, 2, 2, 2, 2, 2, 2, 2]), array([2, 2, 2, 2, 2, 2, 2, 2, 2, 7]), array([2, 2, 2, 2, 2, 2, 2, 2, 7, 7]), array([2, 2, 2, 2, 2, 2, 2, 7, 7, 7]), array([2, 2, 2, 2, 2, 2, 7, 7, 7, 7]), array([2, 2, 2, 2, 2, 7, 7, 7, 7, 7]), array([2, 2, 2, 2, 7, 7, 7, 7, 7, 2]), array([2, 2, 2, 7, 7, 7, 7, 7, 2, 7]), array([2, 2, 7, 7, 7, 7, 7, 2, 7, 7]), array([2, 7, 7, 7, 7, 7, 2, 7, 7, 2]), array([7, 7, 7, 7, 7, 2, 7, 7, 2, 6]), array([7, 7, 7, 7, 2, 7, 7, 2, 6, 2]), array([7, 7, 7, 2, 7, 7, 2, 6, 2, 2]), array([7, 7, 2, 7, 7, 2, 6, 2, 2, 2]), array([7, 2, 7, 7, 2, 6, 2, 2, 2, 6]), array([2, 7, 7, 2, 6, 2, 2, 2, 6, 8]), array([7, 7, 2, 6, 2, 2, 2, 6, 8, 2]), array([7, 2, 6, 2, 2, 2, 6, 8, 2, 2]), array([2, 6, 2, 2, 2, 6, 8, 2, 2, 2]), array([6, 2, 2, 2, 6, 8, 2, 2, 2, 2]), array([2, 2, 2, 6, 8, 2, 2, 2, 2, 2]), array([2, 2, 6, 8, 2, 2, 2, 2, 2, 2]), array([2, 6, 8, 2, 2, 2, 2, 2, 2, 7]), array([6, 8, 2, 2, 2, 2, 2, 2, 7, 2]), array([8, 2, 2, 2, 2, 2, 2, 7, 2, 2]), array([2, 2, 2, 2, 2, 2, 7, 2, 2, 6]), array([2, 2, 2, 2, 2, 7, 2, 2, 6, 2]), array([2, 2, 2, 2, 7, 2, 2, 6, 2, 2]), array([2, 2, 2, 7, 2, 2, 6, 2, 2, 7]), array([2, 2, 7, 2, 2, 6, 2, 2, 7, 2]), array([2, 7, 2, 2, 6, 2, 2, 7, 2, 7]), array([7, 2, 2, 6, 2, 2, 7, 2, 7, 2]), array([2, 2, 6, 2, 2, 7, 2, 7, 2, 5]), array([2, 6, 2, 2, 7, 2, 7, 2, 5, 5]), array([6, 2, 2, 7, 2, 7, 2, 5, 5, 2]), array([2, 2, 7, 2, 7, 2, 5, 5, 2, 6]), array([2, 7, 2, 7, 2, 5, 5, 2, 6, 2]), array([7, 2, 7, 2, 5, 5, 2, 6, 2, 6]), array([2, 7, 2, 5, 5, 2, 6, 2, 6, 7]), array([ 7,  2,  5,  5,  2,  6,  2,  6,  7, 15]), array([ 2,  5,  5,  2,  6,  2,  6,  7, 15,  7]), array([ 5,  5,  2,  6,  2,  6,  7, 15,  7,  6]), array([ 5,  2,  6,  2,  6,  7, 15,  7,  6,  7]), array([ 2,  6,  2,  6,  7, 15,  7,  6,  7,  2]), array([ 6,  2,  6,  7, 15,  7,  6,  7,  2,  6]), array([ 2,  6,  7, 15,  7,  6,  7,  2,  6,  2]), array([ 6,  7, 15,  7,  6,  7,  2,  6,  2,  7]), array([ 7, 15,  7,  6,  7,  2,  6,  2,  7,  3]), array([15,  7,  6,  7,  2,  6,  2,  7,  3,  2]), array([7, 6, 7, 2, 6, 2, 7, 3, 2, 2]), array([6, 7, 2, 6, 2, 7, 3, 2, 2, 7]), array([7, 2, 6, 2, 7, 3, 2, 2, 7, 2]), array([2, 6, 2, 7, 3, 2, 2, 7, 2, 6]), array([6, 2, 7, 3, 2, 2, 7, 2, 6, 2]), array([2, 7, 3, 2, 2, 7, 2, 6, 2, 2]), array([7, 3, 2, 2, 7, 2, 6, 2, 2, 2]), array([3, 2, 2, 7, 2, 6, 2, 2, 2, 2]), array([2, 2, 7, 2, 6, 2, 2, 2, 2, 7]), array([2, 7, 2, 6, 2, 2, 2, 2, 7, 7]), array([7, 2, 6, 2, 2, 2, 2, 7, 7, 2]), array([2, 6, 2, 2, 2, 2, 7, 7, 2, 2]), array([6, 2, 2, 2, 2, 7, 7, 2, 2, 2]), array([ 2,  2,  2,  2,  7,  7,  2,  2,  2, 12]), array([ 2,  2,  2,  7,  7,  2,  2,  2, 12,  7]), array([ 2,  2,  7,  7,  2,  2,  2, 12,  7,  2]), array([ 2,  7,  7,  2,  2,  2, 12,  7,  2,  2]), array([ 7,  7,  2,  2,  2, 12,  7,  2,  2,  6]), array([ 7,  2,  2,  2, 12,  7,  2,  2,  6,  2]), array([ 2,  2,  2, 12,  7,  2,  2,  6,  2,  2]), array([ 2,  2, 12,  7,  2,  2,  6,  2,  2,  2]), array([ 2, 12,  7,  2,  2,  6,  2,  2,  2,  2]), array([12,  7,  2,  2,  6,  2,  2,  2,  2,  2]), array([7, 2, 2, 6, 2, 2, 2, 2, 2, 7]), array([ 2,  2,  6,  2,  2,  2,  2,  2,  7, 15]), array([ 2,  6,  2,  2,  2,  2,  2,  7, 15,  7]), array([ 6,  2,  2,  2,  2,  2,  7, 15,  7,  2]), array([ 2,  2,  2,  2,  2,  7, 15,  7,  2,  2]), array([ 2,  2,  2,  2,  7, 15,  7,  2,  2,  2]), array([ 2,  2,  2,  7, 15,  7,  2,  2,  2,  7]), array([ 2,  2,  7, 15,  7,  2,  2,  2,  7, 15]), array([ 2,  7, 15,  7,  2,  2,  2,  7, 15,  3]), array([ 7, 15,  7,  2,  2,  2,  7, 15,  3,  2]), array([15,  7,  2,  2,  2,  7, 15,  3,  2,  5]), array([ 7,  2,  2,  2,  7, 15,  3,  2,  5,  4]), array([ 2,  2,  2,  7, 15,  3,  2,  5,  4,  2]), array([ 2,  2,  7, 15,  3,  2,  5,  4,  2,  2]), array([ 2,  7, 15,  3,  2,  5,  4,  2,  2,  7]), array([ 7, 15,  3,  2,  5,  4,  2,  2,  7,  2]), array([15,  3,  2,  5,  4,  2,  2,  7,  2,  7]), array([3, 2, 5, 4, 2, 2, 7, 2, 7, 5]), array([2, 5, 4, 2, 2, 7, 2, 7, 5, 2]), array([5, 4, 2, 2, 7, 2, 7, 5, 2, 2]), array([4, 2, 2, 7, 2, 7, 5, 2, 2, 2]), array([2, 2, 7, 2, 7, 5, 2, 2, 2, 2]), array([2, 7, 2, 7, 5, 2, 2, 2, 2, 2]), array([7, 2, 7, 5, 2, 2, 2, 2, 2, 2]), array([2, 7, 5, 2, 2, 2, 2, 2, 2, 2]), array([7, 5, 2, 2, 2, 2, 2, 2, 2, 7]), array([5, 2, 2, 2, 2, 2, 2, 2, 7, 2]), array([2, 2, 2, 2, 2, 2, 2, 7, 2, 2]), array([2, 2, 2, 2, 2, 2, 7, 2, 2, 2]), array([ 2,  2,  2,  2,  2,  7,  2,  2,  2, 15]), array([ 2,  2,  2,  2,  7,  2,  2,  2, 15,  2]), array([ 2,  2,  2,  7,  2,  2,  2, 15,  2,  6]), array([ 2,  2,  7,  2,  2,  2, 15,  2,  6, 15]), array([ 2,  7,  2,  2,  2, 15,  2,  6, 15,  2]), array([ 7,  2,  2,  2, 15,  2,  6, 15,  2,  2]), array([ 2,  2,  2, 15,  2,  6, 15,  2,  2,  2]), array([ 2,  2, 15,  2,  6, 15,  2,  2,  2,  2]), array([ 2, 15,  2,  6, 15,  2,  2,  2,  2,  2]), array([15,  2,  6, 15,  2,  2,  2,  2,  2,  2]), array([ 2,  6, 15,  2,  2,  2,  2,  2,  2,  2]), array([ 6, 15,  2,  2,  2,  2,  2,  2,  2,  2]), array([15,  2,  2,  2,  2,  2,  2,  2,  2,  2]), array([2, 2, 2, 2, 2, 2, 2, 2, 2, 2]), array([2, 2, 2, 2, 2, 2, 2, 2, 2, 7]), array([2, 2, 2, 2, 2, 2, 2, 2, 7, 2]), array([2, 2, 2, 2, 2, 2, 2, 7, 2, 2]), array([2, 2, 2, 2, 2, 2, 7, 2, 2, 2]), array([2, 2, 2, 2, 2, 7, 2, 2, 2, 2]), array([2, 2, 2, 2, 7, 2, 2, 2, 2, 2]), array([2, 2, 2, 7, 2, 2, 2, 2, 2, 5]), array([ 2,  2,  7,  2,  2,  2,  2,  2,  5, 15]), array([ 2,  7,  2,  2,  2,  2,  2,  5, 15,  2]), array([ 7,  2,  2,  2,  2,  2,  5, 15,  2,  2]), array([ 2,  2,  2,  2,  2,  5, 15,  2,  2,  6]), array([ 2,  2,  2,  2,  5, 15,  2,  2,  6,  2]), array([ 2,  2,  2,  5, 15,  2,  2,  6,  2,  2]), array([ 2,  2,  5, 15,  2,  2,  6,  2,  2,  2]), array([ 2,  5, 15,  2,  2,  6,  2,  2,  2,  2]), array([ 5, 15,  2,  2,  6,  2,  2,  2,  2,  2]), array([15,  2,  2,  6,  2,  2,  2,  2,  2,  2]), array([2, 2, 6, 2, 2, 2, 2, 2, 2, 2]), array([2, 6, 2, 2, 2, 2, 2, 2, 2, 2]), array([6, 2, 2, 2, 2, 2, 2, 2, 2, 7]), array([2, 2, 2, 2, 2, 2, 2, 2, 7, 2]), array([2, 2, 2, 2, 2, 2, 2, 7, 2, 2]), array([2, 2, 2, 2, 2, 2, 7, 2, 2, 2]), array([2, 2, 2, 2, 2, 7, 2, 2, 2, 7]), array([2, 2, 2, 2, 7, 2, 2, 2, 7, 2]), array([2, 2, 2, 7, 2, 2, 2, 7, 2, 2]), array([2, 2, 7, 2, 2, 2, 7, 2, 2, 8]), array([2, 7, 2, 2, 2, 7, 2, 2, 8, 2]), array([7, 2, 2, 2, 7, 2, 2, 8, 2, 4]), array([2, 2, 2, 7, 2, 2, 8, 2, 4, 2]), array([2, 2, 7, 2, 2, 8, 2, 4, 2, 2]), array([2, 7, 2, 2, 8, 2, 4, 2, 2, 2]), array([7, 2, 2, 8, 2, 4, 2, 2, 2, 7]), array([2, 2, 8, 2, 4, 2, 2, 2, 7, 7]), array([2, 8, 2, 4, 2, 2, 2, 7, 7, 2]), array([8, 2, 4, 2, 2, 2, 7, 7, 2, 2]), array([2, 4, 2, 2, 2, 7, 7, 2, 2, 7]), array([4, 2, 2, 2, 7, 7, 2, 2, 7, 2]), array([2, 2, 2, 7, 7, 2, 2, 7, 2, 7]), array([2, 2, 7, 7, 2, 2, 7, 2, 7, 2]), array([2, 7, 7, 2, 2, 7, 2, 7, 2, 2]), array([7, 7, 2, 2, 7, 2, 7, 2, 2, 2]), array([7, 2, 2, 7, 2, 7, 2, 2, 2, 2]), array([2, 2, 7, 2, 7, 2, 2, 2, 2, 7]), array([2, 7, 2, 7, 2, 2, 2, 2, 7, 7]), array([7, 2, 7, 2, 2, 2, 2, 7, 7, 4]), array([2, 7, 2, 2, 2, 2, 7, 7, 4, 2]), array([7, 2, 2, 2, 2, 7, 7, 4, 2, 2]), array([2, 2, 2, 2, 7, 7, 4, 2, 2, 2]), array([2, 2, 2, 7, 7, 4, 2, 2, 2, 8]), array([2, 2, 7, 7, 4, 2, 2, 2, 8, 5]), array([2, 7, 7, 4, 2, 2, 2, 8, 5, 2]), array([7, 7, 4, 2, 2, 2, 8, 5, 2, 2]), array([7, 4, 2, 2, 2, 8, 5, 2, 2, 7]), array([4, 2, 2, 2, 8, 5, 2, 2, 7, 2]), array([2, 2, 2, 8, 5, 2, 2, 7, 2, 4]), array([2, 2, 8, 5, 2, 2, 7, 2, 4, 4]), array([2, 8, 5, 2, 2, 7, 2, 4, 4, 2]), array([8, 5, 2, 2, 7, 2, 4, 4, 2, 2]), array([5, 2, 2, 7, 2, 4, 4, 2, 2, 2]), array([2, 2, 7, 2, 4, 4, 2, 2, 2, 8]), array([2, 7, 2, 4, 4, 2, 2, 2, 8, 7]), array([7, 2, 4, 4, 2, 2, 2, 8, 7, 2]), array([2, 4, 4, 2, 2, 2, 8, 7, 2, 7]), array([4, 4, 2, 2, 2, 8, 7, 2, 7, 2]), array([4, 2, 2, 2, 8, 7, 2, 7, 2, 2]), array([2, 2, 2, 8, 7, 2, 7, 2, 2, 7]), array([2, 2, 8, 7, 2, 7, 2, 2, 7, 7]), array([2, 8, 7, 2, 7, 2, 2, 7, 7, 2]), array([8, 7, 2, 7, 2, 2, 7, 7, 2, 6]), array([7, 2, 7, 2, 2, 7, 7, 2, 6, 6]), array([2, 7, 2, 2, 7, 7, 2, 6, 6, 7]), array([7, 2, 2, 7, 7, 2, 6, 6, 7, 2]), array([2, 2, 7, 7, 2, 6, 6, 7, 2, 2]), array([2, 7, 7, 2, 6, 6, 7, 2, 2, 7]), array([7, 7, 2, 6, 6, 7, 2, 2, 7, 2]), array([7, 2, 6, 6, 7, 2, 2, 7, 2, 2]), array([2, 6, 6, 7, 2, 2, 7, 2, 2, 2]), array([6, 6, 7, 2, 2, 7, 2, 2, 2, 2]), array([6, 7, 2, 2, 7, 2, 2, 2, 2, 2]), array([7, 2, 2, 7, 2, 2, 2, 2, 2, 2]), array([2, 2, 7, 2, 2, 2, 2, 2, 2, 8]), array([2, 7, 2, 2, 2, 2, 2, 2, 8, 4]), array([7, 2, 2, 2, 2, 2, 2, 8, 4, 7]), array([2, 2, 2, 2, 2, 2, 8, 4, 7, 5]), array([2, 2, 2, 2, 2, 8, 4, 7, 5, 2]), array([2, 2, 2, 2, 8, 4, 7, 5, 2, 2]), array([2, 2, 2, 8, 4, 7, 5, 2, 2, 2]), array([2, 2, 8, 4, 7, 5, 2, 2, 2, 2]), array([2, 8, 4, 7, 5, 2, 2, 2, 2, 2]), array([8, 4, 7, 5, 2, 2, 2, 2, 2, 2]), array([4, 7, 5, 2, 2, 2, 2, 2, 2, 2]), array([7, 5, 2, 2, 2, 2, 2, 2, 2, 7]), array([5, 2, 2, 2, 2, 2, 2, 2, 7, 2]), array([2, 2, 2, 2, 2, 2, 2, 7, 2, 2]), array([2, 2, 2, 2, 2, 2, 7, 2, 2, 2]), array([2, 2, 2, 2, 2, 7, 2, 2, 2, 7]), array([2, 2, 2, 2, 7, 2, 2, 2, 7, 2]), array([2, 2, 2, 7, 2, 2, 2, 7, 2, 7]), array([2, 2, 7, 2, 2, 2, 7, 2, 7, 7]), array([ 2,  7,  2,  2,  2,  7,  2,  7,  7, 12]), array([ 7,  2,  2,  2,  7,  2,  7,  7, 12,  2]), array([ 2,  2,  2,  7,  2,  7,  7, 12,  2,  2]), array([ 2,  2,  7,  2,  7,  7, 12,  2,  2,  2]), array([ 2,  7,  2,  7,  7, 12,  2,  2,  2,  2]), array([ 7,  2,  7,  7, 12,  2,  2,  2,  2,  2]), array([ 2,  7,  7, 12,  2,  2,  2,  2,  2,  2]), array([ 7,  7, 12,  2,  2,  2,  2,  2,  2,  2]), array([ 7, 12,  2,  2,  2,  2,  2,  2,  2,  2]), array([12,  2,  2,  2,  2,  2,  2,  2,  2,  2]), array([2, 2, 2, 2, 2, 2, 2, 2, 2, 7]), array([2, 2, 2, 2, 2, 2, 2, 2, 7, 2]), array([2, 2, 2, 2, 2, 2, 2, 7, 2, 2]), array([2, 2, 2, 2, 2, 2, 7, 2, 2, 2]), array([2, 2, 2, 2, 2, 7, 2, 2, 2, 2]), array([2, 2, 2, 2, 7, 2, 2, 2, 2, 5]), array([ 2,  2,  2,  7,  2,  2,  2,  2,  5, 15]), array([ 2,  2,  7,  2,  2,  2,  2,  5, 15,  2]), array([ 2,  7,  2,  2,  2,  2,  5, 15,  2,  2]), array([ 7,  2,  2,  2,  2,  5, 15,  2,  2,  2]), array([ 2,  2,  2,  2,  5, 15,  2,  2,  2,  6]), array([ 2,  2,  2,  5, 15,  2,  2,  2,  6,  2]), array([ 2,  2,  5, 15,  2,  2,  2,  6,  2,  7]), array([ 2,  5, 15,  2,  2,  2,  6,  2,  7,  2]), array([ 5, 15,  2,  2,  2,  6,  2,  7,  2,  7]), array([15,  2,  2,  2,  6,  2,  7,  2,  7,  2]), array([2, 2, 2, 6, 2, 7, 2, 7, 2, 2]), array([2, 2, 6, 2, 7, 2, 7, 2, 2, 3]), array([2, 6, 2, 7, 2, 7, 2, 2, 3, 2]), array([6, 2, 7, 2, 7, 2, 2, 3, 2, 2]), array([ 2,  7,  2,  7,  2,  2,  3,  2,  2, 13]), array([ 7,  2,  7,  2,  2,  3,  2,  2, 13,  2]), array([ 2,  7,  2,  2,  3,  2,  2, 13,  2,  2]), array([ 7,  2,  2,  3,  2,  2, 13,  2,  2,  2]), array([ 2,  2,  3,  2,  2, 13,  2,  2,  2,  2]), array([ 2,  3,  2,  2, 13,  2,  2,  2,  2,  2]), array([ 3,  2,  2, 13,  2,  2,  2,  2,  2,  2]), array([ 2,  2, 13,  2,  2,  2,  2,  2,  2,  7]), array([ 2, 13,  2,  2,  2,  2,  2,  2,  7,  6]), array([13,  2,  2,  2,  2,  2,  2,  7,  6,  7]), array([2, 2, 2, 2, 2, 2, 7, 6, 7, 7]), array([2, 2, 2, 2, 2, 7, 6, 7, 7, 2]), array([2, 2, 2, 2, 7, 6, 7, 7, 2, 2]), array([2, 2, 2, 7, 6, 7, 7, 2, 2, 2]), array([2, 2, 7, 6, 7, 7, 2, 2, 2, 2]), array([2, 7, 6, 7, 7, 2, 2, 2, 2, 2]), array([7, 6, 7, 7, 2, 2, 2, 2, 2, 2]), array([6, 7, 7, 2, 2, 2, 2, 2, 2, 2]), array([7, 7, 2, 2, 2, 2, 2, 2, 2, 2]), array([7, 2, 2, 2, 2, 2, 2, 2, 2, 2]), array([2, 2, 2, 2, 2, 2, 2, 2, 2, 2]), array([2, 2, 2, 2, 2, 2, 2, 2, 2, 7]), array([2, 2, 2, 2, 2, 2, 2, 2, 7, 2]), array([2, 2, 2, 2, 2, 2, 2, 7, 2, 7]), array([2, 2, 2, 2, 2, 2, 7, 2, 7, 2]), array([2, 2, 2, 2, 2, 7, 2, 7, 2, 2]), array([2, 2, 2, 2, 7, 2, 7, 2, 2, 2]), array([2, 2, 2, 7, 2, 7, 2, 2, 2, 7]), array([2, 2, 7, 2, 7, 2, 2, 2, 7, 2]), array([2, 7, 2, 7, 2, 2, 2, 7, 2, 3]), array([7, 2, 7, 2, 2, 2, 7, 2, 3, 2]), array([2, 7, 2, 2, 2, 7, 2, 3, 2, 2]), array([7, 2, 2, 2, 7, 2, 3, 2, 2, 2]), array([2, 2, 2, 7, 2, 3, 2, 2, 2, 5]), array([2, 2, 7, 2, 3, 2, 2, 2, 5, 2]), array([2, 7, 2, 3, 2, 2, 2, 5, 2, 4]), array([7, 2, 3, 2, 2, 2, 5, 2, 4, 8]), array([2, 3, 2, 2, 2, 5, 2, 4, 8, 3]), array([3, 2, 2, 2, 5, 2, 4, 8, 3, 2]), array([2, 2, 2, 5, 2, 4, 8, 3, 2, 2]), array([2, 2, 5, 2, 4, 8, 3, 2, 2, 2]), array([2, 5, 2, 4, 8, 3, 2, 2, 2, 2]), array([5, 2, 4, 8, 3, 2, 2, 2, 2, 2]), array([2, 4, 8, 3, 2, 2, 2, 2, 2, 2]), array([4, 8, 3, 2, 2, 2, 2, 2, 2, 2]), array([8, 3, 2, 2, 2, 2, 2, 2, 2, 2]), array([3, 2, 2, 2, 2, 2, 2, 2, 2, 4]), array([2, 2, 2, 2, 2, 2, 2, 2, 4, 7]), array([2, 2, 2, 2, 2, 2, 2, 4, 7, 2]), array([2, 2, 2, 2, 2, 2, 4, 7, 2, 6]), array([2, 2, 2, 2, 2, 4, 7, 2, 6, 7]), array([2, 2, 2, 2, 4, 7, 2, 6, 7, 2]), array([2, 2, 2, 4, 7, 2, 6, 7, 2, 2]), array([2, 2, 4, 7, 2, 6, 7, 2, 2, 2]), array([2, 4, 7, 2, 6, 7, 2, 2, 2, 7]), array([4, 7, 2, 6, 7, 2, 2, 2, 7, 7]), array([7, 2, 6, 7, 2, 2, 2, 7, 7, 4]), array([2, 6, 7, 2, 2, 2, 7, 7, 4, 2]), array([6, 7, 2, 2, 2, 7, 7, 4, 2, 5]), array([ 7,  2,  2,  2,  7,  7,  4,  2,  5, 15]), array([ 2,  2,  2,  7,  7,  4,  2,  5, 15,  2]), array([ 2,  2,  7,  7,  4,  2,  5, 15,  2,  2]), array([ 2,  7,  7,  4,  2,  5, 15,  2,  2,  6]), array([ 7,  7,  4,  2,  5, 15,  2,  2,  6,  6]), array([ 7,  4,  2,  5, 15,  2,  2,  6,  6,  6]), array([ 4,  2,  5, 15,  2,  2,  6,  6,  6,  2]), array([ 2,  5, 15,  2,  2,  6,  6,  6,  2,  4]), array([ 5, 15,  2,  2,  6,  6,  6,  2,  4,  2]), array([15,  2,  2,  6,  6,  6,  2,  4,  2,  7]), array([2, 2, 6, 6, 6, 2, 4, 2, 7, 2]), array([2, 6, 6, 6, 2, 4, 2, 7, 2, 7]), array([6, 6, 6, 2, 4, 2, 7, 2, 7, 7]), array([6, 6, 2, 4, 2, 7, 2, 7, 7, 2]), array([ 6,  2,  4,  2,  7,  2,  7,  7,  2, 15]), array([ 2,  4,  2,  7,  2,  7,  7,  2, 15,  7]), array([ 4,  2,  7,  2,  7,  7,  2, 15,  7,  7]), array([ 2,  7,  2,  7,  7,  2, 15,  7,  7, 15]), array([ 7,  2,  7,  7,  2, 15,  7,  7, 15,  4]), array([ 2,  7,  7,  2, 15,  7,  7, 15,  4,  7]), array([ 7,  7,  2, 15,  7,  7, 15,  4,  7,  2]), array([ 7,  2, 15,  7,  7, 15,  4,  7,  2,  7]), array([ 2, 15,  7,  7, 15,  4,  7,  2,  7,  8]), array([15,  7,  7, 15,  4,  7,  2,  7,  8,  2]), array([ 7,  7, 15,  4,  7,  2,  7,  8,  2,  2]), array([ 7, 15,  4,  7,  2,  7,  8,  2,  2,  2]), array([15,  4,  7,  2,  7,  8,  2,  2,  2,  7]), array([4, 7, 2, 7, 8, 2, 2, 2, 7, 2]), array([7, 2, 7, 8, 2, 2, 2, 7, 2, 2]), array([2, 7, 8, 2, 2, 2, 7, 2, 2, 8]), array([7, 8, 2, 2, 2, 7, 2, 2, 8, 7]), array([8, 2, 2, 2, 7, 2, 2, 8, 7, 2]), array([2, 2, 2, 7, 2, 2, 8, 7, 2, 2]), array([2, 2, 7, 2, 2, 8, 7, 2, 2, 7]), array([2, 7, 2, 2, 8, 7, 2, 2, 7, 7]), array([7, 2, 2, 8, 7, 2, 2, 7, 7, 2]), array([2, 2, 8, 7, 2, 2, 7, 7, 2, 6]), array([2, 8, 7, 2, 2, 7, 7, 2, 6, 5]), array([8, 7, 2, 2, 7, 7, 2, 6, 5, 2]), array([7, 2, 2, 7, 7, 2, 6, 5, 2, 2]), array([2, 2, 7, 7, 2, 6, 5, 2, 2, 2]), array([2, 7, 7, 2, 6, 5, 2, 2, 2, 2]), array([7, 7, 2, 6, 5, 2, 2, 2, 2, 2]), array([7, 2, 6, 5, 2, 2, 2, 2, 2, 2]), array([2, 6, 5, 2, 2, 2, 2, 2, 2, 7]), array([6, 5, 2, 2, 2, 2, 2, 2, 7, 2]), array([5, 2, 2, 2, 2, 2, 2, 7, 2, 7]), array([2, 2, 2, 2, 2, 2, 7, 2, 7, 2]), array([2, 2, 2, 2, 2, 7, 2, 7, 2, 7]), array([2, 2, 2, 2, 7, 2, 7, 2, 7, 6]), array([2, 2, 2, 7, 2, 7, 2, 7, 6, 2]), array([2, 2, 7, 2, 7, 2, 7, 6, 2, 2]), array([2, 7, 2, 7, 2, 7, 6, 2, 2, 2]), array([7, 2, 7, 2, 7, 6, 2, 2, 2, 7]), array([2, 7, 2, 7, 6, 2, 2, 2, 7, 2]), array([7, 2, 7, 6, 2, 2, 2, 7, 2, 2]), array([2, 7, 6, 2, 2, 2, 7, 2, 2, 2]), array([7, 6, 2, 2, 2, 7, 2, 2, 2, 2]), array([6, 2, 2, 2, 7, 2, 2, 2, 2, 2]), array([2, 2, 2, 7, 2, 2, 2, 2, 2, 2]), array([2, 2, 7, 2, 2, 2, 2, 2, 2, 5]), array([2, 7, 2, 2, 2, 2, 2, 2, 5, 7]), array([7, 2, 2, 2, 2, 2, 2, 5, 7, 2]), array([2, 2, 2, 2, 2, 2, 5, 7, 2, 2]), array([2, 2, 2, 2, 2, 5, 7, 2, 2, 2]), array([2, 2, 2, 2, 5, 7, 2, 2, 2, 4]), array([2, 2, 2, 5, 7, 2, 2, 2, 4, 2]), array([2, 2, 5, 7, 2, 2, 2, 4, 2, 2]), array([2, 5, 7, 2, 2, 2, 4, 2, 2, 7]), array([5, 7, 2, 2, 2, 4, 2, 2, 7, 3]), array([7, 2, 2, 2, 4, 2, 2, 7, 3, 6]), array([2, 2, 2, 4, 2, 2, 7, 3, 6, 7]), array([2, 2, 4, 2, 2, 7, 3, 6, 7, 5]), array([2, 4, 2, 2, 7, 3, 6, 7, 5, 2]), array([4, 2, 2, 7, 3, 6, 7, 5, 2, 2]), array([2, 2, 7, 3, 6, 7, 5, 2, 2, 2]), array([2, 7, 3, 6, 7, 5, 2, 2, 2, 2]), array([7, 3, 6, 7, 5, 2, 2, 2, 2, 8]), array([3, 6, 7, 5, 2, 2, 2, 2, 8, 2]), array([6, 7, 5, 2, 2, 2, 2, 8, 2, 8]), array([7, 5, 2, 2, 2, 2, 8, 2, 8, 2]), array([5, 2, 2, 2, 2, 8, 2, 8, 2, 2]), array([2, 2, 2, 2, 8, 2, 8, 2, 2, 2]), array([2, 2, 2, 8, 2, 8, 2, 2, 2, 2]), array([2, 2, 8, 2, 8, 2, 2, 2, 2, 2]), array([2, 8, 2, 8, 2, 2, 2, 2, 2, 7]), array([8, 2, 8, 2, 2, 2, 2, 2, 7, 2]), array([2, 8, 2, 2, 2, 2, 2, 7, 2, 2]), array([8, 2, 2, 2, 2, 2, 7, 2, 2, 2]), array([2, 2, 2, 2, 2, 7, 2, 2, 2, 4]), array([2, 2, 2, 2, 7, 2, 2, 2, 4, 2]), array([2, 2, 2, 7, 2, 2, 2, 4, 2, 2]), array([2, 2, 7, 2, 2, 2, 4, 2, 2, 7]), array([2, 7, 2, 2, 2, 4, 2, 2, 7, 2]), array([7, 2, 2, 2, 4, 2, 2, 7, 2, 7]), array([2, 2, 2, 4, 2, 2, 7, 2, 7, 7]), array([2, 2, 4, 2, 2, 7, 2, 7, 7, 2]), array([2, 4, 2, 2, 7, 2, 7, 7, 2, 7]), array([4, 2, 2, 7, 2, 7, 7, 2, 7, 7]), array([2, 2, 7, 2, 7, 7, 2, 7, 7, 2]), array([2, 7, 2, 7, 7, 2, 7, 7, 2, 2]), array([7, 2, 7, 7, 2, 7, 7, 2, 2, 2]), array([ 2,  7,  7,  2,  7,  7,  2,  2,  2, 15]), array([ 7,  7,  2,  7,  7,  2,  2,  2, 15,  2]), array([ 7,  2,  7,  7,  2,  2,  2, 15,  2,  7]), array([ 2,  7,  7,  2,  2,  2, 15,  2,  7,  2]), array([ 7,  7,  2,  2,  2, 15,  2,  7,  2,  7]), array([ 7,  2,  2,  2, 15,  2,  7,  2,  7,  2]), array([ 2,  2,  2, 15,  2,  7,  2,  7,  2,  3]), array([ 2,  2, 15,  2,  7,  2,  7,  2,  3,  2]), array([ 2, 15,  2,  7,  2,  7,  2,  3,  2,  2]), array([15,  2,  7,  2,  7,  2,  3,  2,  2,  7]), array([2, 7, 2, 7, 2, 3, 2, 2, 7, 2]), array([ 7,  2,  7,  2,  3,  2,  2,  7,  2, 15]), array([ 2,  7,  2,  3,  2,  2,  7,  2, 15,  6]), array([ 7,  2,  3,  2,  2,  7,  2, 15,  6,  2]), array([ 2,  3,  2,  2,  7,  2, 15,  6,  2, 13]), array([ 3,  2,  2,  7,  2, 15,  6,  2, 13,  2]), array([ 2,  2,  7,  2, 15,  6,  2, 13,  2,  7]), array([ 2,  7,  2, 15,  6,  2, 13,  2,  7,  2]), array([ 7,  2, 15,  6,  2, 13,  2,  7,  2,  7]), array([ 2, 15,  6,  2, 13,  2,  7,  2,  7,  7]), array([15,  6,  2, 13,  2,  7,  2,  7,  7,  7]), array([ 6,  2, 13,  2,  7,  2,  7,  7,  7,  2]), array([ 2, 13,  2,  7,  2,  7,  7,  7,  2,  2]), array([13,  2,  7,  2,  7,  7,  7,  2,  2,  2]), array([2, 7, 2, 7, 7, 7, 2, 2, 2, 7]), array([7, 2, 7, 7, 7, 2, 2, 2, 7, 8]), array([2, 7, 7, 7, 2, 2, 2, 7, 8, 2]), array([7, 7, 7, 2, 2, 2, 7, 8, 2, 2]), array([7, 7, 2, 2, 2, 7, 8, 2, 2, 2]), array([7, 2, 2, 2, 7, 8, 2, 2, 2, 2]), array([2, 2, 2, 7, 8, 2, 2, 2, 2, 7]), array([2, 2, 7, 8, 2, 2, 2, 2, 7, 8]), array([2, 7, 8, 2, 2, 2, 2, 7, 8, 2]), array([7, 8, 2, 2, 2, 2, 7, 8, 2, 2]), array([8, 2, 2, 2, 2, 7, 8, 2, 2, 4]), array([2, 2, 2, 2, 7, 8, 2, 2, 4, 6]), array([2, 2, 2, 7, 8, 2, 2, 4, 6, 2]), array([2, 2, 7, 8, 2, 2, 4, 6, 2, 7]), array([2, 7, 8, 2, 2, 4, 6, 2, 7, 2]), array([7, 8, 2, 2, 4, 6, 2, 7, 2, 7]), array([8, 2, 2, 4, 6, 2, 7, 2, 7, 2]), array([2, 2, 4, 6, 2, 7, 2, 7, 2, 7]), array([2, 4, 6, 2, 7, 2, 7, 2, 7, 5]), array([4, 6, 2, 7, 2, 7, 2, 7, 5, 7]), array([6, 2, 7, 2, 7, 2, 7, 5, 7, 7]), array([2, 7, 2, 7, 2, 7, 5, 7, 7, 7]), array([7, 2, 7, 2, 7, 5, 7, 7, 7, 2]), array([2, 7, 2, 7, 5, 7, 7, 7, 2, 7]), array([7, 2, 7, 5, 7, 7, 7, 2, 7, 2]), array([2, 7, 5, 7, 7, 7, 2, 7, 2, 2]), array([7, 5, 7, 7, 7, 2, 7, 2, 2, 7]), array([5, 7, 7, 7, 2, 7, 2, 2, 7, 5]), array([7, 7, 7, 2, 7, 2, 2, 7, 5, 2]), array([7, 7, 2, 7, 2, 2, 7, 5, 2, 2]), array([7, 2, 7, 2, 2, 7, 5, 2, 2, 2]), array([2, 7, 2, 2, 7, 5, 2, 2, 2, 2]), array([7, 2, 2, 7, 5, 2, 2, 2, 2, 8]), array([2, 2, 7, 5, 2, 2, 2, 2, 8, 2]), array([2, 7, 5, 2, 2, 2, 2, 8, 2, 6]), array([7, 5, 2, 2, 2, 2, 8, 2, 6, 7]), array([5, 2, 2, 2, 2, 8, 2, 6, 7, 2]), array([2, 2, 2, 2, 8, 2, 6, 7, 2, 2]), array([2, 2, 2, 8, 2, 6, 7, 2, 2, 2]), array([2, 2, 8, 2, 6, 7, 2, 2, 2, 8]), array([2, 8, 2, 6, 7, 2, 2, 2, 8, 2]), array([8, 2, 6, 7, 2, 2, 2, 8, 2, 7]), array([2, 6, 7, 2, 2, 2, 8, 2, 7, 2]), array([6, 7, 2, 2, 2, 8, 2, 7, 2, 2]), array([7, 2, 2, 2, 8, 2, 7, 2, 2, 2]), array([ 2,  2,  2,  8,  2,  7,  2,  2,  2, 15]), array([ 2,  2,  8,  2,  7,  2,  2,  2, 15,  7]), array([ 2,  8,  2,  7,  2,  2,  2, 15,  7,  2]), array([ 8,  2,  7,  2,  2,  2, 15,  7,  2,  6]), array([ 2,  7,  2,  2,  2, 15,  7,  2,  6,  7]), array([ 7,  2,  2,  2, 15,  7,  2,  6,  7,  6]), array([ 2,  2,  2, 15,  7,  2,  6,  7,  6,  2]), array([ 2,  2, 15,  7,  2,  6,  7,  6,  2,  3]), array([ 2, 15,  7,  2,  6,  7,  6,  2,  3,  4]), array([15,  7,  2,  6,  7,  6,  2,  3,  4,  2]), array([7, 2, 6, 7, 6, 2, 3, 4, 2, 6]), array([2, 6, 7, 6, 2, 3, 4, 2, 6, 2]), array([6, 7, 6, 2, 3, 4, 2, 6, 2, 2]), array([ 7,  6,  2,  3,  4,  2,  6,  2,  2, 15]), array([ 6,  2,  3,  4,  2,  6,  2,  2, 15,  2]), array([ 2,  3,  4,  2,  6,  2,  2, 15,  2,  2]), array([ 3,  4,  2,  6,  2,  2, 15,  2,  2,  2]), array([ 4,  2,  6,  2,  2, 15,  2,  2,  2,  4]), array([ 2,  6,  2,  2, 15,  2,  2,  2,  4,  2]), array([ 6,  2,  2, 15,  2,  2,  2,  4,  2,  2]), array([ 2,  2, 15,  2,  2,  2,  4,  2,  2,  2]), array([ 2, 15,  2,  2,  2,  4,  2,  2,  2,  7]), array([15,  2,  2,  2,  4,  2,  2,  2,  7,  2]), array([2, 2, 2, 4, 2, 2, 2, 7, 2, 7]), array([2, 2, 4, 2, 2, 2, 7, 2, 7, 7]), array([2, 4, 2, 2, 2, 7, 2, 7, 7, 7]), array([4, 2, 2, 2, 7, 2, 7, 7, 7, 2]), array([ 2,  2,  2,  7,  2,  7,  7,  7,  2, 14]), array([ 2,  2,  7,  2,  7,  7,  7,  2, 14,  7]), array([ 2,  7,  2,  7,  7,  7,  2, 14,  7,  7]), array([ 7,  2,  7,  7,  7,  2, 14,  7,  7,  7]), array([ 2,  7,  7,  7,  2, 14,  7,  7,  7,  7]), array([ 7,  7,  7,  2, 14,  7,  7,  7,  7, 11]), array([ 7,  7,  2, 14,  7,  7,  7,  7, 11,  2]), array([ 7,  2, 14,  7,  7,  7,  7, 11,  2,  2]), array([ 2, 14,  7,  7,  7,  7, 11,  2,  2,  7]), array([14,  7,  7,  7,  7, 11,  2,  2,  7,  4]), array([ 7,  7,  7,  7, 11,  2,  2,  7,  4,  4]), array([ 7,  7,  7, 11,  2,  2,  7,  4,  4,  7]), array([ 7,  7, 11,  2,  2,  7,  4,  4,  7,  2]), array([ 7, 11,  2,  2,  7,  4,  4,  7,  2,  7]), array([11,  2,  2,  7,  4,  4,  7,  2,  7,  2]), array([2, 2, 7, 4, 4, 7, 2, 7, 2, 3]), array([2, 7, 4, 4, 7, 2, 7, 2, 3, 5]), array([7, 4, 4, 7, 2, 7, 2, 3, 5, 2]), array([4, 4, 7, 2, 7, 2, 3, 5, 2, 2]), array([4, 7, 2, 7, 2, 3, 5, 2, 2, 2]), array([7, 2, 7, 2, 3, 5, 2, 2, 2, 7]), array([2, 7, 2, 3, 5, 2, 2, 2, 7, 2]), array([7, 2, 3, 5, 2, 2, 2, 7, 2, 7]), array([2, 3, 5, 2, 2, 2, 7, 2, 7, 6]), array([3, 5, 2, 2, 2, 7, 2, 7, 6, 7]), array([5, 2, 2, 2, 7, 2, 7, 6, 7, 2]), array([2, 2, 2, 7, 2, 7, 6, 7, 2, 2]), array([ 2,  2,  7,  2,  7,  6,  7,  2,  2, 15]), array([ 2,  7,  2,  7,  6,  7,  2,  2, 15,  4]), array([ 7,  2,  7,  6,  7,  2,  2, 15,  4,  2]), array([ 2,  7,  6,  7,  2,  2, 15,  4,  2,  2]), array([ 7,  6,  7,  2,  2, 15,  4,  2,  2,  2]), array([ 6,  7,  2,  2, 15,  4,  2,  2,  2,  7]), array([ 7,  2,  2, 15,  4,  2,  2,  2,  7,  4]), array([ 2,  2, 15,  4,  2,  2,  2,  7,  4,  2]), array([ 2, 15,  4,  2,  2,  2,  7,  4,  2,  2]), array([15,  4,  2,  2,  2,  7,  4,  2,  2,  2]), array([4, 2, 2, 2, 7, 4, 2, 2, 2, 5]), array([2, 2, 2, 7, 4, 2, 2, 2, 5, 3]), array([2, 2, 7, 4, 2, 2, 2, 5, 3, 7]), array([2, 7, 4, 2, 2, 2, 5, 3, 7, 2]), array([7, 4, 2, 2, 2, 5, 3, 7, 2, 2]), array([4, 2, 2, 2, 5, 3, 7, 2, 2, 2]), array([2, 2, 2, 5, 3, 7, 2, 2, 2, 2]), array([2, 2, 5, 3, 7, 2, 2, 2, 2, 7]), array([2, 5, 3, 7, 2, 2, 2, 2, 7, 6]), array([5, 3, 7, 2, 2, 2, 2, 7, 6, 2]), array([3, 7, 2, 2, 2, 2, 7, 6, 2, 2]), array([7, 2, 2, 2, 2, 7, 6, 2, 2, 7]), array([2, 2, 2, 2, 7, 6, 2, 2, 7, 2]), array([2, 2, 2, 7, 6, 2, 2, 7, 2, 2]), array([2, 2, 7, 6, 2, 2, 7, 2, 2, 7]), array([2, 7, 6, 2, 2, 7, 2, 2, 7, 7]), array([7, 6, 2, 2, 7, 2, 2, 7, 7, 2]), array([6, 2, 2, 7, 2, 2, 7, 7, 2, 2]), array([2, 2, 7, 2, 2, 7, 7, 2, 2, 2]), array([2, 7, 2, 2, 7, 7, 2, 2, 2, 2]), array([7, 2, 2, 7, 7, 2, 2, 2, 2, 8]), array([2, 2, 7, 7, 2, 2, 2, 2, 8, 2]), array([2, 7, 7, 2, 2, 2, 2, 8, 2, 7]), array([7, 7, 2, 2, 2, 2, 8, 2, 7, 2]), array([7, 2, 2, 2, 2, 8, 2, 7, 2, 2]), array([2, 2, 2, 2, 8, 2, 7, 2, 2, 2]), array([2, 2, 2, 8, 2, 7, 2, 2, 2, 2]), array([2, 2, 8, 2, 7, 2, 2, 2, 2, 2]), array([2, 8, 2, 7, 2, 2, 2, 2, 2, 2]), array([8, 2, 7, 2, 2, 2, 2, 2, 2, 2]), array([2, 7, 2, 2, 2, 2, 2, 2, 2, 7]), array([7, 2, 2, 2, 2, 2, 2, 2, 7, 7]), array([2, 2, 2, 2, 2, 2, 2, 7, 7, 4]), array([2, 2, 2, 2, 2, 2, 7, 7, 4, 2]), array([2, 2, 2, 2, 2, 7, 7, 4, 2, 7]), array([2, 2, 2, 2, 7, 7, 4, 2, 7, 7]), array([2, 2, 2, 7, 7, 4, 2, 7, 7, 2]), array([ 2,  2,  7,  7,  4,  2,  7,  7,  2, 15]), array([ 2,  7,  7,  4,  2,  7,  7,  2, 15,  2]), array([ 7,  7,  4,  2,  7,  7,  2, 15,  2,  2]), array([ 7,  4,  2,  7,  7,  2, 15,  2,  2,  2]), array([ 4,  2,  7,  7,  2, 15,  2,  2,  2,  2]), array([ 2,  7,  7,  2, 15,  2,  2,  2,  2,  2]), array([ 7,  7,  2, 15,  2,  2,  2,  2,  2, 15]), array([ 7,  2, 15,  2,  2,  2,  2,  2, 15,  7]), array([ 2, 15,  2,  2,  2,  2,  2, 15,  7,  2]), array([15,  2,  2,  2,  2,  2, 15,  7,  2,  7]), array([ 2,  2,  2,  2,  2, 15,  7,  2,  7,  7]), array([ 2,  2,  2,  2, 15,  7,  2,  7,  7,  2]), array([ 2,  2,  2, 15,  7,  2,  7,  7,  2,  3]), array([ 2,  2, 15,  7,  2,  7,  7,  2,  3,  2]), array([ 2, 15,  7,  2,  7,  7,  2,  3,  2,  2]), array([15,  7,  2,  7,  7,  2,  3,  2,  2,  2]), array([7, 2, 7, 7, 2, 3, 2, 2, 2, 7]), array([2, 7, 7, 2, 3, 2, 2, 2, 7, 7]), array([7, 7, 2, 3, 2, 2, 2, 7, 7, 8]), array([7, 2, 3, 2, 2, 2, 7, 7, 8, 2]), array([2, 3, 2, 2, 2, 7, 7, 8, 2, 2]), array([3, 2, 2, 2, 7, 7, 8, 2, 2, 7]), array([2, 2, 2, 7, 7, 8, 2, 2, 7, 7]), array([2, 2, 7, 7, 8, 2, 2, 7, 7, 2]), array([2, 7, 7, 8, 2, 2, 7, 7, 2, 2]), array([7, 7, 8, 2, 2, 7, 7, 2, 2, 4]), array([7, 8, 2, 2, 7, 7, 2, 2, 4, 2]), array([8, 2, 2, 7, 7, 2, 2, 4, 2, 6]), array([2, 2, 7, 7, 2, 2, 4, 2, 6, 7]), array([2, 7, 7, 2, 2, 4, 2, 6, 7, 7]), array([7, 7, 2, 2, 4, 2, 6, 7, 7, 3]), array([7, 2, 2, 4, 2, 6, 7, 7, 3, 3]), array([2, 2, 4, 2, 6, 7, 7, 3, 3, 2]), array([2, 4, 2, 6, 7, 7, 3, 3, 2, 2]), array([4, 2, 6, 7, 7, 3, 3, 2, 2, 8]), array([2, 6, 7, 7, 3, 3, 2, 2, 8, 2]), array([6, 7, 7, 3, 3, 2, 2, 8, 2, 2]), array([7, 7, 3, 3, 2, 2, 8, 2, 2, 3]), array([7, 3, 3, 2, 2, 8, 2, 2, 3, 7]), array([3, 3, 2, 2, 8, 2, 2, 3, 7, 7]), array([3, 2, 2, 8, 2, 2, 3, 7, 7, 2]), array([2, 2, 8, 2, 2, 3, 7, 7, 2, 7]), array([2, 8, 2, 2, 3, 7, 7, 2, 7, 2]), array([8, 2, 2, 3, 7, 7, 2, 7, 2, 2]), array([2, 2, 3, 7, 7, 2, 7, 2, 2, 2]), array([2, 3, 7, 7, 2, 7, 2, 2, 2, 2]), array([3, 7, 7, 2, 7, 2, 2, 2, 2, 2]), array([7, 7, 2, 7, 2, 2, 2, 2, 2, 2]), array([7, 2, 7, 2, 2, 2, 2, 2, 2, 2]), array([2, 7, 2, 2, 2, 2, 2, 2, 2, 7]), array([7, 2, 2, 2, 2, 2, 2, 2, 7, 2]), array([2, 2, 2, 2, 2, 2, 2, 7, 2, 7]), array([2, 2, 2, 2, 2, 2, 7, 2, 7, 7]), array([2, 2, 2, 2, 2, 7, 2, 7, 7, 2]), array([2, 2, 2, 2, 7, 2, 7, 7, 2, 7]), array([2, 2, 2, 7, 2, 7, 7, 2, 7, 7]), array([2, 2, 7, 2, 7, 7, 2, 7, 7, 2]), array([2, 7, 2, 7, 7, 2, 7, 7, 2, 2]), array([7, 2, 7, 7, 2, 7, 7, 2, 2, 2]), array([2, 7, 7, 2, 7, 7, 2, 2, 2, 7]), array([7, 7, 2, 7, 7, 2, 2, 2, 7, 7]), array([7, 2, 7, 7, 2, 2, 2, 7, 7, 2]), array([2, 7, 7, 2, 2, 2, 7, 7, 2, 2]), array([7, 7, 2, 2, 2, 7, 7, 2, 2, 2]), array([7, 2, 2, 2, 7, 7, 2, 2, 2, 7]), array([2, 2, 2, 7, 7, 2, 2, 2, 7, 2]), array([2, 2, 7, 7, 2, 2, 2, 7, 2, 2]), array([2, 7, 7, 2, 2, 2, 7, 2, 2, 8]), array([7, 7, 2, 2, 2, 7, 2, 2, 8, 3]), array([7, 2, 2, 2, 7, 2, 2, 8, 3, 3]), array([2, 2, 2, 7, 2, 2, 8, 3, 3, 7]), array([2, 2, 7, 2, 2, 8, 3, 3, 7, 2]), array([2, 7, 2, 2, 8, 3, 3, 7, 2, 2]), array([7, 2, 2, 8, 3, 3, 7, 2, 2, 7]), array([2, 2, 8, 3, 3, 7, 2, 2, 7, 2]), array([2, 8, 3, 3, 7, 2, 2, 7, 2, 2]), array([8, 3, 3, 7, 2, 2, 7, 2, 2, 2]), array([3, 3, 7, 2, 2, 7, 2, 2, 2, 7]), array([3, 7, 2, 2, 7, 2, 2, 2, 7, 2]), array([7, 2, 2, 7, 2, 2, 2, 7, 2, 2]), array([2, 2, 7, 2, 2, 2, 7, 2, 2, 5]), array([2, 7, 2, 2, 2, 7, 2, 2, 5, 2]), array([ 7,  2,  2,  2,  7,  2,  2,  5,  2, 15])]\n",
            "16\n"
          ],
          "name": "stdout"
        }
      ]
    },
    {
      "cell_type": "code",
      "metadata": {
        "id": "gISRB-JJRHz5",
        "colab_type": "code",
        "colab": {
          "base_uri": "https://localhost:8080/",
          "height": 34
        },
        "outputId": "67015ba3-45f1-4924-a600-7a7b5b4140a9"
      },
      "source": [
        "\n",
        "# Import keras utils\n",
        "from tensorflow.keras.utils import to_categorical\n",
        "\n",
        "# Create input and one-hot\n",
        "X = np.array([row[:time_steps] for row in history])\n",
        "X = to_categorical(X)\n",
        "X.shape"
      ],
      "execution_count": null,
      "outputs": [
        {
          "output_type": "execute_result",
          "data": {
            "text/plain": [
              "(2990, 9, 17)"
            ]
          },
          "metadata": {
            "tags": []
          },
          "execution_count": 358
        }
      ]
    },
    {
      "cell_type": "code",
      "metadata": {
        "id": "M1aKi_7wZXB7",
        "colab_type": "code",
        "colab": {
          "base_uri": "https://localhost:8080/",
          "height": 67
        },
        "outputId": "df607e3e-e0cb-44ab-adcb-f491805462b6"
      },
      "source": [
        "# Create target and one-hot\n",
        "y = np.array([row[time_steps] for row in history])\n",
        "print(y.shape)\n",
        "y = to_categorical(y)\n",
        "print(y.shape)\n",
        "y = y.reshape(-1, categories + 1)\n",
        "\n",
        "y.shape"
      ],
      "execution_count": null,
      "outputs": [
        {
          "output_type": "stream",
          "text": [
            "(2990,)\n",
            "(2990, 17)\n"
          ],
          "name": "stdout"
        },
        {
          "output_type": "execute_result",
          "data": {
            "text/plain": [
              "(2990, 17)"
            ]
          },
          "metadata": {
            "tags": []
          },
          "execution_count": 359
        }
      ]
    },
    {
      "cell_type": "code",
      "metadata": {
        "id": "ATjnZs0PR3OH",
        "colab_type": "code",
        "colab": {
          "base_uri": "https://localhost:8080/",
          "height": 34
        },
        "outputId": "88d0b6cf-7052-4520-92a8-53a9b389dd17"
      },
      "source": [
        "# Import split function\n",
        "from sklearn.model_selection import train_test_split\n",
        "\n",
        "# Split the dataset with a 30% test size\n",
        "X_train, X_test, y_train, y_test = train_test_split(X, y, test_size=0.3)\n",
        "\n",
        "X_train.shape, y_train.shape"
      ],
      "execution_count": null,
      "outputs": [
        {
          "output_type": "execute_result",
          "data": {
            "text/plain": [
              "((2093, 9, 17), (2093, 17))"
            ]
          },
          "metadata": {
            "tags": []
          },
          "execution_count": 360
        }
      ]
    },
    {
      "cell_type": "code",
      "metadata": {
        "id": "hwcXzMlEeQaF",
        "colab_type": "code",
        "colab": {
          "base_uri": "https://localhost:8080/",
          "height": 374
        },
        "outputId": "9c030f27-1ac2-42f5-cde5-670b862225fc"
      },
      "source": [
        "# Import tensorflow libs\n",
        "from tensorflow.keras.models import Sequential\n",
        "from tensorflow.keras.layers import LSTM, Dense\n",
        "import tensorflow\n",
        "# Create a model instance\n",
        "model = Sequential()\n",
        "\n",
        "# Add the layers\n",
        "model.add(LSTM(10, activation='relu', return_sequences=True, input_shape=(time_steps, categories+1)))\n",
        "model.add(LSTM(30, activation='relu'))\n",
        "model.add(Dense(categories+1, activation='softmax'))\n",
        "\n",
        "# Build the graph\n",
        "model.compile('adam', loss='categorical_crossentropy', metrics=['accuracy'])\n",
        "\n",
        "# Train the model\n",
        "model.fit(X_train,y_train, epochs=10)\n"
      ],
      "execution_count": 370,
      "outputs": [
        {
          "output_type": "stream",
          "text": [
            "Epoch 1/10\n",
            "66/66 [==============================] - 1s 8ms/step - loss: 2.7061 - accuracy: 0.4802\n",
            "Epoch 2/10\n",
            "66/66 [==============================] - 1s 8ms/step - loss: 1.5235 - accuracy: 0.5934\n",
            "Epoch 3/10\n",
            "66/66 [==============================] - 1s 8ms/step - loss: 1.3730 - accuracy: 0.5934\n",
            "Epoch 4/10\n",
            "66/66 [==============================] - 1s 9ms/step - loss: 1.3671 - accuracy: 0.5934\n",
            "Epoch 5/10\n",
            "66/66 [==============================] - 1s 8ms/step - loss: 1.3682 - accuracy: 0.5934\n",
            "Epoch 6/10\n",
            "66/66 [==============================] - 1s 8ms/step - loss: 1.3610 - accuracy: 0.5934\n",
            "Epoch 7/10\n",
            "66/66 [==============================] - 1s 8ms/step - loss: 1.3584 - accuracy: 0.5934\n",
            "Epoch 8/10\n",
            "66/66 [==============================] - 1s 8ms/step - loss: 1.3608 - accuracy: 0.5934\n",
            "Epoch 9/10\n",
            "66/66 [==============================] - 1s 8ms/step - loss: 1.3572 - accuracy: 0.5934\n",
            "Epoch 10/10\n",
            "66/66 [==============================] - 1s 8ms/step - loss: 1.3585 - accuracy: 0.5934\n"
          ],
          "name": "stdout"
        },
        {
          "output_type": "execute_result",
          "data": {
            "text/plain": [
              "<tensorflow.python.keras.callbacks.History at 0x7f5a8240e358>"
            ]
          },
          "metadata": {
            "tags": []
          },
          "execution_count": 370
        }
      ]
    },
    {
      "cell_type": "code",
      "metadata": {
        "id": "Cr16I6Z6fLCN",
        "colab_type": "code",
        "colab": {
          "base_uri": "https://localhost:8080/",
          "height": 101
        },
        "outputId": "09509873-79a1-47ab-bb5a-2c6701474fdd"
      },
      "source": [
        "\n",
        "\n",
        "# Import tf to use sessions\n",
        "import tensorflow as tf\n",
        "from tensorflow.keras.metrics import top_k_categorical_accuracy\n",
        "import keras\n",
        "from sklearn.metrics import confusion_matrix,accuracy_score\n",
        "\n",
        "# Create predictions\n",
        "prediction = model.predict(X_test)\n",
        "# Map to events\n",
        "\n",
        "print(events[np.argmax(prediction[1])])\n",
        "results = model.evaluate(X_test, y_test)\n",
        "print(\"-------------------------\")\n",
        "print(\"test loss, test acc:\", results, '\\n')\n",
        "\n",
        "#model.summary()\n",
        "\n"
      ],
      "execution_count": null,
      "outputs": [
        {
          "output_type": "stream",
          "text": [
            "y_Änderung an der Maschine\n",
            "29/29 [==============================] - 0s 2ms/step - loss: 1.3678 - accuracy: 0.6109\n",
            "-------------------------\n",
            "test loss, test acc: [1.3677865266799927, 0.6109253168106079] \n",
            "\n"
          ],
          "name": "stdout"
        }
      ]
    },
    {
      "cell_type": "code",
      "metadata": {
        "id": "vPcrKE3mtIxL",
        "colab_type": "code",
        "colab": {
          "base_uri": "https://localhost:8080/",
          "height": 706
        },
        "outputId": "725af1f5-5264-482a-ec8f-e5e09ca0d475"
      },
      "source": [
        "y_pred = model.predict_classes(X_test)"
      ],
      "execution_count": null,
      "outputs": [
        {
          "output_type": "execute_result",
          "data": {
            "text/plain": [
              "array([2, 2, 2, 2, 2, 2, 2, 2, 2, 2, 2, 2, 2, 2, 2, 2, 2, 2, 2, 2, 2, 2,\n",
              "       2, 2, 2, 2, 2, 2, 2, 2, 2, 2, 2, 2, 2, 2, 2, 2, 2, 2, 2, 2, 2, 2,\n",
              "       2, 2, 2, 2, 2, 2, 2, 2, 2, 2, 2, 2, 2, 2, 2, 2, 2, 2, 2, 2, 2, 2,\n",
              "       2, 2, 2, 2, 2, 2, 2, 2, 2, 2, 2, 2, 2, 2, 2, 2, 2, 2, 2, 2, 2, 2,\n",
              "       2, 2, 2, 2, 2, 2, 2, 2, 2, 2, 2, 2, 2, 2, 2, 2, 2, 2, 2, 2, 2, 2,\n",
              "       2, 2, 2, 2, 2, 2, 2, 2, 2, 2, 2, 2, 2, 2, 2, 2, 2, 2, 2, 2, 2, 2,\n",
              "       2, 2, 2, 2, 2, 2, 2, 2, 2, 2, 2, 2, 2, 2, 2, 2, 2, 2, 2, 2, 2, 2,\n",
              "       2, 2, 2, 2, 2, 2, 2, 2, 2, 2, 2, 2, 2, 2, 2, 2, 2, 2, 2, 2, 2, 2,\n",
              "       2, 2, 2, 2, 2, 2, 2, 2, 2, 2, 2, 2, 2, 2, 2, 2, 2, 2, 2, 2, 2, 2,\n",
              "       2, 2, 2, 2, 2, 2, 2, 2, 2, 2, 2, 2, 2, 2, 2, 2, 2, 2, 2, 2, 2, 2,\n",
              "       2, 2, 2, 2, 2, 2, 2, 2, 2, 2, 2, 2, 2, 2, 2, 2, 2, 2, 2, 2, 2, 2,\n",
              "       2, 2, 2, 2, 2, 2, 2, 2, 2, 2, 2, 2, 2, 2, 2, 2, 2, 2, 2, 2, 2, 2,\n",
              "       2, 2, 2, 2, 2, 2, 2, 2, 2, 2, 2, 2, 2, 2, 2, 2, 2, 2, 2, 2, 2, 2,\n",
              "       2, 2, 2, 2, 2, 2, 2, 2, 2, 2, 2, 2, 2, 2, 2, 2, 2, 2, 2, 2, 2, 2,\n",
              "       2, 2, 2, 2, 2, 2, 2, 2, 2, 2, 2, 2, 2, 2, 2, 2, 2, 2, 2, 2, 2, 2,\n",
              "       2, 2, 2, 2, 2, 2, 2, 2, 2, 2, 2, 2, 2, 2, 2, 2, 2, 2, 2, 2, 2, 2,\n",
              "       2, 2, 2, 2, 2, 2, 2, 2, 2, 2, 2, 2, 2, 2, 2, 2, 2, 2, 2, 2, 2, 2,\n",
              "       2, 2, 2, 2, 2, 2, 2, 2, 2, 2, 2, 2, 2, 2, 2, 2, 2, 2, 2, 2, 2, 2,\n",
              "       2, 2, 2, 2, 2, 2, 2, 2, 2, 2, 2, 2, 2, 2, 2, 2, 2, 2, 2, 2, 2, 2,\n",
              "       2, 2, 2, 2, 2, 2, 2, 2, 2, 2, 2, 2, 2, 2, 2, 2, 2, 2, 2, 2, 2, 2,\n",
              "       2, 2, 2, 2, 2, 2, 2, 2, 2, 2, 2, 2, 2, 2, 2, 2, 2, 2, 2, 2, 2, 2,\n",
              "       2, 2, 2, 2, 2, 2, 2, 2, 2, 2, 2, 2, 2, 2, 2, 2, 2, 2, 2, 2, 2, 2,\n",
              "       2, 2, 2, 2, 2, 2, 2, 2, 2, 2, 2, 2, 2, 2, 2, 2, 2, 2, 2, 2, 2, 2,\n",
              "       2, 2, 2, 2, 2, 2, 2, 2, 2, 2, 2, 2, 2, 2, 2, 2, 2, 2, 2, 2, 2, 2,\n",
              "       2, 2, 2, 2, 2, 2, 2, 2, 2, 2, 2, 2, 2, 2, 2, 2, 2, 2, 2, 2, 2, 2,\n",
              "       2, 2, 2, 2, 2, 2, 2, 2, 2, 2, 2, 2, 2, 2, 2, 2, 2, 2, 2, 2, 2, 2,\n",
              "       2, 2, 2, 2, 2, 2, 2, 2, 2, 2, 2, 2, 2, 2, 2, 2, 2, 2, 2, 2, 2, 2,\n",
              "       2, 2, 2, 2, 2, 2, 2, 2, 2, 2, 2, 2, 2, 2, 2, 2, 2, 2, 2, 2, 2, 2,\n",
              "       2, 2, 2, 2, 2, 2, 2, 2, 2, 2, 2, 2, 2, 2, 2, 2, 2, 2, 2, 2, 2, 2,\n",
              "       2, 2, 2, 2, 2, 2, 2, 2, 2, 2, 2, 2, 2, 2, 2, 2, 2, 2, 2, 2, 2, 2,\n",
              "       2, 2, 2, 2, 2, 2, 2, 2, 2, 2, 2, 2, 2, 2, 2, 2, 2, 2, 2, 2, 2, 2,\n",
              "       2, 2, 2, 2, 2, 2, 2, 2, 2, 2, 2, 2, 2, 2, 2, 2, 2, 2, 2, 2, 2, 2,\n",
              "       2, 2, 2, 2, 2, 2, 2, 2, 2, 2, 2, 2, 2, 2, 2, 2, 2, 2, 2, 2, 2, 2,\n",
              "       2, 2, 2, 2, 2, 2, 2, 2, 2, 2, 2, 2, 2, 2, 2, 2, 2, 2, 2, 2, 2, 2,\n",
              "       2, 2, 2, 2, 2, 2, 2, 2, 2, 2, 2, 2, 2, 2, 2, 2, 2, 2, 2, 2, 2, 2,\n",
              "       2, 2, 2, 2, 2, 2, 2, 2, 2, 2, 2, 2, 2, 2, 2, 2, 2, 2, 2, 2, 2, 2,\n",
              "       2, 2, 2, 2, 2, 2, 2, 2, 2, 2, 2, 2, 2, 2, 2, 2, 2, 2, 2, 2, 2, 2,\n",
              "       2, 2, 2, 2, 2, 2, 2, 2, 2, 2, 2, 2, 2, 2, 2, 2, 2, 2, 2, 2, 2, 2,\n",
              "       2, 2, 2, 2, 2, 2, 2, 2, 2, 2, 2, 2, 2, 2, 2, 2, 2, 2, 2, 2, 2, 2,\n",
              "       2, 2, 2, 2, 2, 2, 2, 2, 2, 2, 2, 2, 2, 2, 2, 2, 2, 2, 2, 2, 2, 2,\n",
              "       2, 2, 2, 2, 2, 2, 2, 2, 2, 2, 2, 2, 2, 2, 2, 2, 2])"
            ]
          },
          "metadata": {
            "tags": []
          },
          "execution_count": 363
        }
      ]
    }
  ]
}